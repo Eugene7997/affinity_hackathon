{
 "cells": [
  {
   "cell_type": "code",
   "execution_count": 1,
   "metadata": {},
   "outputs": [],
   "source": [
    "\n",
    "import os\n",
    "import pandas as pd\n",
    "import seaborn as sns\n",
    "import tensorflow as tf\n",
    "import matplotlib.pyplot as plt\n",
    "import numpy as np\n",
    "\n",
<<<<<<< Updated upstream
=======
    "import scipy.io.wavfile as wav\n",
    "from os.path import isfile, join\n",
    "from scipy.fftpack import dct\n",
>>>>>>> Stashed changes
    "from python_speech_features import mfcc\n",
    "from os import listdir, path\n",
    "from keras.utils import np_utils\n",
    "from tensorflow.keras.layers import (Embedding, LSTM, GRU, Dense, MaxPooling1D, \n",
    "                                      Dropout, Reshape, LeakyReLU, ReLU, Flatten, \n",
    "                                      concatenate, Bidirectional, TimeDistributed, \n",
    "                                      add, Conv1D, SeparableConv1D, GlobalMaxPooling2D, \n",
    "                                      GlobalAveragePooling2D, Conv2D, Input, Activation, \n",
    "                                      BatchNormalization, MaxPooling2D, GlobalMaxPooling1D,\n",
    "                                      GlobalAveragePooling1D)\n",
    "from tensorflow.keras.models import (Sequential, load_model, Model)\n",
    "from tensorflow.keras.utils import to_categorical\n",
    "from tensorflow.keras import backend as K\n",
    "from tensorflow.keras.optimizers import Adamax\n",
    "from tensorflow.keras.callbacks import (ModelCheckpoint, EarlyStopping)\n",
    "from tensorflow.keras import regularizers\n",
    "from tensorflow.keras.applications.densenet import DenseNet201\n",
    "\n",
    "from sklearn.metrics import (confusion_matrix, classification_report, \n",
    "                             roc_curve, auc)\n",
    "from sklearn.model_selection import train_test_split\n",
    "from sklearn.preprocessing import LabelEncoder\n"
   ]
  },
  {
   "cell_type": "code",
   "execution_count": 2,
   "metadata": {},
   "outputs": [
    {
     "name": "stdout",
     "output_type": "stream",
     "text": [
      "[PhysicalDevice(name='/physical_device:GPU:0', device_type='GPU')]\n"
     ]
    }
   ],
   "source": [
    "print(tf.config.list_physical_devices('GPU'))"
   ]
  },
  {
   "attachments": {},
   "cell_type": "markdown",
   "metadata": {},
   "source": [
    "# 1. Pre Processing the Data"
   ]
  },
  {
   "cell_type": "code",
   "execution_count": 3,
   "metadata": {},
   "outputs": [
    {
     "data": {
      "text/html": [
       "<div>\n",
       "<style scoped>\n",
       "    .dataframe tbody tr th:only-of-type {\n",
       "        vertical-align: middle;\n",
       "    }\n",
       "\n",
       "    .dataframe tbody tr th {\n",
       "        vertical-align: top;\n",
       "    }\n",
       "\n",
       "    .dataframe thead th {\n",
       "        text-align: right;\n",
       "    }\n",
       "</style>\n",
       "<table border=\"1\" class=\"dataframe\">\n",
       "  <thead>\n",
       "    <tr style=\"text-align: right;\">\n",
       "      <th></th>\n",
       "      <th>Patient Number</th>\n",
       "      <th>Age</th>\n",
       "      <th>Sex</th>\n",
       "      <th>Adult BMI (kg/m2)</th>\n",
       "      <th>Child Weight (kg)</th>\n",
       "      <th>Child Height (cm)</th>\n",
       "    </tr>\n",
       "  </thead>\n",
       "  <tbody>\n",
       "    <tr>\n",
       "      <th>0</th>\n",
       "      <td>101</td>\n",
       "      <td>3.00</td>\n",
       "      <td>F</td>\n",
       "      <td>NaN</td>\n",
       "      <td>19.0</td>\n",
       "      <td>99.0</td>\n",
       "    </tr>\n",
       "    <tr>\n",
       "      <th>1</th>\n",
       "      <td>102</td>\n",
       "      <td>0.75</td>\n",
       "      <td>F</td>\n",
       "      <td>NaN</td>\n",
       "      <td>9.8</td>\n",
       "      <td>73.0</td>\n",
       "    </tr>\n",
       "    <tr>\n",
       "      <th>2</th>\n",
       "      <td>103</td>\n",
       "      <td>70.00</td>\n",
       "      <td>F</td>\n",
       "      <td>33.00</td>\n",
       "      <td>NaN</td>\n",
       "      <td>NaN</td>\n",
       "    </tr>\n",
       "    <tr>\n",
       "      <th>3</th>\n",
       "      <td>104</td>\n",
       "      <td>70.00</td>\n",
       "      <td>F</td>\n",
       "      <td>28.47</td>\n",
       "      <td>NaN</td>\n",
       "      <td>NaN</td>\n",
       "    </tr>\n",
       "    <tr>\n",
       "      <th>4</th>\n",
       "      <td>105</td>\n",
       "      <td>7.00</td>\n",
       "      <td>F</td>\n",
       "      <td>NaN</td>\n",
       "      <td>32.0</td>\n",
       "      <td>135.0</td>\n",
       "    </tr>\n",
       "  </tbody>\n",
       "</table>\n",
       "</div>"
      ],
      "text/plain": [
       "   Patient Number    Age Sex  Adult BMI (kg/m2)  Child Weight (kg)  \\\n",
       "0             101   3.00   F                NaN               19.0   \n",
       "1             102   0.75   F                NaN                9.8   \n",
       "2             103  70.00   F              33.00                NaN   \n",
       "3             104  70.00   F              28.47                NaN   \n",
       "4             105   7.00   F                NaN               32.0   \n",
       "\n",
       "   Child Height (cm)  \n",
       "0               99.0  \n",
       "1               73.0  \n",
       "2                NaN  \n",
       "3                NaN  \n",
       "4              135.0  "
      ]
     },
     "execution_count": 3,
     "metadata": {},
     "output_type": "execute_result"
    }
   ],
   "source": [
    "BASE_PATH = './input/final_database/'\n",
    "DATASET_PATH = './input/final_database/dataset/'\n",
    "DEMOGRAPHIC_NAMES = ['Patient Number', 'Age', 'Sex', 'Adult BMI (kg/m2)', 'Child Weight (kg)', 'Child Height (cm)']\n",
    "DIAGNOSIS_NAMES = ['Patient Number', 'Diagnosis']\n",
    "\n",
    "df_demographic = pd.read_csv(f'{BASE_PATH}/ICBHI_Challenge_demographic_information.txt', names = DEMOGRAPHIC_NAMES, sep = '\\t')\n",
    "df_diagnosis = pd.read_csv(f'{BASE_PATH}/ICBHI_Challenge_diagnosis.txt', names = DIAGNOSIS_NAMES, sep='\\t')\n",
    "df_demographic.head()"
   ]
  },
  {
   "cell_type": "code",
   "execution_count": 4,
   "metadata": {},
   "outputs": [
    {
     "data": {
      "text/html": [
       "<div>\n",
       "<style scoped>\n",
       "    .dataframe tbody tr th:only-of-type {\n",
       "        vertical-align: middle;\n",
       "    }\n",
       "\n",
       "    .dataframe tbody tr th {\n",
       "        vertical-align: top;\n",
       "    }\n",
       "\n",
       "    .dataframe thead th {\n",
       "        text-align: right;\n",
       "    }\n",
       "</style>\n",
       "<table border=\"1\" class=\"dataframe\">\n",
       "  <thead>\n",
       "    <tr style=\"text-align: right;\">\n",
       "      <th></th>\n",
       "      <th>Patient Number</th>\n",
       "      <th>Diagnosis</th>\n",
       "    </tr>\n",
       "  </thead>\n",
       "  <tbody>\n",
       "    <tr>\n",
       "      <th>0</th>\n",
       "      <td>101</td>\n",
       "      <td>URTI</td>\n",
       "    </tr>\n",
       "    <tr>\n",
       "      <th>1</th>\n",
       "      <td>102</td>\n",
       "      <td>Healthy</td>\n",
       "    </tr>\n",
       "    <tr>\n",
       "      <th>2</th>\n",
       "      <td>103</td>\n",
       "      <td>Asthma</td>\n",
       "    </tr>\n",
       "    <tr>\n",
       "      <th>3</th>\n",
       "      <td>104</td>\n",
       "      <td>COPD</td>\n",
       "    </tr>\n",
       "    <tr>\n",
       "      <th>4</th>\n",
       "      <td>105</td>\n",
       "      <td>URTI</td>\n",
       "    </tr>\n",
       "  </tbody>\n",
       "</table>\n",
       "</div>"
      ],
      "text/plain": [
       "   Patient Number Diagnosis\n",
       "0             101      URTI\n",
       "1             102   Healthy\n",
       "2             103    Asthma\n",
       "3             104      COPD\n",
       "4             105      URTI"
      ]
     },
     "execution_count": 4,
     "metadata": {},
     "output_type": "execute_result"
    }
   ],
   "source": [
    "df_diagnosis.head()"
   ]
  },
  {
   "cell_type": "code",
   "execution_count": 5,
   "metadata": {},
   "outputs": [
    {
     "data": {
      "text/plain": [
       "COPD              64\n",
       "Healthy           26\n",
       "URTI              14\n",
       "Bronchiectasis     7\n",
       "Pneumonia          6\n",
       "Bronchiolitis      6\n",
       "LRTI               2\n",
       "Asthma             1\n",
       "Name: Diagnosis, dtype: int64"
      ]
     },
     "execution_count": 5,
     "metadata": {},
     "output_type": "execute_result"
    }
   ],
   "source": [
    "df =  df_demographic.merge(df_diagnosis, on=DEMOGRAPHIC_NAMES[0])\n",
    "df[DIAGNOSIS_NAMES[1]].value_counts()"
   ]
  },
  {
   "cell_type": "code",
   "execution_count": 6,
   "metadata": {},
   "outputs": [
    {
     "data": {
      "text/html": [
       "<div>\n",
       "<style scoped>\n",
       "    .dataframe tbody tr th:only-of-type {\n",
       "        vertical-align: middle;\n",
       "    }\n",
       "\n",
       "    .dataframe tbody tr th {\n",
       "        vertical-align: top;\n",
       "    }\n",
       "\n",
       "    .dataframe thead th {\n",
       "        text-align: right;\n",
       "    }\n",
       "</style>\n",
       "<table border=\"1\" class=\"dataframe\">\n",
       "  <thead>\n",
       "    <tr style=\"text-align: right;\">\n",
       "      <th></th>\n",
       "      <th>Patient Number</th>\n",
       "      <th>Age</th>\n",
       "      <th>Sex</th>\n",
       "      <th>Adult BMI (kg/m2)</th>\n",
       "      <th>Child Weight (kg)</th>\n",
       "      <th>Child Height (cm)</th>\n",
       "      <th>Diagnosis</th>\n",
       "    </tr>\n",
       "  </thead>\n",
       "  <tbody>\n",
       "    <tr>\n",
       "      <th>0</th>\n",
       "      <td>101</td>\n",
       "      <td>3.00</td>\n",
       "      <td>F</td>\n",
       "      <td>NaN</td>\n",
       "      <td>19.0</td>\n",
       "      <td>99.0</td>\n",
       "      <td>URTI</td>\n",
       "    </tr>\n",
       "    <tr>\n",
       "      <th>1</th>\n",
       "      <td>102</td>\n",
       "      <td>0.75</td>\n",
       "      <td>F</td>\n",
       "      <td>NaN</td>\n",
       "      <td>9.8</td>\n",
       "      <td>73.0</td>\n",
       "      <td>Healthy</td>\n",
       "    </tr>\n",
       "    <tr>\n",
       "      <th>2</th>\n",
       "      <td>103</td>\n",
       "      <td>70.00</td>\n",
       "      <td>F</td>\n",
       "      <td>33.00</td>\n",
       "      <td>NaN</td>\n",
       "      <td>NaN</td>\n",
       "      <td>Asthma</td>\n",
       "    </tr>\n",
       "    <tr>\n",
       "      <th>3</th>\n",
       "      <td>104</td>\n",
       "      <td>70.00</td>\n",
       "      <td>F</td>\n",
       "      <td>28.47</td>\n",
       "      <td>NaN</td>\n",
       "      <td>NaN</td>\n",
       "      <td>COPD</td>\n",
       "    </tr>\n",
       "    <tr>\n",
       "      <th>4</th>\n",
       "      <td>105</td>\n",
       "      <td>7.00</td>\n",
       "      <td>F</td>\n",
       "      <td>NaN</td>\n",
       "      <td>32.0</td>\n",
       "      <td>135.0</td>\n",
       "      <td>URTI</td>\n",
       "    </tr>\n",
       "  </tbody>\n",
       "</table>\n",
       "</div>"
      ],
      "text/plain": [
       "   Patient Number    Age Sex  Adult BMI (kg/m2)  Child Weight (kg)  \\\n",
       "0             101   3.00   F                NaN               19.0   \n",
       "1             102   0.75   F                NaN                9.8   \n",
       "2             103  70.00   F              33.00                NaN   \n",
       "3             104  70.00   F              28.47                NaN   \n",
       "4             105   7.00   F                NaN               32.0   \n",
       "\n",
       "   Child Height (cm) Diagnosis  \n",
       "0               99.0      URTI  \n",
       "1               73.0   Healthy  \n",
       "2                NaN    Asthma  \n",
       "3                NaN      COPD  \n",
       "4              135.0      URTI  "
      ]
     },
     "execution_count": 6,
     "metadata": {},
     "output_type": "execute_result"
    }
   ],
   "source": [
    "df.head()"
   ]
  },
  {
   "attachments": {},
   "cell_type": "markdown",
   "metadata": {},
   "source": [
    "# 2. Reading Dataset"
   ]
  },
  {
   "cell_type": "code",
   "execution_count": 7,
   "metadata": {},
   "outputs": [
    {
     "name": "stdout",
     "output_type": "stream",
     "text": [
      "Total number of test files: 920\n"
     ]
    }
   ],
   "source": [
    "textfiles = [f for f in listdir(DATASET_PATH) if (os.path.isfile(join(DATASET_PATH, f)) and f.endswith('.txt'))] \n",
    "print(f'Total number of test files: {len(textfiles)}')"
   ]
  },
  {
   "attachments": {},
   "cell_type": "markdown",
   "metadata": {},
   "source": [
    "## Respiratory Cycle Data"
   ]
  },
  {
   "cell_type": "code",
   "execution_count": 8,
   "metadata": {},
   "outputs": [],
   "source": [
<<<<<<< Updated upstream
    "filenames = [f for f in listdir(DATASET_PATH) if (isfile(join(DATASET_PATH, f)) and f.endswith('.wav'))] \n",
    "# patient_id = np.array([])\n",
    "\n",
    "# for label in filenames:\n",
    "#     patient_id = np.append(patient_id, label.split('_')[0])\n",
    "\n",
    "# patient_id = patient_id.astype(int)\n",
    "# print(patient_id.shape)"
=======
    "def Extract_Annotation_Data(file_name, root):\n",
    "    tokens = file_name.split('_')\n",
    "    recording_info = pd.DataFrame(data=[tokens], columns=['Patient Number', 'Recording Index', 'Chest Location', 'Acquisition mode', 'Recording equipment'])\n",
    "    recording_annotations = pd.read_csv(os.path.join(root, file_name), names=['Start', 'End', 'Crackles', 'Wheezes'], delimiter='\\t')\n",
    "    recording_info['Recording equipment'] = recording_info['Recording equipment'].str.replace('.txt', '', regex=False)\n",
    "    return (recording_info, recording_annotations)"
   ]
  },
  {
   "cell_type": "code",
   "execution_count": 9,
   "metadata": {},
   "outputs": [
    {
     "data": {
      "text/html": [
       "<div>\n",
       "<style scoped>\n",
       "    .dataframe tbody tr th:only-of-type {\n",
       "        vertical-align: middle;\n",
       "    }\n",
       "\n",
       "    .dataframe tbody tr th {\n",
       "        vertical-align: top;\n",
       "    }\n",
       "\n",
       "    .dataframe thead th {\n",
       "        text-align: right;\n",
       "    }\n",
       "</style>\n",
       "<table border=\"1\" class=\"dataframe\">\n",
       "  <thead>\n",
       "    <tr style=\"text-align: right;\">\n",
       "      <th></th>\n",
       "      <th>Patient Number</th>\n",
       "      <th>Recording Index</th>\n",
       "      <th>Chest Location</th>\n",
       "      <th>Acquisition mode</th>\n",
       "      <th>Recording equipment</th>\n",
       "    </tr>\n",
       "  </thead>\n",
       "  <tbody>\n",
       "    <tr>\n",
       "      <th>0</th>\n",
       "      <td>130</td>\n",
       "      <td>1p2</td>\n",
       "      <td>Pl</td>\n",
       "      <td>mc</td>\n",
       "      <td>AKGC417L</td>\n",
       "    </tr>\n",
       "    <tr>\n",
       "      <th>0</th>\n",
       "      <td>205</td>\n",
       "      <td>2b4</td>\n",
       "      <td>Pl</td>\n",
       "      <td>mc</td>\n",
       "      <td>AKGC417L</td>\n",
       "    </tr>\n",
       "    <tr>\n",
       "      <th>0</th>\n",
       "      <td>186</td>\n",
       "      <td>2b4</td>\n",
       "      <td>Ar</td>\n",
       "      <td>mc</td>\n",
       "      <td>AKGC417L</td>\n",
       "    </tr>\n",
       "    <tr>\n",
       "      <th>0</th>\n",
       "      <td>174</td>\n",
       "      <td>1p4</td>\n",
       "      <td>Pr</td>\n",
       "      <td>mc</td>\n",
       "      <td>AKGC417L</td>\n",
       "    </tr>\n",
       "    <tr>\n",
       "      <th>0</th>\n",
       "      <td>186</td>\n",
       "      <td>2b4</td>\n",
       "      <td>Al</td>\n",
       "      <td>mc</td>\n",
       "      <td>AKGC417L</td>\n",
       "    </tr>\n",
       "  </tbody>\n",
       "</table>\n",
       "</div>"
      ],
      "text/plain": [
       "  Patient Number Recording Index Chest Location Acquisition mode  \\\n",
       "0            130             1p2             Pl               mc   \n",
       "0            205             2b4             Pl               mc   \n",
       "0            186             2b4             Ar               mc   \n",
       "0            174             1p4             Pr               mc   \n",
       "0            186             2b4             Al               mc   \n",
       "\n",
       "  Recording equipment  \n",
       "0            AKGC417L  \n",
       "0            AKGC417L  \n",
       "0            AKGC417L  \n",
       "0            AKGC417L  \n",
       "0            AKGC417L  "
      ]
     },
     "execution_count": 9,
     "metadata": {},
     "output_type": "execute_result"
    }
   ],
   "source": [
    "i_list = []\n",
    "rec_annotations = []\n",
    "rec_annotations_dict = {}\n",
    "for s in textfiles:\n",
    "    (i,a) = Extract_Annotation_Data(s, DATASET_PATH)\n",
    "    i_list.append(i)\n",
    "    rec_annotations.append(a)\n",
    "    rec_annotations_dict[s] = a\n",
    "\n",
    "my_index = pd.Series(list(rec_annotations_dict.keys()))\n",
    "recording_info = pd.concat(i_list, axis = 0)\n",
    "recording_info.head()\n"
   ]
  },
  {
   "cell_type": "code",
   "execution_count": 10,
   "metadata": {},
   "outputs": [],
   "source": [
    "res_rate_list = []\n",
    "for i in range (len(textfiles)):\n",
    "    cycle_df = pd.DataFrame( list(rec_annotations_dict.values())[i],columns=['Start', 'End' ,'cycle length'])\n",
    "    cycle_df['cycle length'] = cycle_df['End']-cycle_df['Start']\n",
    "    average = cycle_df[[\"Start\",\"End\",\"cycle length\"]].mean(axis=0)\n",
    "    df = pd.DataFrame(average).T\n",
    "    res_rate_list.append(df)"
>>>>>>> Stashed changes
   ]
  },
  {
   "cell_type": "code",
   "execution_count": 8,
   "metadata": {},
   "outputs": [
    {
     "data": {
      "text/html": [
       "<div>\n",
       "<style scoped>\n",
       "    .dataframe tbody tr th:only-of-type {\n",
       "        vertical-align: middle;\n",
       "    }\n",
       "\n",
       "    .dataframe tbody tr th {\n",
       "        vertical-align: top;\n",
       "    }\n",
       "\n",
       "    .dataframe thead th {\n",
       "        text-align: right;\n",
       "    }\n",
       "</style>\n",
       "<table border=\"1\" class=\"dataframe\">\n",
       "  <thead>\n",
       "    <tr style=\"text-align: right;\">\n",
       "      <th></th>\n",
       "      <th>Start</th>\n",
       "      <th>End</th>\n",
       "      <th>cycle length</th>\n",
       "      <th>filename</th>\n",
       "    </tr>\n",
       "  </thead>\n",
       "  <tbody>\n",
       "    <tr>\n",
       "      <th>160</th>\n",
       "      <td>8.639333</td>\n",
       "      <td>10.300000</td>\n",
       "      <td>1.660667</td>\n",
       "      <td>101</td>\n",
       "    </tr>\n",
       "    <tr>\n",
       "      <th>509</th>\n",
       "      <td>9.365636</td>\n",
       "      <td>11.174727</td>\n",
       "      <td>1.809091</td>\n",
       "      <td>101</td>\n",
       "    </tr>\n",
       "    <tr>\n",
       "      <th>846</th>\n",
       "      <td>9.807231</td>\n",
       "      <td>11.322615</td>\n",
       "      <td>1.515385</td>\n",
       "      <td>102</td>\n",
       "    </tr>\n",
       "    <tr>\n",
       "      <th>399</th>\n",
       "      <td>8.778667</td>\n",
       "      <td>12.047833</td>\n",
       "      <td>3.269167</td>\n",
       "      <td>103</td>\n",
       "    </tr>\n",
       "    <tr>\n",
       "      <th>711</th>\n",
       "      <td>5.434450</td>\n",
       "      <td>8.077117</td>\n",
       "      <td>2.642667</td>\n",
       "      <td>104</td>\n",
       "    </tr>\n",
       "    <tr>\n",
       "      <th>...</th>\n",
       "      <td>...</td>\n",
       "      <td>...</td>\n",
       "      <td>...</td>\n",
       "      <td>...</td>\n",
       "    </tr>\n",
       "    <tr>\n",
       "      <th>131</th>\n",
       "      <td>9.980571</td>\n",
       "      <td>12.831571</td>\n",
       "      <td>2.851000</td>\n",
       "      <td>224</td>\n",
       "    </tr>\n",
       "    <tr>\n",
       "      <th>279</th>\n",
       "      <td>9.587714</td>\n",
       "      <td>11.012214</td>\n",
       "      <td>1.424500</td>\n",
       "      <td>225</td>\n",
       "    </tr>\n",
       "    <tr>\n",
       "      <th>56</th>\n",
       "      <td>8.942800</td>\n",
       "      <td>10.927100</td>\n",
       "      <td>1.984300</td>\n",
       "      <td>226</td>\n",
       "    </tr>\n",
       "    <tr>\n",
       "      <th>94</th>\n",
       "      <td>8.444400</td>\n",
       "      <td>10.438600</td>\n",
       "      <td>1.994200</td>\n",
       "      <td>226</td>\n",
       "    </tr>\n",
       "    <tr>\n",
       "      <th>309</th>\n",
       "      <td>9.648818</td>\n",
       "      <td>11.461818</td>\n",
       "      <td>1.813000</td>\n",
       "      <td>226</td>\n",
       "    </tr>\n",
       "  </tbody>\n",
       "</table>\n",
       "<p>920 rows × 4 columns</p>\n",
       "</div>"
      ],
      "text/plain": [
       "        Start        End  cycle length filename\n",
       "160  8.639333  10.300000      1.660667      101\n",
       "509  9.365636  11.174727      1.809091      101\n",
       "846  9.807231  11.322615      1.515385      102\n",
       "399  8.778667  12.047833      3.269167      103\n",
       "711  5.434450   8.077117      2.642667      104\n",
       "..        ...        ...           ...      ...\n",
       "131  9.980571  12.831571      2.851000      224\n",
       "279  9.587714  11.012214      1.424500      225\n",
       "56   8.942800  10.927100      1.984300      226\n",
       "94   8.444400  10.438600      1.994200      226\n",
       "309  9.648818  11.461818      1.813000      226\n",
       "\n",
       "[920 rows x 4 columns]"
      ]
     },
     "execution_count": 11,
     "metadata": {},
     "output_type": "execute_result"
    }
   ],
   "source": [
    "res_rate_df = pd.concat(res_rate_list,ignore_index =True)\n",
    "res_rate_df['filename']= my_index.values\n",
    "res_rate_df['filename']= res_rate_df['filename'].str[:3]\n",
    "res_rate_df.sort_values(by=['filename'])"
   ]
  },
  {
   "cell_type": "code",
   "execution_count": 12,
   "metadata": {},
   "outputs": [
    {
     "data": {
      "text/html": [
       "<div>\n",
       "<style scoped>\n",
       "    .dataframe tbody tr th:only-of-type {\n",
       "        vertical-align: middle;\n",
       "    }\n",
       "\n",
       "    .dataframe tbody tr th {\n",
       "        vertical-align: top;\n",
       "    }\n",
       "\n",
       "    .dataframe thead th {\n",
       "        text-align: right;\n",
       "    }\n",
       "</style>\n",
       "<table border=\"1\" class=\"dataframe\">\n",
       "  <thead>\n",
       "    <tr style=\"text-align: right;\">\n",
       "      <th></th>\n",
       "      <th>Start</th>\n",
       "      <th>End</th>\n",
       "      <th>cycle length</th>\n",
       "      <th>respiratory rate</th>\n",
       "      <th>Diagnosis</th>\n",
       "    </tr>\n",
       "    <tr>\n",
       "      <th>filename</th>\n",
       "      <th></th>\n",
       "      <th></th>\n",
       "      <th></th>\n",
       "      <th></th>\n",
       "      <th></th>\n",
       "    </tr>\n",
       "  </thead>\n",
       "  <tbody>\n",
       "    <tr>\n",
       "      <th>101</th>\n",
       "      <td>9.002485</td>\n",
       "      <td>10.737364</td>\n",
       "      <td>1.734879</td>\n",
       "      <td>34.0</td>\n",
       "      <td>High</td>\n",
       "    </tr>\n",
       "    <tr>\n",
       "      <th>102</th>\n",
       "      <td>9.807231</td>\n",
       "      <td>11.322615</td>\n",
       "      <td>1.515385</td>\n",
       "      <td>39.0</td>\n",
       "      <td>High</td>\n",
       "    </tr>\n",
       "    <tr>\n",
       "      <th>103</th>\n",
       "      <td>8.778667</td>\n",
       "      <td>12.047833</td>\n",
       "      <td>3.269167</td>\n",
       "      <td>18.0</td>\n",
       "      <td>Normal</td>\n",
       "    </tr>\n",
       "    <tr>\n",
       "      <th>104</th>\n",
       "      <td>8.795221</td>\n",
       "      <td>11.078845</td>\n",
       "      <td>2.283624</td>\n",
       "      <td>26.0</td>\n",
       "      <td>High</td>\n",
       "    </tr>\n",
       "    <tr>\n",
       "      <th>105</th>\n",
       "      <td>9.198375</td>\n",
       "      <td>11.682250</td>\n",
       "      <td>2.483875</td>\n",
       "      <td>24.0</td>\n",
       "      <td>Normal</td>\n",
       "    </tr>\n",
       "  </tbody>\n",
       "</table>\n",
       "</div>"
      ],
      "text/plain": [
       "             Start        End  cycle length  respiratory rate Diagnosis\n",
       "filename                                                               \n",
       "101       9.002485  10.737364      1.734879              34.0      High\n",
       "102       9.807231  11.322615      1.515385              39.0      High\n",
       "103       8.778667  12.047833      3.269167              18.0    Normal\n",
       "104       8.795221  11.078845      2.283624              26.0      High\n",
       "105       9.198375  11.682250      2.483875              24.0    Normal"
      ]
     },
     "execution_count": 12,
     "metadata": {},
     "output_type": "execute_result"
    }
   ],
   "source": [
    "# Respiratory cycle = Cycle length // 60 seconds \n",
    "avg = res_rate_df.groupby('filename').mean()\n",
    "avg['respiratory rate'] = 60 // avg['cycle length'] \n",
    "\n",
    "# Normal Respiratory Rate (12-25) cycle/min\n",
    "avg.loc[avg['respiratory rate'] > 25, 'Diagnosis'] = \"High\" \n",
    "avg['Diagnosis'].fillna('Normal', inplace=True)\n",
    "avg.head()"
   ]
  },
  {
   "cell_type": "code",
   "execution_count": 13,
   "metadata": {},
   "outputs": [
    {
     "data": {
      "text/plain": [
       "Text(0.5, 1.0, 'Respiratory Rate Distribution')"
      ]
     },
     "execution_count": 13,
     "metadata": {},
     "output_type": "execute_result"
    },
    {
     "data": {
      "image/png": "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",
      "text/plain": [
       "<Figure size 432x288 with 1 Axes>"
      ]
     },
     "metadata": {
      "needs_background": "light"
     },
     "output_type": "display_data"
    }
   ],
   "source": [
    "sns.countplot(x='Diagnosis', data=avg)\n",
    "plt.title('Respiratory Rate Distribution')"
   ]
  },
  {
   "cell_type": "code",
   "execution_count": 14,
   "metadata": {},
   "outputs": [
    {
     "data": {
      "text/html": [
       "<div>\n",
       "<style scoped>\n",
       "    .dataframe tbody tr th:only-of-type {\n",
       "        vertical-align: middle;\n",
       "    }\n",
       "\n",
       "    .dataframe tbody tr th {\n",
       "        vertical-align: top;\n",
       "    }\n",
       "\n",
       "    .dataframe thead th {\n",
       "        text-align: right;\n",
       "    }\n",
       "</style>\n",
       "<table border=\"1\" class=\"dataframe\">\n",
       "  <thead>\n",
       "    <tr style=\"text-align: right;\">\n",
       "      <th></th>\n",
       "      <th>Patient Number</th>\n",
       "      <th>Diagnosis</th>\n",
       "    </tr>\n",
       "  </thead>\n",
       "  <tbody>\n",
       "    <tr>\n",
       "      <th>0</th>\n",
       "      <td>101</td>\n",
       "      <td>High</td>\n",
       "    </tr>\n",
       "    <tr>\n",
       "      <th>1</th>\n",
       "      <td>102</td>\n",
       "      <td>High</td>\n",
       "    </tr>\n",
       "    <tr>\n",
       "      <th>2</th>\n",
       "      <td>103</td>\n",
       "      <td>Normal</td>\n",
       "    </tr>\n",
       "    <tr>\n",
       "      <th>3</th>\n",
       "      <td>104</td>\n",
       "      <td>High</td>\n",
       "    </tr>\n",
       "    <tr>\n",
       "      <th>4</th>\n",
       "      <td>105</td>\n",
       "      <td>Normal</td>\n",
       "    </tr>\n",
       "  </tbody>\n",
       "</table>\n",
       "</div>"
      ],
      "text/plain": [
       "  Patient Number Diagnosis\n",
       "0            101      High\n",
       "1            102      High\n",
       "2            103    Normal\n",
       "3            104      High\n",
       "4            105    Normal"
      ]
     },
     "execution_count": 14,
     "metadata": {},
     "output_type": "execute_result"
    }
   ],
   "source": [
    "rr_diagnosis = avg[['Diagnosis']].rename_axis('Patient Number').reset_index()\n",
    "rr_diagnosis.head()"
   ]
  },
  {
   "attachments": {},
   "cell_type": "markdown",
   "metadata": {},
   "source": [
    "## MFCC Data\n"
   ]
  },
  {
   "cell_type": "code",
   "execution_count": 15,
   "metadata": {},
   "outputs": [],
   "source": [
    "filenames = [f for f in listdir(DATASET_PATH) if (os.path.isfile(join(DATASET_PATH, f)) and f.endswith('.wav'))] "
   ]
  },
  {
   "cell_type": "code",
   "execution_count": 16,
   "metadata": {},
   "outputs": [],
   "source": [
<<<<<<< Updated upstream
    "# Most MFCC are shaped at (40, 862) with some having more pad lengths.\n",
    "# This needs to be kept constant\n",
    "max_pad_len = 862\n",
=======
    "\n",
    "max_pad_len = 862 # to make the length of all MFCC equal\n",
>>>>>>> Stashed changes
    "\n",
    "def feature_extraction(file_name):\n",
    "    \"\"\"\n",
    "    This function takes in the path for an audio file as a string, loads it, and returns the MFCC\n",
    "    of the audio\"\"\"\n",
    "   \n",
    "    try:\n",
<<<<<<< Updated upstream
    "        with wave.open(file_name) as wave_file:\n",
    "            sample_rate = wave_file.getframerate()\n",
    "            audio = np.frombuffer(wave_file.readframes(-1), dtype=np.int16)\n",
    "        mfccs = mfcc(audio, samplerate=sample_rate, numcep=40, nfft=2048)\n",
    "        pad_width = max_pad_len - mfccs.shape[1]\n",
    "        if pad_width > 0:\n",
    "            mfccs = np.pad(mfccs, pad_width=((0, 0), (0, pad_width)), mode='constant')\n",
    "        else:\n",
    "            mfccs = mfccs[:, :max_pad_len]\n",
=======
    "        # addition_data = rr_diagnosis[rr_diagnosis['Patient Number'] == file_name.split('/')[-1].split('_')[0]][['Diagnosis']].values[0][0]\n",
    "        # Load audio file and get sample rate\n",
    "        (rate, signal) = wav.read(file_name)\n",
    "        \n",
    "        # Compute MFCCs\n",
    "        mfccs = mfcc(signal, rate, numcep=40, nfilt=40, nfft=2048)\n",
    "        \n",
    "        # Pad or truncate MFCCs to have a fixed length\n",
    "        pad_width = max_pad_len - mfccs.shape[0]\n",
    "        if pad_width < 0:\n",
    "            mfccs = mfccs[:max_pad_len, :]\n",
    "        else:\n",
    "            mfccs = np.pad(mfccs, ((0, pad_width), (0, 0)), mode='constant')\n",
    "    \n",
>>>>>>> Stashed changes
    "        \n",
    "        # mfccs = np.append(mfccs, addition_data)\n",
    "    except Exception as e:\n",
    "        print(\"Error encountered while parsing file: \", file_name)\n",
    "        return None \n",
    "     \n",
    "    return mfccs"
   ]
  },
  {
   "cell_type": "code",
<<<<<<< Updated upstream
   "execution_count": 9,
   "metadata": {},
   "outputs": [
    {
     "name": "stdout",
     "output_type": "stream",
     "text": [
      "Error encountered while parsing file:  ./input/final_database/dataset/127_1b1_Ar_sc_Meditron.wav\n"
     ]
    }
   ],
=======
   "execution_count": 17,
   "metadata": {},
   "outputs": [],
>>>>>>> Stashed changes
   "source": [
    "# Needs to be re-run if you want to extract labels again :/\n",
    "df_diagnosis = pd.read_csv(f\"{BASE_PATH}/ICBHI_Challenge_diagnosis.txt\",header=None, sep=\"\\t\")\n",
    "wav_filepaths = [f'{DATASET_PATH}{f}' for f in filenames]\n",
    "\n",
    "patient_id = np.array([])\n",
    "features = []\n",
    "\n",
    "# Iterate through each sound file and extract the features\n",
    "for file_name in wav_filepaths:\n",
    "    data = feature_extraction(file_name)\n",
    "    if data is not None:\n",
    "        features.append(data)\n",
    "        patient_id = np.append(patient_id, file_name.split('/')[-1].split('_')[0])\n",
    "        \n",
<<<<<<< Updated upstream
    "patient_id = patient_id.astype(int)\n",
=======
    "patient_id = patient_id.astype(int)\n"
   ]
  },
  {
   "cell_type": "code",
   "execution_count": 18,
   "metadata": {},
   "outputs": [
    {
     "name": "stdout",
     "output_type": "stream",
     "text": [
      "Extracted features from 920 files with 920 labels with 920 patient ids\n"
     ]
    }
   ],
   "source": [
    "df_diagnosis = pd.read_csv(f\"{BASE_PATH}/ICBHI_Challenge_diagnosis.txt\",header=None, sep=\"\\t\")\n",
>>>>>>> Stashed changes
    "labels = np.array([df_diagnosis[df_diagnosis[0] == x][1].values[0] for x in patient_id])\n",
    "features = np.array(features)\n",
    "\n",
    "print(f'Extracted features from {len(features)} files with {len(labels)} labels with {len(patient_id)} patient ids')"
   ]
  },
  {
   "cell_type": "code",
<<<<<<< Updated upstream
   "execution_count": null,
=======
   "execution_count": 19,
>>>>>>> Stashed changes
   "metadata": {},
   "outputs": [],
   "source": [
    "# delete the very rare diseases\n",
    "features = np.delete(features, np.where((labels == 'Asthma') | (labels == 'LRTI'))[0], axis=0) \n",
    "\n",
    "labels = np.delete(labels, np.where((labels == 'Asthma') | (labels == 'LRTI'))[0], axis=0)"
   ]
  },
  {
   "cell_type": "code",
<<<<<<< Updated upstream
   "execution_count": null,
=======
   "execution_count": 20,
>>>>>>> Stashed changes
   "metadata": {},
   "outputs": [],
   "source": [
    "unique, counts = np.unique(labels, return_counts=True)\n",
    "print(np.asarray((unique, counts)).T)"
   ]
  },
  {
   "cell_type": "code",
<<<<<<< Updated upstream
   "execution_count": null,
=======
   "execution_count": 21,
>>>>>>> Stashed changes
   "metadata": {},
   "outputs": [],
   "source": [
    "y_pos = np.arange(len(unique))\n",
    "plt.figure(figsize=(12, 4))\n",
    "sns.barplot(x=unique, y=counts, palette='Blues_d')\n",
    "sns.set_style('whitegrid')\n",
    "plt.xticks(y_pos, unique)\n",
    "plt.ylabel('Count')\n",
    "plt.xlabel('Disease')\n",
    "plt.title('Count of diseases in sound files with Asthma or LRTI removed')\n",
    "plt.show()"
   ]
  },
  {
   "cell_type": "code",
<<<<<<< Updated upstream
   "execution_count": null,
=======
   "execution_count": 22,
>>>>>>> Stashed changes
   "metadata": {},
   "outputs": [],
   "source": [
    "# One-hot encode labels\n",
    "le = LabelEncoder()\n",
    "i_labels = le.fit_transform(labels)\n",
    "oh_labels = to_categorical(i_labels) \n"
   ]
  },
  {
   "cell_type": "code",
<<<<<<< Updated upstream
   "execution_count": null,
=======
   "execution_count": 23,
>>>>>>> Stashed changes
   "metadata": {},
   "outputs": [],
   "source": [
    "# add channel dimension for CNN\n",
    "features = np.reshape(features, (*features.shape,1)) "
   ]
  },
  {
   "attachments": {},
   "cell_type": "markdown",
   "metadata": {},
   "source": [
    "# 3. Tensorflow Training"
   ]
  },
  {
   "cell_type": "code",
<<<<<<< Updated upstream
   "execution_count": null,
=======
   "execution_count": 24,
>>>>>>> Stashed changes
   "metadata": {},
   "outputs": [],
   "source": [
    "# train test split\n",
    "x_train, x_test, y_train, y_test = train_test_split(features, oh_labels, stratify=oh_labels, test_size=0.2, random_state=42)"
   ]
  },
  {
   "cell_type": "code",
<<<<<<< Updated upstream
   "execution_count": null,
=======
   "execution_count": 25,
>>>>>>> Stashed changes
   "metadata": {},
   "outputs": [],
   "source": [
    "num_rows = 40\n",
    "num_columns = 862\n",
    "num_channels = 1\n",
    "\n",
    "num_labels = oh_labels.shape[1]\n",
    "filter_size = 2\n",
    "\n",
    "\n",
    "# Construct model \n",
    "model = Sequential()\n",
    "model.add(Conv2D(filters=16, kernel_size=filter_size,input_shape=(num_rows, num_columns, num_channels), activation='relu'))\n",
    "model.add(MaxPooling2D(pool_size=2))\n",
    "\n",
    "\n",
    "model.add(Conv2D(filters=32, kernel_size=filter_size, activation='relu'))\n",
    "model.add(MaxPooling2D(pool_size=2))\n",
    "\n",
    "\n",
    "model.add(Conv2D(filters=64, kernel_size=filter_size, activation='relu'))\n",
    "model.add(MaxPooling2D(pool_size=2))\n",
    "model.add(Dropout(0.2))\n",
    "\n",
    "model.add(Conv2D(filters=128, kernel_size=filter_size, activation='relu'))\n",
    "model.add(MaxPooling2D(pool_size=2))\n",
    "model.add(Dropout(0.2))\n",
    "\n",
    "model.add(GlobalAveragePooling2D())\n",
    "# model.add(TimeDistributed(Flatten()))\n",
    "# model.add(Dropout(0.4))\n",
    "# model.add(GRU(units=64, return_sequences=True))\n",
    "# model.add(GlobalAveragePooling1D())\n",
    "\n",
    "model.add(Dropout(0.3))\n",
    "model.add(Dense(64, activation='relu'))\n",
    "model.add(Dropout(0.3))\n",
    "model.add(Dense(32, activation='relu'))\n",
    "model.add(Dense(num_labels, activation='softmax')) "
   ]
  },
  {
   "cell_type": "code",
<<<<<<< Updated upstream
   "execution_count": null,
=======
   "execution_count": 26,
>>>>>>> Stashed changes
   "metadata": {},
   "outputs": [
    {
     "ename": "",
     "evalue": "",
     "output_type": "error",
     "traceback": [
      "\u001b[1;31mThe Kernel crashed while executing code in the the current cell or a previous cell. Please review the code in the cell(s) to identify a possible cause of the failure. Click <a href='https://aka.ms/vscodeJupyterKernelCrash'>here</a> for more info. View Jupyter <a href='command:jupyter.viewOutput'>log</a> for further details."
     ]
    }
   ],
   "source": [
    "# Compile the model\n",
    "model.compile(loss='categorical_crossentropy', metrics=['accuracy'], optimizer='adam') \n",
<<<<<<< Updated upstream
    "print(tf.config.list_physical_devices('GPU'))\n",
    "\n",
=======
    "print(tf.config.list_physical_devices('GPU'))"
   ]
  },
  {
   "cell_type": "code",
   "execution_count": 27,
   "metadata": {},
   "outputs": [
    {
     "name": "stdout",
     "output_type": "stream",
     "text": [
      "Model: \"sequential\"\n",
      "_________________________________________________________________\n",
      " Layer (type)                Output Shape              Param #   \n",
      "=================================================================\n",
      " conv2d (Conv2D)             (None, 861, 39, 16)       80        \n",
      "                                                                 \n",
      " max_pooling2d (MaxPooling2D  (None, 430, 19, 16)      0         \n",
      " )                                                               \n",
      "                                                                 \n",
      " conv2d_1 (Conv2D)           (None, 429, 18, 32)       2080      \n",
      "                                                                 \n",
      " max_pooling2d_1 (MaxPooling  (None, 214, 9, 32)       0         \n",
      " 2D)                                                             \n",
      "                                                                 \n",
      " conv2d_2 (Conv2D)           (None, 213, 8, 64)        8256      \n",
      "                                                                 \n",
      " max_pooling2d_2 (MaxPooling  (None, 106, 4, 64)       0         \n",
      " 2D)                                                             \n",
      "                                                                 \n",
      " dropout (Dropout)           (None, 106, 4, 64)        0         \n",
      "                                                                 \n",
      " conv2d_3 (Conv2D)           (None, 105, 3, 128)       32896     \n",
      "                                                                 \n",
      " max_pooling2d_3 (MaxPooling  (None, 52, 1, 128)       0         \n",
      " 2D)                                                             \n",
      "                                                                 \n",
      " dropout_1 (Dropout)         (None, 52, 1, 128)        0         \n",
      "                                                                 \n",
      " global_average_pooling2d (G  (None, 128)              0         \n",
      " lobalAveragePooling2D)                                          \n",
      "                                                                 \n",
      " dropout_2 (Dropout)         (None, 128)               0         \n",
      "                                                                 \n",
      " dense (Dense)               (None, 64)                8256      \n",
      "                                                                 \n",
      " dropout_3 (Dropout)         (None, 64)                0         \n",
      "                                                                 \n",
      " dense_1 (Dense)             (None, 32)                2080      \n",
      "                                                                 \n",
      " dense_2 (Dense)             (None, 6)                 198       \n",
      "                                                                 \n",
      "=================================================================\n",
      "Total params: 53,846\n",
      "Trainable params: 53,846\n",
      "Non-trainable params: 0\n",
      "_________________________________________________________________\n",
      "6/6 [==============================] - 5s 53ms/step - loss: 4.0704 - accuracy: 0.0380\n",
      "Pre-training accuracy: 3.8043%\n"
     ]
    },
    {
     "data": {
      "image/png": "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",
      "text/plain": [
       "<IPython.core.display.Image object>"
      ]
     },
     "execution_count": 27,
     "metadata": {},
     "output_type": "execute_result"
    }
   ],
   "source": [
>>>>>>> Stashed changes
    "# Display model architecture summary \n",
    "model.summary()\n",
    "\n",
    "print(type(x_train), type(y_train))\n",
    "# Calculate pre-training accuracy \n",
    "score = model.evaluate(x_test, y_test, verbose=1)\n",
    "accuracy = 100*score[1]\n",
    "\n",
    "print(f\"Pre-training accuracy: {accuracy:.4f}%\")\n",
<<<<<<< Updated upstream
    "\n",
    "# train model\n",
    "num_epochs = 300\n",
    "num_batch_size = 128\n",
=======
    "tf.keras.utils.plot_model(model, \"model.png\", show_shapes=True)"
   ]
  },
  {
   "cell_type": "code",
   "execution_count": 28,
   "metadata": {},
   "outputs": [
    {
     "name": "stdout",
     "output_type": "stream",
     "text": [
      "Epoch 1/300\n",
      "6/6 [==============================] - 4s 212ms/step - loss: 2.1576 - accuracy: 0.4502 - val_loss: 0.7058 - val_accuracy: 0.8641\n",
      "Epoch 2/300\n",
      "6/6 [==============================] - 1s 99ms/step - loss: 0.7762 - accuracy: 0.8581 - val_loss: 0.6564 - val_accuracy: 0.8641\n",
      "Epoch 3/300\n",
      "6/6 [==============================] - 1s 101ms/step - loss: 0.7692 - accuracy: 0.8636 - val_loss: 0.6397 - val_accuracy: 0.8641\n",
      "Epoch 4/300\n",
      "6/6 [==============================] - 1s 99ms/step - loss: 0.7076 - accuracy: 0.8622 - val_loss: 0.7020 - val_accuracy: 0.8641\n",
      "Epoch 5/300\n",
      "6/6 [==============================] - 1s 100ms/step - loss: 0.6581 - accuracy: 0.8636 - val_loss: 0.6360 - val_accuracy: 0.8641\n",
      "Epoch 6/300\n",
      "6/6 [==============================] - 1s 100ms/step - loss: 0.6339 - accuracy: 0.8636 - val_loss: 0.5953 - val_accuracy: 0.8641\n",
      "Epoch 7/300\n",
      "6/6 [==============================] - 1s 102ms/step - loss: 0.6488 - accuracy: 0.8649 - val_loss: 0.6101 - val_accuracy: 0.8641\n",
      "Epoch 8/300\n",
      "6/6 [==============================] - 1s 101ms/step - loss: 0.6447 - accuracy: 0.8649 - val_loss: 0.6228 - val_accuracy: 0.8641\n",
      "Epoch 9/300\n",
      "6/6 [==============================] - 1s 100ms/step - loss: 0.6197 - accuracy: 0.8649 - val_loss: 0.6014 - val_accuracy: 0.8641\n",
      "Epoch 10/300\n",
      "6/6 [==============================] - 1s 100ms/step - loss: 0.5853 - accuracy: 0.8649 - val_loss: 0.5384 - val_accuracy: 0.8641\n",
      "Epoch 11/300\n",
      "6/6 [==============================] - 1s 100ms/step - loss: 0.5717 - accuracy: 0.8649 - val_loss: 0.5488 - val_accuracy: 0.8641\n",
      "Epoch 12/300\n",
      "6/6 [==============================] - 1s 100ms/step - loss: 0.5512 - accuracy: 0.8649 - val_loss: 0.5368 - val_accuracy: 0.8641\n",
      "Epoch 13/300\n",
      "6/6 [==============================] - 1s 100ms/step - loss: 0.5314 - accuracy: 0.8649 - val_loss: 0.4916 - val_accuracy: 0.8641\n",
      "Epoch 14/300\n",
      "6/6 [==============================] - 1s 100ms/step - loss: 0.5389 - accuracy: 0.8649 - val_loss: 0.4853 - val_accuracy: 0.8641\n",
      "Epoch 15/300\n",
      "6/6 [==============================] - 1s 99ms/step - loss: 0.5092 - accuracy: 0.8649 - val_loss: 0.4538 - val_accuracy: 0.8641\n",
      "Epoch 16/300\n",
      "6/6 [==============================] - 1s 101ms/step - loss: 0.4799 - accuracy: 0.8649 - val_loss: 0.4302 - val_accuracy: 0.8641\n",
      "Epoch 17/300\n",
      "6/6 [==============================] - 1s 100ms/step - loss: 0.4638 - accuracy: 0.8649 - val_loss: 0.4117 - val_accuracy: 0.8641\n",
      "Epoch 18/300\n",
      "6/6 [==============================] - 1s 99ms/step - loss: 0.4524 - accuracy: 0.8649 - val_loss: 0.4067 - val_accuracy: 0.8641\n",
      "Epoch 19/300\n",
      "6/6 [==============================] - 1s 101ms/step - loss: 0.4528 - accuracy: 0.8649 - val_loss: 0.4047 - val_accuracy: 0.8641\n",
      "Epoch 20/300\n",
      "6/6 [==============================] - 1s 100ms/step - loss: 0.4359 - accuracy: 0.8649 - val_loss: 0.3763 - val_accuracy: 0.8641\n",
      "Epoch 21/300\n",
      "6/6 [==============================] - 1s 99ms/step - loss: 0.4144 - accuracy: 0.8649 - val_loss: 0.3692 - val_accuracy: 0.8641\n",
      "Epoch 22/300\n",
      "6/6 [==============================] - 1s 100ms/step - loss: 0.4178 - accuracy: 0.8649 - val_loss: 0.3634 - val_accuracy: 0.8641\n",
      "Epoch 23/300\n",
      "6/6 [==============================] - 1s 100ms/step - loss: 0.4154 - accuracy: 0.8663 - val_loss: 0.3530 - val_accuracy: 0.8641\n",
      "Epoch 24/300\n",
      "6/6 [==============================] - 1s 101ms/step - loss: 0.3914 - accuracy: 0.8649 - val_loss: 0.3441 - val_accuracy: 0.8641\n",
      "Epoch 25/300\n",
      "6/6 [==============================] - 1s 101ms/step - loss: 0.3847 - accuracy: 0.8649 - val_loss: 0.3372 - val_accuracy: 0.8641\n",
      "Epoch 26/300\n",
      "6/6 [==============================] - 1s 104ms/step - loss: 0.3743 - accuracy: 0.8649 - val_loss: 0.3343 - val_accuracy: 0.8696\n",
      "Epoch 27/300\n",
      "6/6 [==============================] - 1s 100ms/step - loss: 0.3544 - accuracy: 0.8663 - val_loss: 0.3213 - val_accuracy: 0.8641\n",
      "Epoch 28/300\n",
      "6/6 [==============================] - 1s 101ms/step - loss: 0.3493 - accuracy: 0.8663 - val_loss: 0.3213 - val_accuracy: 0.8641\n",
      "Epoch 29/300\n",
      "6/6 [==============================] - 1s 101ms/step - loss: 0.3382 - accuracy: 0.8759 - val_loss: 0.3131 - val_accuracy: 0.8696\n",
      "Epoch 30/300\n",
      "6/6 [==============================] - 1s 103ms/step - loss: 0.3290 - accuracy: 0.8786 - val_loss: 0.3057 - val_accuracy: 0.8750\n",
      "Epoch 31/300\n",
      "6/6 [==============================] - 1s 105ms/step - loss: 0.3168 - accuracy: 0.8799 - val_loss: 0.3042 - val_accuracy: 0.8859\n",
      "Epoch 32/300\n",
      "6/6 [==============================] - 1s 99ms/step - loss: 0.3135 - accuracy: 0.8827 - val_loss: 0.2935 - val_accuracy: 0.8804\n",
      "Epoch 33/300\n",
      "6/6 [==============================] - 1s 99ms/step - loss: 0.3177 - accuracy: 0.8881 - val_loss: 0.2919 - val_accuracy: 0.8750\n",
      "Epoch 34/300\n",
      "6/6 [==============================] - 1s 100ms/step - loss: 0.3064 - accuracy: 0.8922 - val_loss: 0.2862 - val_accuracy: 0.8750\n",
      "Epoch 35/300\n",
      "6/6 [==============================] - 1s 99ms/step - loss: 0.2993 - accuracy: 0.8772 - val_loss: 0.2842 - val_accuracy: 0.8750\n",
      "Epoch 36/300\n",
      "6/6 [==============================] - 1s 103ms/step - loss: 0.2880 - accuracy: 0.8881 - val_loss: 0.2822 - val_accuracy: 0.8859\n",
      "Epoch 37/300\n",
      "6/6 [==============================] - 1s 102ms/step - loss: 0.2808 - accuracy: 0.8895 - val_loss: 0.2817 - val_accuracy: 0.8804\n",
      "Epoch 38/300\n",
      "6/6 [==============================] - 1s 101ms/step - loss: 0.2859 - accuracy: 0.8895 - val_loss: 0.2710 - val_accuracy: 0.8859\n",
      "Epoch 39/300\n",
      "6/6 [==============================] - 1s 105ms/step - loss: 0.2646 - accuracy: 0.8909 - val_loss: 0.2650 - val_accuracy: 0.8967\n",
      "Epoch 40/300\n",
      "6/6 [==============================] - 1s 98ms/step - loss: 0.2667 - accuracy: 0.8909 - val_loss: 0.2630 - val_accuracy: 0.8804\n",
      "Epoch 41/300\n",
      "6/6 [==============================] - 1s 100ms/step - loss: 0.2656 - accuracy: 0.8909 - val_loss: 0.2637 - val_accuracy: 0.8967\n",
      "Epoch 42/300\n",
      "6/6 [==============================] - 1s 102ms/step - loss: 0.2625 - accuracy: 0.8950 - val_loss: 0.2648 - val_accuracy: 0.8913\n",
      "Epoch 43/300\n",
      "6/6 [==============================] - 1s 100ms/step - loss: 0.2723 - accuracy: 0.8909 - val_loss: 0.2628 - val_accuracy: 0.8859\n",
      "Epoch 44/300\n",
      "6/6 [==============================] - 1s 100ms/step - loss: 0.2598 - accuracy: 0.8881 - val_loss: 0.2602 - val_accuracy: 0.8913\n",
      "Epoch 45/300\n",
      "6/6 [==============================] - 1s 104ms/step - loss: 0.2595 - accuracy: 0.8977 - val_loss: 0.2627 - val_accuracy: 0.9022\n",
      "Epoch 46/300\n",
      "6/6 [==============================] - 1s 100ms/step - loss: 0.2560 - accuracy: 0.8936 - val_loss: 0.2637 - val_accuracy: 0.8967\n",
      "Epoch 47/300\n",
      "6/6 [==============================] - 1s 101ms/step - loss: 0.2533 - accuracy: 0.8990 - val_loss: 0.2589 - val_accuracy: 0.8913\n",
      "Epoch 48/300\n",
      "6/6 [==============================] - 1s 99ms/step - loss: 0.2513 - accuracy: 0.8990 - val_loss: 0.2604 - val_accuracy: 0.9022\n",
      "Epoch 49/300\n",
      "6/6 [==============================] - 1s 100ms/step - loss: 0.2415 - accuracy: 0.8977 - val_loss: 0.2541 - val_accuracy: 0.9022\n",
      "Epoch 50/300\n",
      "6/6 [==============================] - 1s 104ms/step - loss: 0.2325 - accuracy: 0.9031 - val_loss: 0.2537 - val_accuracy: 0.9076\n",
      "Epoch 51/300\n",
      "6/6 [==============================] - 1s 102ms/step - loss: 0.2329 - accuracy: 0.9113 - val_loss: 0.2499 - val_accuracy: 0.8859\n",
      "Epoch 52/300\n",
      "6/6 [==============================] - 1s 104ms/step - loss: 0.2434 - accuracy: 0.8936 - val_loss: 0.2568 - val_accuracy: 0.9130\n",
      "Epoch 53/300\n",
      "6/6 [==============================] - 1s 100ms/step - loss: 0.2432 - accuracy: 0.9004 - val_loss: 0.2388 - val_accuracy: 0.8967\n",
      "Epoch 54/300\n",
      "6/6 [==============================] - 1s 99ms/step - loss: 0.2386 - accuracy: 0.9086 - val_loss: 0.2346 - val_accuracy: 0.9022\n",
      "Epoch 55/300\n",
      "6/6 [==============================] - 1s 100ms/step - loss: 0.2340 - accuracy: 0.9004 - val_loss: 0.2289 - val_accuracy: 0.8967\n",
      "Epoch 56/300\n",
      "6/6 [==============================] - 1s 100ms/step - loss: 0.2457 - accuracy: 0.9018 - val_loss: 0.2308 - val_accuracy: 0.9076\n",
      "Epoch 57/300\n",
      "6/6 [==============================] - 1s 99ms/step - loss: 0.2210 - accuracy: 0.8990 - val_loss: 0.2324 - val_accuracy: 0.9076\n",
      "Epoch 58/300\n",
      "6/6 [==============================] - 1s 103ms/step - loss: 0.2140 - accuracy: 0.9045 - val_loss: 0.2222 - val_accuracy: 0.8913\n",
      "Epoch 59/300\n",
      "6/6 [==============================] - 1s 104ms/step - loss: 0.2248 - accuracy: 0.9045 - val_loss: 0.2110 - val_accuracy: 0.9076\n",
      "Epoch 60/300\n",
      "6/6 [==============================] - 1s 101ms/step - loss: 0.2264 - accuracy: 0.9100 - val_loss: 0.2078 - val_accuracy: 0.9130\n",
      "Epoch 61/300\n",
      "6/6 [==============================] - 1s 101ms/step - loss: 0.2210 - accuracy: 0.8990 - val_loss: 0.2224 - val_accuracy: 0.8967\n",
      "Epoch 62/300\n",
      "6/6 [==============================] - 1s 99ms/step - loss: 0.1938 - accuracy: 0.9127 - val_loss: 0.2082 - val_accuracy: 0.9130\n",
      "Epoch 63/300\n",
      "6/6 [==============================] - 1s 99ms/step - loss: 0.2018 - accuracy: 0.9141 - val_loss: 0.2044 - val_accuracy: 0.9130\n",
      "Epoch 64/300\n",
      "6/6 [==============================] - 1s 104ms/step - loss: 0.2083 - accuracy: 0.9127 - val_loss: 0.1998 - val_accuracy: 0.9239\n",
      "Epoch 65/300\n",
      "6/6 [==============================] - 1s 110ms/step - loss: 0.1959 - accuracy: 0.9168 - val_loss: 0.1910 - val_accuracy: 0.9293\n",
      "Epoch 66/300\n",
      "6/6 [==============================] - 1s 101ms/step - loss: 0.1903 - accuracy: 0.9181 - val_loss: 0.1890 - val_accuracy: 0.9076\n",
      "Epoch 67/300\n",
      "6/6 [==============================] - 1s 101ms/step - loss: 0.1912 - accuracy: 0.9086 - val_loss: 0.2116 - val_accuracy: 0.8967\n",
      "Epoch 68/300\n",
      "6/6 [==============================] - 1s 100ms/step - loss: 0.2099 - accuracy: 0.9100 - val_loss: 0.2014 - val_accuracy: 0.9022\n",
      "Epoch 69/300\n",
      "6/6 [==============================] - 1s 101ms/step - loss: 0.1889 - accuracy: 0.9086 - val_loss: 0.1891 - val_accuracy: 0.9130\n",
      "Epoch 70/300\n",
      "6/6 [==============================] - 1s 103ms/step - loss: 0.2023 - accuracy: 0.9018 - val_loss: 0.1856 - val_accuracy: 0.9076\n",
      "Epoch 71/300\n",
      "6/6 [==============================] - 1s 102ms/step - loss: 0.1871 - accuracy: 0.9222 - val_loss: 0.1851 - val_accuracy: 0.9239\n",
      "Epoch 72/300\n",
      "6/6 [==============================] - 1s 103ms/step - loss: 0.1905 - accuracy: 0.9154 - val_loss: 0.1829 - val_accuracy: 0.9239\n",
      "Epoch 73/300\n",
      "6/6 [==============================] - 1s 100ms/step - loss: 0.1863 - accuracy: 0.9141 - val_loss: 0.1817 - val_accuracy: 0.9185\n",
      "Epoch 74/300\n",
      "6/6 [==============================] - 1s 101ms/step - loss: 0.1704 - accuracy: 0.9209 - val_loss: 0.1890 - val_accuracy: 0.9130\n",
      "Epoch 75/300\n",
      "6/6 [==============================] - 1s 102ms/step - loss: 0.1744 - accuracy: 0.9195 - val_loss: 0.1848 - val_accuracy: 0.9293\n",
      "Epoch 76/300\n",
      "6/6 [==============================] - 1s 104ms/step - loss: 0.1857 - accuracy: 0.9141 - val_loss: 0.1708 - val_accuracy: 0.9185\n",
      "Epoch 77/300\n",
      "6/6 [==============================] - 1s 104ms/step - loss: 0.1872 - accuracy: 0.9168 - val_loss: 0.1768 - val_accuracy: 0.9293\n",
      "Epoch 78/300\n",
      "6/6 [==============================] - 1s 103ms/step - loss: 0.1609 - accuracy: 0.9291 - val_loss: 0.1815 - val_accuracy: 0.9293\n",
      "Epoch 79/300\n",
      "6/6 [==============================] - 1s 106ms/step - loss: 0.1804 - accuracy: 0.9154 - val_loss: 0.1761 - val_accuracy: 0.9348\n",
      "Epoch 80/300\n",
      "6/6 [==============================] - 1s 100ms/step - loss: 0.1636 - accuracy: 0.9304 - val_loss: 0.1820 - val_accuracy: 0.9293\n",
      "Epoch 81/300\n",
      "6/6 [==============================] - 1s 101ms/step - loss: 0.1671 - accuracy: 0.9250 - val_loss: 0.1764 - val_accuracy: 0.9348\n",
      "Epoch 82/300\n",
      "6/6 [==============================] - 1s 102ms/step - loss: 0.1769 - accuracy: 0.9209 - val_loss: 0.1802 - val_accuracy: 0.9348\n",
      "Epoch 83/300\n",
      "6/6 [==============================] - 1s 107ms/step - loss: 0.1715 - accuracy: 0.9195 - val_loss: 0.1676 - val_accuracy: 0.9402\n",
      "Epoch 84/300\n",
      "6/6 [==============================] - 1s 104ms/step - loss: 0.1760 - accuracy: 0.9250 - val_loss: 0.1779 - val_accuracy: 0.9239\n",
      "Epoch 85/300\n",
      "6/6 [==============================] - 1s 102ms/step - loss: 0.1629 - accuracy: 0.9236 - val_loss: 0.1651 - val_accuracy: 0.9402\n",
      "Epoch 86/300\n",
      "6/6 [==============================] - 1s 101ms/step - loss: 0.1562 - accuracy: 0.9291 - val_loss: 0.1778 - val_accuracy: 0.9402\n",
      "Epoch 87/300\n",
      "6/6 [==============================] - 1s 100ms/step - loss: 0.1509 - accuracy: 0.9277 - val_loss: 0.1888 - val_accuracy: 0.9293\n",
      "Epoch 88/300\n",
      "6/6 [==============================] - 1s 103ms/step - loss: 0.1579 - accuracy: 0.9263 - val_loss: 0.1780 - val_accuracy: 0.9293\n",
      "Epoch 89/300\n",
      "6/6 [==============================] - 1s 101ms/step - loss: 0.1632 - accuracy: 0.9277 - val_loss: 0.1738 - val_accuracy: 0.9293\n",
      "Epoch 90/300\n",
      "6/6 [==============================] - 1s 101ms/step - loss: 0.1657 - accuracy: 0.9291 - val_loss: 0.1927 - val_accuracy: 0.9185\n",
      "Epoch 91/300\n",
      "6/6 [==============================] - 1s 101ms/step - loss: 0.1513 - accuracy: 0.9427 - val_loss: 0.1736 - val_accuracy: 0.9239\n",
      "Epoch 92/300\n",
      "6/6 [==============================] - 1s 102ms/step - loss: 0.1549 - accuracy: 0.9263 - val_loss: 0.1743 - val_accuracy: 0.9348\n",
      "Epoch 93/300\n",
      "6/6 [==============================] - 1s 102ms/step - loss: 0.1466 - accuracy: 0.9277 - val_loss: 0.1729 - val_accuracy: 0.9293\n",
      "Epoch 94/300\n",
      "6/6 [==============================] - 1s 101ms/step - loss: 0.1521 - accuracy: 0.9400 - val_loss: 0.1838 - val_accuracy: 0.9402\n",
      "Epoch 95/300\n",
      "6/6 [==============================] - 1s 102ms/step - loss: 0.1561 - accuracy: 0.9209 - val_loss: 0.1714 - val_accuracy: 0.9348\n",
      "Epoch 96/300\n",
      "6/6 [==============================] - 1s 103ms/step - loss: 0.1525 - accuracy: 0.9332 - val_loss: 0.1764 - val_accuracy: 0.9348\n",
      "Epoch 97/300\n",
      "6/6 [==============================] - 1s 104ms/step - loss: 0.1441 - accuracy: 0.9318 - val_loss: 0.1829 - val_accuracy: 0.9402\n",
      "Epoch 98/300\n",
      "6/6 [==============================] - 1s 101ms/step - loss: 0.1387 - accuracy: 0.9427 - val_loss: 0.1852 - val_accuracy: 0.9348\n",
      "Epoch 99/300\n",
      "6/6 [==============================] - 1s 102ms/step - loss: 0.1422 - accuracy: 0.9332 - val_loss: 0.1712 - val_accuracy: 0.9402\n",
      "Epoch 100/300\n",
      "6/6 [==============================] - 1s 102ms/step - loss: 0.1426 - accuracy: 0.9345 - val_loss: 0.1739 - val_accuracy: 0.9293\n",
      "Epoch 101/300\n",
      "6/6 [==============================] - 1s 103ms/step - loss: 0.1464 - accuracy: 0.9359 - val_loss: 0.1684 - val_accuracy: 0.9348\n",
      "Epoch 102/300\n",
      "6/6 [==============================] - 1s 102ms/step - loss: 0.1413 - accuracy: 0.9427 - val_loss: 0.2345 - val_accuracy: 0.9239\n",
      "Epoch 103/300\n",
      "6/6 [==============================] - 1s 101ms/step - loss: 0.1460 - accuracy: 0.9386 - val_loss: 0.1763 - val_accuracy: 0.9402\n",
      "Epoch 104/300\n",
      "6/6 [==============================] - 1s 102ms/step - loss: 0.1455 - accuracy: 0.9386 - val_loss: 0.1815 - val_accuracy: 0.9348\n",
      "Epoch 105/300\n",
      "6/6 [==============================] - 1s 103ms/step - loss: 0.1380 - accuracy: 0.9291 - val_loss: 0.1680 - val_accuracy: 0.9239\n",
      "Epoch 106/300\n",
      "6/6 [==============================] - 1s 100ms/step - loss: 0.1403 - accuracy: 0.9454 - val_loss: 0.1799 - val_accuracy: 0.9293\n",
      "Epoch 107/300\n",
      "6/6 [==============================] - 1s 100ms/step - loss: 0.1391 - accuracy: 0.9413 - val_loss: 0.1703 - val_accuracy: 0.9402\n",
      "Epoch 108/300\n",
      "6/6 [==============================] - 1s 101ms/step - loss: 0.1243 - accuracy: 0.9427 - val_loss: 0.1630 - val_accuracy: 0.9402\n",
      "Epoch 109/300\n",
      "6/6 [==============================] - 1s 104ms/step - loss: 0.1208 - accuracy: 0.9523 - val_loss: 0.1746 - val_accuracy: 0.9457\n",
      "Epoch 110/300\n",
      "6/6 [==============================] - 1s 101ms/step - loss: 0.1352 - accuracy: 0.9250 - val_loss: 0.1767 - val_accuracy: 0.9348\n",
      "Epoch 111/300\n",
      "6/6 [==============================] - 1s 102ms/step - loss: 0.1203 - accuracy: 0.9563 - val_loss: 0.1908 - val_accuracy: 0.9402\n",
      "Epoch 112/300\n",
      "6/6 [==============================] - 1s 101ms/step - loss: 0.1343 - accuracy: 0.9468 - val_loss: 0.1760 - val_accuracy: 0.9402\n",
      "Epoch 113/300\n",
      "6/6 [==============================] - 1s 100ms/step - loss: 0.1295 - accuracy: 0.9413 - val_loss: 0.2024 - val_accuracy: 0.9293\n",
      "Epoch 114/300\n",
      "6/6 [==============================] - 1s 99ms/step - loss: 0.1212 - accuracy: 0.9550 - val_loss: 0.1721 - val_accuracy: 0.9348\n",
      "Epoch 115/300\n",
      "6/6 [==============================] - 1s 100ms/step - loss: 0.1241 - accuracy: 0.9454 - val_loss: 0.1778 - val_accuracy: 0.9402\n",
      "Epoch 116/300\n",
      "6/6 [==============================] - 1s 100ms/step - loss: 0.1180 - accuracy: 0.9427 - val_loss: 0.1781 - val_accuracy: 0.9348\n",
      "Epoch 117/300\n",
      "6/6 [==============================] - 1s 100ms/step - loss: 0.1329 - accuracy: 0.9495 - val_loss: 0.1619 - val_accuracy: 0.9402\n",
      "Epoch 118/300\n",
      "6/6 [==============================] - 1s 100ms/step - loss: 0.1293 - accuracy: 0.9482 - val_loss: 0.1975 - val_accuracy: 0.9348\n",
      "Epoch 119/300\n",
      "6/6 [==============================] - 1s 100ms/step - loss: 0.1286 - accuracy: 0.9359 - val_loss: 0.1891 - val_accuracy: 0.9293\n",
      "Epoch 120/300\n",
      "6/6 [==============================] - 1s 99ms/step - loss: 0.1498 - accuracy: 0.9304 - val_loss: 0.2331 - val_accuracy: 0.9239\n",
      "Epoch 121/300\n",
      "6/6 [==============================] - 1s 100ms/step - loss: 0.1632 - accuracy: 0.9359 - val_loss: 0.1563 - val_accuracy: 0.9402\n",
      "Epoch 122/300\n",
      "6/6 [==============================] - 1s 100ms/step - loss: 0.1489 - accuracy: 0.9413 - val_loss: 0.1604 - val_accuracy: 0.9293\n",
      "Epoch 123/300\n",
      "6/6 [==============================] - 1s 100ms/step - loss: 0.1485 - accuracy: 0.9332 - val_loss: 0.1906 - val_accuracy: 0.9293\n",
      "Epoch 124/300\n",
      "6/6 [==============================] - 1s 105ms/step - loss: 0.1275 - accuracy: 0.9441 - val_loss: 0.1633 - val_accuracy: 0.9511\n",
      "Epoch 125/300\n",
      "6/6 [==============================] - 1s 99ms/step - loss: 0.1234 - accuracy: 0.9468 - val_loss: 0.1669 - val_accuracy: 0.9402\n",
      "Epoch 126/300\n",
      "6/6 [==============================] - 1s 101ms/step - loss: 0.1298 - accuracy: 0.9468 - val_loss: 0.1593 - val_accuracy: 0.9402\n",
      "Epoch 127/300\n",
      "6/6 [==============================] - 1s 102ms/step - loss: 0.1110 - accuracy: 0.9523 - val_loss: 0.1684 - val_accuracy: 0.9348\n",
      "Epoch 128/300\n",
      "6/6 [==============================] - 1s 100ms/step - loss: 0.1163 - accuracy: 0.9536 - val_loss: 0.1878 - val_accuracy: 0.9402\n",
      "Epoch 129/300\n",
      "6/6 [==============================] - 1s 99ms/step - loss: 0.1029 - accuracy: 0.9523 - val_loss: 0.2133 - val_accuracy: 0.9402\n",
      "Epoch 130/300\n",
      "6/6 [==============================] - 1s 99ms/step - loss: 0.1122 - accuracy: 0.9454 - val_loss: 0.1973 - val_accuracy: 0.9293\n",
      "Epoch 131/300\n",
      "6/6 [==============================] - 1s 100ms/step - loss: 0.1168 - accuracy: 0.9523 - val_loss: 0.1913 - val_accuracy: 0.9402\n",
      "Epoch 132/300\n",
      "6/6 [==============================] - 1s 99ms/step - loss: 0.1134 - accuracy: 0.9468 - val_loss: 0.1599 - val_accuracy: 0.9457\n",
      "Epoch 133/300\n",
      "6/6 [==============================] - 1s 100ms/step - loss: 0.1093 - accuracy: 0.9577 - val_loss: 0.1940 - val_accuracy: 0.9293\n",
      "Epoch 134/300\n",
      "6/6 [==============================] - 1s 100ms/step - loss: 0.1040 - accuracy: 0.9591 - val_loss: 0.1969 - val_accuracy: 0.9348\n",
      "Epoch 135/300\n",
      "6/6 [==============================] - 1s 100ms/step - loss: 0.1095 - accuracy: 0.9550 - val_loss: 0.1757 - val_accuracy: 0.9348\n",
      "Epoch 136/300\n",
      "6/6 [==============================] - 1s 99ms/step - loss: 0.1105 - accuracy: 0.9482 - val_loss: 0.1707 - val_accuracy: 0.9348\n",
      "Epoch 137/300\n",
      "6/6 [==============================] - 1s 99ms/step - loss: 0.1146 - accuracy: 0.9509 - val_loss: 0.1940 - val_accuracy: 0.9293\n",
      "Epoch 138/300\n",
      "6/6 [==============================] - 1s 100ms/step - loss: 0.1160 - accuracy: 0.9509 - val_loss: 0.1825 - val_accuracy: 0.9348\n",
      "Epoch 139/300\n",
      "6/6 [==============================] - 1s 100ms/step - loss: 0.1234 - accuracy: 0.9413 - val_loss: 0.1858 - val_accuracy: 0.9293\n",
      "Epoch 140/300\n",
      "6/6 [==============================] - 1s 100ms/step - loss: 0.1128 - accuracy: 0.9495 - val_loss: 0.1710 - val_accuracy: 0.9402\n",
      "Epoch 141/300\n",
      "6/6 [==============================] - 1s 100ms/step - loss: 0.1092 - accuracy: 0.9536 - val_loss: 0.1792 - val_accuracy: 0.9511\n",
      "Epoch 142/300\n",
      "6/6 [==============================] - 1s 100ms/step - loss: 0.1141 - accuracy: 0.9482 - val_loss: 0.1973 - val_accuracy: 0.9348\n",
      "Epoch 143/300\n",
      "6/6 [==============================] - 1s 100ms/step - loss: 0.1069 - accuracy: 0.9482 - val_loss: 0.2282 - val_accuracy: 0.9293\n",
      "Epoch 144/300\n",
      "6/6 [==============================] - 1s 99ms/step - loss: 0.1104 - accuracy: 0.9577 - val_loss: 0.2022 - val_accuracy: 0.9293\n",
      "Epoch 145/300\n",
      "6/6 [==============================] - 1s 99ms/step - loss: 0.0995 - accuracy: 0.9659 - val_loss: 0.2032 - val_accuracy: 0.9402\n",
      "Epoch 146/300\n",
      "6/6 [==============================] - 1s 99ms/step - loss: 0.0982 - accuracy: 0.9591 - val_loss: 0.1902 - val_accuracy: 0.9457\n",
      "Epoch 147/300\n",
      "6/6 [==============================] - 1s 100ms/step - loss: 0.1010 - accuracy: 0.9468 - val_loss: 0.1841 - val_accuracy: 0.9402\n",
      "Epoch 148/300\n",
      "6/6 [==============================] - 1s 100ms/step - loss: 0.1063 - accuracy: 0.9591 - val_loss: 0.1813 - val_accuracy: 0.9457\n",
      "Epoch 149/300\n",
      "6/6 [==============================] - 1s 99ms/step - loss: 0.0978 - accuracy: 0.9550 - val_loss: 0.2137 - val_accuracy: 0.9402\n",
      "Epoch 150/300\n",
      "6/6 [==============================] - 1s 100ms/step - loss: 0.0941 - accuracy: 0.9604 - val_loss: 0.2260 - val_accuracy: 0.9348\n",
      "Epoch 151/300\n",
      "6/6 [==============================] - 1s 100ms/step - loss: 0.0955 - accuracy: 0.9604 - val_loss: 0.2043 - val_accuracy: 0.9457\n",
      "Epoch 152/300\n",
      "6/6 [==============================] - 1s 99ms/step - loss: 0.0928 - accuracy: 0.9550 - val_loss: 0.2388 - val_accuracy: 0.9402\n",
      "Epoch 153/300\n",
      "6/6 [==============================] - 1s 99ms/step - loss: 0.0864 - accuracy: 0.9659 - val_loss: 0.1940 - val_accuracy: 0.9402\n",
      "Epoch 154/300\n",
      "6/6 [==============================] - 1s 99ms/step - loss: 0.1006 - accuracy: 0.9536 - val_loss: 0.2228 - val_accuracy: 0.9402\n",
      "Epoch 155/300\n",
      "6/6 [==============================] - 1s 100ms/step - loss: 0.1025 - accuracy: 0.9495 - val_loss: 0.2013 - val_accuracy: 0.9293\n",
      "Epoch 156/300\n",
      "6/6 [==============================] - 1s 105ms/step - loss: 0.1198 - accuracy: 0.9454 - val_loss: 0.2095 - val_accuracy: 0.9293\n",
      "Epoch 157/300\n",
      "6/6 [==============================] - 1s 107ms/step - loss: 0.0996 - accuracy: 0.9523 - val_loss: 0.2543 - val_accuracy: 0.9565\n",
      "Epoch 158/300\n",
      "6/6 [==============================] - 1s 104ms/step - loss: 0.1063 - accuracy: 0.9550 - val_loss: 0.2156 - val_accuracy: 0.9457\n",
      "Epoch 159/300\n",
      "6/6 [==============================] - 1s 101ms/step - loss: 0.0980 - accuracy: 0.9604 - val_loss: 0.1969 - val_accuracy: 0.9348\n",
      "Epoch 160/300\n",
      "6/6 [==============================] - 1s 105ms/step - loss: 0.0970 - accuracy: 0.9618 - val_loss: 0.1971 - val_accuracy: 0.9348\n",
      "Epoch 161/300\n",
      "6/6 [==============================] - 1s 103ms/step - loss: 0.0978 - accuracy: 0.9686 - val_loss: 0.1938 - val_accuracy: 0.9402\n",
      "Epoch 162/300\n",
      "6/6 [==============================] - 1s 100ms/step - loss: 0.0914 - accuracy: 0.9618 - val_loss: 0.2367 - val_accuracy: 0.9348\n",
      "Epoch 163/300\n",
      "6/6 [==============================] - 1s 99ms/step - loss: 0.0909 - accuracy: 0.9591 - val_loss: 0.2074 - val_accuracy: 0.9565\n",
      "Epoch 164/300\n",
      "6/6 [==============================] - 1s 102ms/step - loss: 0.0915 - accuracy: 0.9604 - val_loss: 0.2113 - val_accuracy: 0.9457\n",
      "Epoch 165/300\n",
      "6/6 [==============================] - 1s 99ms/step - loss: 0.1075 - accuracy: 0.9550 - val_loss: 0.1969 - val_accuracy: 0.9348\n",
      "Epoch 166/300\n",
      "6/6 [==============================] - 1s 100ms/step - loss: 0.0950 - accuracy: 0.9604 - val_loss: 0.2602 - val_accuracy: 0.9457\n",
      "Epoch 167/300\n",
      "6/6 [==============================] - 1s 102ms/step - loss: 0.0867 - accuracy: 0.9618 - val_loss: 0.2302 - val_accuracy: 0.9457\n",
      "Epoch 168/300\n",
      "6/6 [==============================] - 1s 102ms/step - loss: 0.0813 - accuracy: 0.9714 - val_loss: 0.2001 - val_accuracy: 0.9402\n",
      "Epoch 169/300\n",
      "6/6 [==============================] - 1s 104ms/step - loss: 0.0861 - accuracy: 0.9632 - val_loss: 0.2468 - val_accuracy: 0.9293\n",
      "Epoch 170/300\n",
      "6/6 [==============================] - 1s 107ms/step - loss: 0.0866 - accuracy: 0.9577 - val_loss: 0.2024 - val_accuracy: 0.9457\n",
      "Epoch 171/300\n",
      "6/6 [==============================] - 1s 104ms/step - loss: 0.0858 - accuracy: 0.9604 - val_loss: 0.2806 - val_accuracy: 0.9402\n",
      "Epoch 172/300\n",
      "6/6 [==============================] - 1s 104ms/step - loss: 0.0843 - accuracy: 0.9604 - val_loss: 0.2387 - val_accuracy: 0.9402\n",
      "Epoch 173/300\n",
      "6/6 [==============================] - 1s 102ms/step - loss: 0.0872 - accuracy: 0.9604 - val_loss: 0.2632 - val_accuracy: 0.9293\n",
      "Epoch 174/300\n",
      "6/6 [==============================] - 1s 102ms/step - loss: 0.0793 - accuracy: 0.9686 - val_loss: 0.2581 - val_accuracy: 0.9402\n",
      "Epoch 175/300\n",
      "6/6 [==============================] - 1s 103ms/step - loss: 0.0851 - accuracy: 0.9645 - val_loss: 0.2448 - val_accuracy: 0.9293\n",
      "Epoch 176/300\n",
      "6/6 [==============================] - 1s 102ms/step - loss: 0.0807 - accuracy: 0.9618 - val_loss: 0.2476 - val_accuracy: 0.9457\n",
      "Epoch 177/300\n",
      "6/6 [==============================] - 1s 100ms/step - loss: 0.0816 - accuracy: 0.9563 - val_loss: 0.2433 - val_accuracy: 0.9293\n",
      "Epoch 178/300\n",
      "6/6 [==============================] - 1s 101ms/step - loss: 0.0909 - accuracy: 0.9591 - val_loss: 0.2334 - val_accuracy: 0.9348\n",
      "Epoch 179/300\n",
      "6/6 [==============================] - 1s 101ms/step - loss: 0.0868 - accuracy: 0.9563 - val_loss: 0.1960 - val_accuracy: 0.9348\n",
      "Epoch 180/300\n",
      "6/6 [==============================] - 1s 102ms/step - loss: 0.1143 - accuracy: 0.9468 - val_loss: 0.2222 - val_accuracy: 0.9402\n",
      "Epoch 181/300\n",
      "6/6 [==============================] - 1s 102ms/step - loss: 0.0880 - accuracy: 0.9645 - val_loss: 0.2597 - val_accuracy: 0.9239\n",
      "Epoch 182/300\n",
      "6/6 [==============================] - 1s 102ms/step - loss: 0.1092 - accuracy: 0.9577 - val_loss: 0.2051 - val_accuracy: 0.9402\n",
      "Epoch 183/300\n",
      "6/6 [==============================] - 1s 101ms/step - loss: 0.0877 - accuracy: 0.9632 - val_loss: 0.2371 - val_accuracy: 0.9402\n",
      "Epoch 184/300\n",
      "6/6 [==============================] - 1s 104ms/step - loss: 0.0824 - accuracy: 0.9632 - val_loss: 0.2053 - val_accuracy: 0.9293\n",
      "Epoch 185/300\n",
      "6/6 [==============================] - 1s 102ms/step - loss: 0.0795 - accuracy: 0.9686 - val_loss: 0.2179 - val_accuracy: 0.9293\n",
      "Epoch 186/300\n",
      "6/6 [==============================] - 1s 102ms/step - loss: 0.0727 - accuracy: 0.9604 - val_loss: 0.2104 - val_accuracy: 0.9348\n",
      "Epoch 187/300\n",
      "6/6 [==============================] - 1s 102ms/step - loss: 0.0760 - accuracy: 0.9673 - val_loss: 0.2448 - val_accuracy: 0.9348\n",
      "Epoch 188/300\n",
      "6/6 [==============================] - 1s 101ms/step - loss: 0.0657 - accuracy: 0.9741 - val_loss: 0.2458 - val_accuracy: 0.9457\n",
      "Epoch 189/300\n",
      "6/6 [==============================] - 1s 102ms/step - loss: 0.0701 - accuracy: 0.9659 - val_loss: 0.2470 - val_accuracy: 0.9511\n",
      "Epoch 190/300\n",
      "6/6 [==============================] - 1s 105ms/step - loss: 0.0753 - accuracy: 0.9659 - val_loss: 0.2606 - val_accuracy: 0.9565\n",
      "Epoch 191/300\n",
      "6/6 [==============================] - 1s 101ms/step - loss: 0.0702 - accuracy: 0.9768 - val_loss: 0.2480 - val_accuracy: 0.9511\n",
      "Epoch 192/300\n",
      "6/6 [==============================] - 1s 101ms/step - loss: 0.0743 - accuracy: 0.9632 - val_loss: 0.2606 - val_accuracy: 0.9348\n",
      "Epoch 193/300\n",
      "6/6 [==============================] - 1s 101ms/step - loss: 0.0777 - accuracy: 0.9645 - val_loss: 0.2684 - val_accuracy: 0.9348\n",
      "Epoch 194/300\n",
      "6/6 [==============================] - 1s 102ms/step - loss: 0.0835 - accuracy: 0.9618 - val_loss: 0.2816 - val_accuracy: 0.9348\n",
      "Epoch 195/300\n",
      "6/6 [==============================] - 1s 103ms/step - loss: 0.0880 - accuracy: 0.9563 - val_loss: 0.2258 - val_accuracy: 0.9457\n",
      "Epoch 196/300\n",
      "6/6 [==============================] - 1s 102ms/step - loss: 0.0872 - accuracy: 0.9591 - val_loss: 0.1996 - val_accuracy: 0.9565\n",
      "Epoch 197/300\n",
      "6/6 [==============================] - 1s 104ms/step - loss: 0.0823 - accuracy: 0.9645 - val_loss: 0.2513 - val_accuracy: 0.9457\n",
      "Epoch 198/300\n",
      "6/6 [==============================] - 1s 103ms/step - loss: 0.0812 - accuracy: 0.9700 - val_loss: 0.2266 - val_accuracy: 0.9293\n",
      "Epoch 199/300\n",
      "6/6 [==============================] - 1s 100ms/step - loss: 0.0869 - accuracy: 0.9604 - val_loss: 0.2659 - val_accuracy: 0.9348\n",
      "Epoch 200/300\n",
      "6/6 [==============================] - 1s 100ms/step - loss: 0.0869 - accuracy: 0.9536 - val_loss: 0.2638 - val_accuracy: 0.9402\n",
      "Epoch 201/300\n",
      "6/6 [==============================] - 1s 100ms/step - loss: 0.0855 - accuracy: 0.9645 - val_loss: 0.2932 - val_accuracy: 0.9457\n",
      "Epoch 202/300\n",
      "6/6 [==============================] - 1s 99ms/step - loss: 0.0769 - accuracy: 0.9673 - val_loss: 0.2727 - val_accuracy: 0.9511\n",
      "Epoch 203/300\n",
      "6/6 [==============================] - 1s 103ms/step - loss: 0.0688 - accuracy: 0.9686 - val_loss: 0.2734 - val_accuracy: 0.9565\n",
      "Epoch 204/300\n",
      "6/6 [==============================] - 1s 102ms/step - loss: 0.0734 - accuracy: 0.9714 - val_loss: 0.2890 - val_accuracy: 0.9457\n",
      "Epoch 205/300\n",
      "6/6 [==============================] - 1s 104ms/step - loss: 0.0638 - accuracy: 0.9727 - val_loss: 0.2520 - val_accuracy: 0.9511\n",
      "Epoch 206/300\n",
      "6/6 [==============================] - 1s 101ms/step - loss: 0.0853 - accuracy: 0.9577 - val_loss: 0.2845 - val_accuracy: 0.9511\n",
      "Epoch 207/300\n",
      "6/6 [==============================] - 1s 103ms/step - loss: 0.0648 - accuracy: 0.9727 - val_loss: 0.2749 - val_accuracy: 0.9457\n"
     ]
    }
   ],
   "source": [
    "# train model\n",
    "num_epochs = 300\n",
    "num_batch_size = 128\n",
    "\n",
    "cb = [EarlyStopping(patience=50,monitor='val_accuracy',mode='max',restore_best_weights=True),\n",
    "      ModelCheckpoint(\"./models/rr_LSTM_CNN_1.h5\",save_best_only=True,monitor='val_accuracy',mode='max')]   \n",
    "\n",
    "history = model.fit(x_train, y_train, batch_size=num_batch_size, epochs=num_epochs, validation_data=(x_test, y_test), callbacks=cb, verbose=1, shuffle=True, use_multiprocessing=True)\n",
    "\n"
   ]
  },
  {
   "attachments": {},
   "cell_type": "markdown",
   "metadata": {},
   "source": [
    "# 4. Evaluvating the Model"
   ]
  },
  {
   "cell_type": "code",
   "execution_count": 29,
   "metadata": {},
   "outputs": [
    {
     "data": {
      "image/png": "iVBORw0KGgoAAAANSUhEUgAAAXIAAAESCAYAAADg0F5TAAAAOXRFWHRTb2Z0d2FyZQBNYXRwbG90bGliIHZlcnNpb24zLjUuMywgaHR0cHM6Ly9tYXRwbG90bGliLm9yZy/NK7nSAAAACXBIWXMAAAsTAAALEwEAmpwYAAA1eklEQVR4nO3deXxM9/7H8dfMZLIHWSTWSESIpWorWkJrqb1aStCGXnqLe11dfve25WqrraK0dVtFqVZVtaWoS5dbO7ULgoRYQkIkZJGQyTYzmfP745A0JkQRkyOf5+PRRzLnTGY+czre853v93u+R6coioIQQgjN0ju6ACGEEHdGglwIITROglwIITROglwIITROglwIITROglwIITROglzc15KSkmjZsqWjyxCiXEmQCyGExjk5ugAhHCE7O5u3336buLg4dDod4eHhvPLKKzg5OfHJJ5+wfv16jEYj3t7eTJs2DX9//xtuF8LRpEUuKqUpU6ZQrVo11q5dy8qVKzl+/DhffvklKSkpLF68mJUrV7Jq1So6dOjA4cOHb7hdiIpAWuSiUtq2bRvfffcdOp0OZ2dnhgwZwuLFi3n++ecJCwvjqaeeolOnTnTq1ImHH34Ym81W6nYhKgJpkYtKyWaz2d22Wq3o9Xq++eYbpk2bRrVq1Zg6dSpTpky54XYhKgIJclEpdezYkaVLl6IoCmazmeXLl/PII48QFxdH3759CQkJYfTo0Tz33HMcP378htuFqAika0Xc93Jzc+2mIM6fP59ly5bRr18/LBYL4eHhjBkzBmdnZ3r16sXAgQNxd3fH1dWVSZMmERYWVup2ISoCnSxjK4QQ2iZdK0IIoXES5EIIoXES5EIIoXES5EIIoXH3fNZKdHQ0Li4u9/pphRBC0woKCmjRokWp++55kLu4uNC4ceN7/bRCCKFpx44du+E+6VoRQgiNkyAXQgiNkyAXQgiNk1P0hRA3ZbFYSEpKIj8/39GlVAqurq7UqVMHo9F4y38jQS6EuKmkpCS8vLwICgpCp9M5upz7mqIoZGRkkJSURHBw8C3/nXStCCFuKj8/H19fXwnxe0Cn0+Hr6/unv/1IkAshyiQhfu/czrHWTJBnmAr4X0yKo8sQQogKRzNBvjo6mbFLD5BnLnR0KUKIe6igoIAffvjhlu67atUqNm7ceMP9CxYsuGvXWp09ezbffffdXXmsO6WZwU5FUVAUsNhsuGFwdDlCiHskLS2NH374gUGDBpV53wEDBtx0/wsvvHC3yqpQNBPk+qv9RjabXAdDCEdZuT+J5VHn7upjDm5Tl4Gt69xw/2effcapU6cICwvjkUceITc3l/fee4/Vq1cTExNDVlYWYWFhTJs2jdmzZ+Pn50f9+vX5/PPPMRqNJCUl0bt3b8aOHcvrr79O7969SU9PZ+vWreTn53P27Fn++te/MmDAAA4fPszbb7+Nh4cHvr6+uLi4MH369DJfw/Tp09m/fz8Affv2ZcSIEaxbt47PP/8cJycn/P39mTVrFgcPHuT999/HyckJNzc3Pv74Yzw9Pe/4GGooyNWfkuNCVC5jxozhxIkThIeHc/nyZSZNmoTJZKJKlSosWrQIm81Gnz59uHjxYom/S05OZs2aNZjNZsLDwxk7dmyJ/SaTiS+++IKEhATGjBnDgAEDeOutt5gxYwahoaHMmjXL7jFLs3nzZpKSkli+fDlWq5Vhw4bRvn17fvrpJ0aNGkXPnj1ZvXo1JpOJDRs20KtXL0aMGMGmTZu4cuVK5Qpyw9UkL5QkF8JhBrauc9PWc3m7NrfaxcWFS5cu8corr+Du7k5ubi4Wi6XEfRs2bIiTkxNOTk64urraPVZYWBgANWvWxGw2A5CamkpoaCgArVu35pdffimzpvj4eNq0aYNOp8NoNPLggw8SHx/PhAkTmD9/Pt988w3169enW7dujBkzhs8++4wRI0YQEBBA8+bN7+h4XKOZwU791SC3ySVGhahU9Ho9Nput6HeAbdu2kZKSwkcffcQrr7xCfn4+119+uKxpfKXtr1GjBqdOnQLg0KFDt1RfSEhIUbeKxWLh4MGD1KtXj2XLlvGPf/yDb775BoD169ezZs0annrqKZYsWUJoaCjLly+/pecoi3Za5DppkQtRGfn6+mKxWEqcJNO8eXPmzp3LM888g06no27duqSmpt7xc7311ltMnDgRd3d3jEYjAQEBZf7NY489xt69e4mIiMBisdCzZ0+aNm3KxYsXGT16NB4eHri7u/Poo49y9uxZJk2ahJubG3q9nnfeeeeOawbQKdd/jJWzY8eO3dZ65MujzvHqisP8/upj1PVxL4fKhBClud1/s1q0dOlSevXqhY+PD7NmzcJoNDJu3Lh7Xkdpx/xm/x801yKXrhUhRHnx9fVl5MiRuLu74+XlxfTp0xk3bhyXL18ucT9PT0/mzZvnoCrtaSfIZbBTCFHOevbsSc+ePUts+/TTTx1Uza2TwU4hhNA4zQR58WCngwsRQogK5qZdKxaLhYkTJ3L+/HnMZjNjx46la9euRfs3bdrEnDlzcHJyYuDAgQwePLjcCjVc/ciRrhUhhCjppkG+Zs0aqlWrxsyZM8nKyuLJJ58sCnKLxcK0adNYsWIFbm5uDB06lC5duuDn51cuhepksFMIIUp1066Vnj178uKLLwLqolUGQ/FiVfHx8QQGBlK1alWcnZ1p3bo1+/btK7dCZdaKEEKU7qZB7uHhgaenJyaTifHjx/PSSy8V7TOZTHh5eZW4r8lkKrdCZdaKEOJmIiMjiY+Pv+H+Ll26UFBQcA8runfKnH6YkpLC3//+d4YNG0a/fv2Ktnt6epKTk1N0Oycnp0Sw320ya0WICiD6Ozj4zd19zJbPQouhd/cxK5mbBnl6ejojR47kzTff5OGHHy6xLyQkhMTERLKysnB3dycqKopRo0aVW6Eya0WIymncuHEMHz6ctm3bcuTIEWbMmIGPjw/Z2dmkpqYybNgwhg0bdsuPl5SUxMSJEyksLESn0zFp0iTCwsKYMGECiYmJ5OfnM3z4cJ588klmzZrFnj17sFqtPP744xV2PfObBvlnn33GlStXmDt3LnPnzgVg0KBB5OXlERERweuvv86oUaNQFIWBAwfe0roEt0svs1aEcLwWQ+9563nQoEH8+OOPtG3bllWrVtGuXTsaNmzI448/zsWLF4mMjPxTQT5jxgyGDx9Ot27dOHbsGBMnTuTrr79m3759RYtY7dixA4C1a9fy9ddf4+/vz6pVq8rl9d0NNw3ySZMmMWnSpBvu79KlC126dLnrRZVGBjuFqJzCw8OLZs5FRUWxcOFCPvzwQ9atW4enpydWq/VPPV58fDwPPfQQAI0bN+bChQt4enoyceJE3njjDUwmE0888QQAM2fO5MMPPyQ9PZ3w8PC7/truFjlFXwhRoen1enr27MnkyZPp1q0bX375JS1atGDYsGHs3r2brVu3/qnHCwkJISoqiq5du3Ls2DH8/PxITU0lNjaWOXPmUFBQQOfOnenXrx//+9//+OijjwDo3bs3ffr0oXbt2uXxMu+IZoL82mBnobTIhah0Bg4cSLdu3fjtt99ISkpiypQp/PLLL3h5eWEwGIouDHErXn31Vd544w2+/PJLrFYr7733HtWrVyctLY0hQ4ag1+sZOXIkzs7OVK1alcGDB+Pq6kqHDh2oVatWOb7K26eZZWwPncui/5wdfDGiDV0bl19fvBCipMq0jG1Fcd8uY1t08WVpkAshbuDw4cPMnDnTbnuvXr3+1ICo1mgnyGXWihAOoyhKmZdOqwiaN2/OkiVLHF3GHbmdThLtrH4oJwQJ4RCurq5kZGTcVsCIP0dRFDIyMkq9WPTNaKZFLtfsFMIx6tSpQ1JSEmlpaY4upVJwdXWlTp06f+pvNBPkcoq+EI5hNBoJDg52dBniJrTTtSItciGEKJV2glxOCBJCiFJpJsila0UIIUqnmSCX1Q+FEKJ0mgnyonnk0iIXQogStBPkV1vkMpdVCCFK0kyQy6wVIYQonWaCXC+zVoQQolSaCXI5RV8IIUqnnSCXWStCCFEqzQT5tVkr0iIXQoiSNBPkMtgphBCl006Qy2CnEEKUSjNBrtPp0Omka0UIIa6nmSAH9aQgaZELIURJmgpyg04n1+wUQojraCrI9XrpWhFCiOtpKsgN0rUihBB2NBXker0EuRBCXE9TQW7Q66RrRQghrqOtIJeuFSGEsKOpINdLi1wIIexoKsilRS6EEPa0FeR6nax+KIQQ19FUkMsp+kIIYU9TQS6zVoQQwp62glz6yIUQwo6mglxmrQghhD1NBbm0yIUQwp6mglwvs1aEEMKOpoLcIKsfCiGEHW0FuXStCCGEnVsK8kOHDhEZGWm3/auvvqJPnz5ERkYSGRnJ6dOn73qBfySDnUIIYc+prDt8/vnnrFmzBjc3N7t9MTExvP/++zRr1qxciruetMiFEMJemS3ywMBAZs+eXeq+2NhYFixYwNChQ5k/f/5dL+56cs1OIYSwV2aQ9+jRAyen0hvuffr0YfLkySxevJj9+/ezefPmu17gH8ml3oQQwt5tD3YqisKIESPw8fHB2dmZzp07c/To0btZmx31FP1yfQohhNCc2w5yk8lE3759ycnJQVEU9uzZU+595dK1IoQQ9soc7Lze2rVryc3NJSIigpdffpnhw4fj7OzMww8/TOfOncujxiKyaJYQQtjTKcq9TcZjx47RuHHj2/rbUV/t48KVfH4eH36XqxJCiIrtZtmpqROC1FP0pUUuhBB/pKkgN+ika0UIIa6nrSCXFrkQQtjRVJDrZfqhEELY0VaQ65AWuRBCXEdTQS5rrQghhD1NBbler+Mez5YUQogKT1NBbtDpKJQgF0KIEjQV5HKpNyGEsKepIJdLvQkhhD1tBbkMdgohhB1NBbler8MmQS6EECVoKshlsFMIIexpK8jlFH0hhLCjqSDXyaJZQghhR1NBbtDLKfpCCHE9bQW5ThbNEkKI62kqyPV6HYDMXBFCiD/QVJAbdGqQy8wVIYQopqkgv9Yil35yIYQopqkgN1zrWpEWuRBCFNFWkOukRS6EENfTVJAXD3Y6uBAhhKhANBXkBjXHZbBTCCH+QFNBLoOdQghhT1tBrpPBTiGEuJ6mglxmrQghhD1tBbnMWhFCCDuaCnKZtSKEEPY0FeSGq9XKrBUhhCimqSDXS9eKEELY0VSQy2CnEELY01aQS4tcCCHsaCrIdRLkQghhR1NBLl0rQghhT2NBrv6UFrkQQhTTVJAXn6Lv4EKEEKIC0VSQS9eKEELY01aQy2CnEELYuaUgP3ToEJGRkXbbN23axMCBA4mIiGD58uV3vbjrFZ+iL0EuhBDXOJV1h88//5w1a9bg5uZWYrvFYmHatGmsWLECNzc3hg4dSpcuXfDz8yu3Yq91rcgp+kIIUazMFnlgYCCzZ8+22x4fH09gYCBVq1bF2dmZ1q1bs2/fvnIp8ho5RV8IIeyVGeQ9evTAycm+4W4ymfDy8iq67eHhgclkurvVXUcGO4UQwt5tD3Z6enqSk5NTdDsnJ6dEsJcH/bVrdsoytkIIUeS2gzwkJITExESysrIwm81ERUXRsmXLu1mbHelaEUIIe2UOdl5v7dq15ObmEhERweuvv86oUaNQFIWBAwcSEBBQHjUWka4VIYSwd0tBXqdOnaLphf369Sva3qVLF7p06VI+lZVCglwIIexp6oQg6VoRQgh7mgpyaZELIYQ9bQV5UYvcwYUIIUQFoqkg11+tVk7RF0KIYpoKcjlFXwgh7GkryGWwUwgh7GgqyHU6GewUQojraSrIi7pWpEUuhBBFtBXk0rUihBB2NBXk12atSM+KEEIU01SQy6wVIYSwp6kgl1P0hRDCnqaC3CDX7BRCCDvaCnKddK0IIcT1NBXkemmRCyGEHU0FOYCzk57V0cn8eiTF0aUIIUSFoLkg/2RIC1yc9Pz92wNk5pgdXY4QQjic5oK8Z7OaTBvwADYF9pzJcHQ5QgjhcJoLcoDmdarhZjSwK16CXAghNBnkzk562gR5s+u0BLkQQmgyyAEeDvHlxEUT6aYCR5cihBAOpZ0gz70Ep7cU3Xy4vi8GCtkdn+64moQQogLQTpCfXA9f94eMeAAe8Hdmr+s4cncvcnBhQgjhWNoJ8sD26s+4nwBwSt6HL5fxT9mEVa7GLISoxLQT5N71oEZzOKYGOQnbAWihxLH3tHSvCCEqL+0EOUDjfpC0F7IvFAV5NV0OB/bvdnBhQgjhONoK8rC+6s+oRZAUBY2fAMB04nfyzIWArMMihKh8nBxdwJ/i3xhCusLW6ertVsMxJ+wizBTD+/+LIzkrj60n0mgT5M07/ZsRUt3TsfUKIcQ9oK0WuU4Hg7+GOg+B0R0C2+Mc3IFHXU/x1c4zrD92kT4P1CTm/BX+b/khaZ0LISoFbQU5gIsnjPgJ/rYLXLygYU+qWVIZE5TKx0Na8tETQXzfcDPpSSdZuveso6sVQohyp70gBzC6gneQ+nuTJ8DZi9cD9vFE7RxY2JXGx+eyxHM2n/wWQ67Z6tBShRCivGkzyP/I2QOaDYDYH+HLHpCXBY9OINhyihcs3/BDVJKjKxRCiHKl/SAHaBkJ1jy133zUOnj0dWgewbPGTSz6/YScMCSEuK/dH0Fep406CDpqHfiGqNsa9cZNyada1jFm/HZcBj6FEPctbU0/vBGdDpr0L7mtXgcAxgQlM2bbaTJzzMx4ujm6qxdwFkKI+8X90SIvjWd1qB5GD49T/KNLA37Yn8RXOxMcXZUQQtx192+QA9TrgO7sbl723c20WtuZ+nMsUQmXHF2VEELcVfd3kAd1BLMJ/drxDL00lyVuH/J/S3ey5lAyE1YdJkMuSiGEuA/cH33kNxLSBeo/qq7Jotho/8s/6WZZz/jv1H5yJ72ed59s5tgahRDiDpUZ5DabjcmTJ3P8+HGcnZ2ZMmUK9erVK9o/ZcoUDhw4gIeHBwBz587Fy8ur/Cr+M9yqwfD/Ft+O+pIXlSM07/Aqu+Iz+G7vWf4aXp9AX3eHlSiEEHeqzCDfsGEDZrOZZcuWER0dzfTp05k3b17R/tjYWBYuXIiPj0+5FnpXNBtIlU3v0j/IRvv6DVkdfZ6P1h/nP0NaOroyIYS4bWX2ke/fv5/w8HAAWrRoQUxMTNE+m81GYmIib775JkOGDGHFihXlV+nd0Gyg+jNmBQFVXPlLh2D+eyiZYylXHFuXEELcgTKD3GQy4elZvByswWDAalXXL8nNzeXZZ59l5syZLFy4kG+//Za4uLjyq/ZO+QRD3faw8V1YFsmYtn54uTjxwW/HHV2ZEELctjKD3NPTk5ycnKLbNpsNJye1R8bNzY3hw4fj5uaGp6cn7du3r9hBDjB4MTzyDzi2lqoH5jD20QZsjEtledQ5R1cmhBC3pcwgb9WqFdu2bQMgOjqahg0bFu1LSEhg6NChFBYWYrFYOHDgAE2bNi2/au8GrxrQ/W1o+hTsXcDIVlUID/XjtZWHWbZPlr0VQmhPmYOd3bt3Z8eOHQwZMgRFUZg6dSqLFi0iMDCQrl270r9/fwYPHozRaKR///6Ehobei7rvXOdXIfZHXPbOYUHkG7ywJIrXVh5h47FUAn3c6dmsBm2CNDCAK4So9HSKotzT1aSOHTtG48aN7+VT3tiqFyBmFYzeRmH1xszedJKFv5/BbLWh08GSUe1oGyxhLoRwvJtl5/19ZmdZekwF16qweiwGxcpL3RoS83YPdk3oQm1vN0Yt3kdCek7ZjyOEEA5UuYPcww/6fAgp0fDra3D1y4mvpwtfj2yLXqfjH98d5HxWHgfOZsop/UKICun+PkX/VjR9Es6Ph52fgGKD5hFQvRF1vH14f2Bzxnyznw7TNxXdfXyXBrzyeCPH1SuEENeRIAfo9jbkZ8HBJbB/kbrt4XH07PEeMwY2J7vASqCPOyv3J/Hp5lM8FuZPy0Bvh5YshBDXVO7BzuvlZULiLji8DI7+F8ZshxrFi2pl51t4fNY2nJ30TOrThC5h/hj0cqEKIUT5k8HOW+XmDWG9oe8scK0C6yZBoaVot5erkVkRLbBYbfz16ygGfbaT+DSTAwsWQggJ8tK5+8CjE+D0Zvi4BWybCZeTAGhf35dtrz7GzKebE5+WQ/9Pd3AqVcJcCOE4EuQ30m4MDP1eXZ9l0xQ10LfOgEILTgY9g9rU5efxHXFx0jN6SZTMaBFCOIwE+Y3odNCoFzz3E4yPhiZPwOb34LOOcGIdKAp1vN2ZPawlCRm5tJu6kdFLorh4Jd/RlQshKhkZ7Pwz4n6B3yZC5hnwbwINe0JwOMfc27A6+jxf70zExagOhA5oWRu9DIQKIe6Sm2WnBPmfZS2AmJWw7wv1RCKbFR4eB63/wpk8F15ec5boc1k8FOTN7KGtqFHV1dEVCyHuAxLk5cWSD+vfgL0L1NsGZ5RWI/jJK4LXNmTg7mzgyRa10engWEo2z7avR89mNRxbsxBCkyTIy9uZ3yH7AiT8DtFLQafHFNSdTRfd+TirI+eUAHw9nUm5nM+AlrUZ+2gIoQEV5LqmQghNkCC/l7LOwu8fQfxGuJKCYnCm8KHR4BfKvHP1+HTfFQqsNv4aHsy/eoTh7CTjzUJo3vFfwb8xeAcVbyu0guHunTwvQe4ol5NgzXg11AF0eqw1WhCb5832dA9wr06j4EB+NLelSaA/f3+sgWPrFaIiUBRIOQS1Wji2DnMunNsD9R9VZ7HdSPJBWPAoeAfDC1vA2QN+HA3n9sLf96r7T66DDi+q56jcpptlp6y1Up6q1oHIVWpfesYpiP0Rp6R9PJgfzwPGJPRmKxyHYKU2k44/RyP/4XRrWrIP/VSqie0n0xjSNhBXo8FBL0SIe+jkevh2EDy7Ehp0c0wN2RfguyFqCEeuhpDHbnzfje+ASxW4fA6WPg16I5zdqe479B3smgOX4uHA1zBqPfjd/QabBPm9YHRV12z5w7otelshSsEVLsVtp/6mf/Fd9nskLV/AVupixoCPIR9vpwIu5rugt9Vg6c4gOga6UDU/GW9DHi41m0DtNpB/Geo8ZP/msNlAL902ooLKOgcF2RDQxH5f0l7158Gl4NcItn8E9TpAo97g7H7zxy0wQWZCiX9rZbKa4cSv6oeGTg/bZ8HueWArVEP51Ab7IFcU+DYCLp2GjJPw+BS1Jb55Kji5Qu8PYP9XsO4NsORAl0mQmXjzlv0dkK6VisCcQ/reH0jeswJ/Swp6bGTjRobFhQBjLjWt53G2ZmNTdFzAmxzFjWB9Ck7Yih8joBm4eKnz26356hTJxyaqX+eEKC+KAqv/Bo37qesU3apvBkLSPnjxMLhVU7dZ8tVGzzcD1fA0uEDt1sWtW99QGLZMDVt3H/WiMNdb+yJEfwv/PFn8uDdiNUNOKqweC2e2qf+G9Aa1W6dxP+jyBvz6KmRfhL/vVv8m7mfwqqlOQ17UU21EedWAAQvV2v9o/2JYOx78GsLf9txxw0q6Vio6Zw/8Oj6HX8fnijb5AyHXbigKVzIuciFfzyWzgZjzl1l09hw5KSc4fUVHJ9se+uWeJcQIxsPLsdmsnNXVIWj9myw9kI6h1TA6NQ1iY1wqH284yYeDH6Rzw+oOeKFCkwotan9vUAf7fecPwKFv1fBr1Mu+xVloAUueugjdH7cl7lJbqrs+VVur5w/AF4/Dcz9DcjTUeAAuHFFDvNdMdRDxxxdgdiv1MXQGCOoIj78LNR9Ut+VlwqFlUGhW10lq1AcKrqgXkPmjnbNh8zT1+QH0TtDxZYj6Uv1gGvq9+lpAbaWvm6SOd7n7wsrn1Q+Q2q3V7pTh/1Vb4qV5YJDatdLhxXL/dixBrgU6HVX8anDtn0L7+r5AfaAz2fkWPt7wCH12JuCV40SwjytxyZl4uzvzhcs0nsn4hIJ1c9nyvxZcsNXnZX0Whu8zMT/UDucuE1CcPUg3mTEVWAnydUdXTl/9KqTMRFg6CIYsBb9yvmj4waWQfhy6v1O+z1OW3Etq4PmGlH3fgmz1W96Oj2HTuzBqA9R9qOR9jvyg/kyNVVvYdduW3L9uEsT+COOiisM8OVoNUc8aahdGuzFw6HuwWWDrdMhNh0dfh4PfgNEdHnpeDcLnN6rBWLWOOjvswBJ1kPHJefDgELUlbs1TW/InN0D8ZnU56hej1ZVNr73+zVPVD4oG3dVWe9226odBu7HqxWWq1Cyu/1qQn9qotrwtuep/cT+pdd0oxEHtBhr5v7KP810gQa5xXq5GJvVtwqA2dflk00my861EtG/Ay90aUtW5K0rC7+Qd/pnwuNX0MEdhda5KfL4XTnvmkBe7hkn8jZXpgRixMsPjW5qF1CN0yPTK0b9+cp0arrGrofO/yu95bDY1PEwX4bF/g5NL+T3XzSgKfDMAMuLVYPUKKP1+ljz45Z8Q/R0MXgx75qvbjyxXg277R9B/jhqOsaug/mOQFKW2aP8Y5JZ8NXjzL6sDfo9NULcn/K7+HLQIvuoDv3+oBi5A/NWrcdVsAS2GqS3va+9F3xC19X7NI/+AJU/BlmnQdADsWwh120GV2mrQmk3qmdd75kOLZ9T+7HN71SDuOwsCmpZ83aUdj+ph6uMd+UF9fmdP9SpiUV9A6+du9ciXO+kjryxshWq/nrM7s9afYM+WtcwwzKOOPp0E/254WLMIuLQPgPzQfrh2fpmj1OdEWi69H6ipzncvtMJPL5HqVJMVLgMY3SVM2xfW+OEvahDV6wB/+aX8nidhB3x1tf/4hS1Qq+Wt/d3pLeq1ZJ+Ybd/SvR1xv8D3Q9Xfm0fAgAWl3++bp+HUevDwh9wMUArVrg1zjrotNRZCH4emT6n9y4MWq33MB5eoLdDardXHiV0NP4wAn/pgSoXGT6h92xcOq7f/vkftX4/+FlDUsI1eqob3xPNgdCv7NcWshBUjoWEvdcByyLfqB8fqsWBwVicEXIxRu3zyL6t/06CbOiPmVu2Zr/aVG5zV9ZWe/hJSj0HN5rf+GHeBXFhCqIM4V0f8X+7ekA/+OZao3j9jaf089fOPEnD5MBldPuT9wmdwPvkzLOxCrc+bol81ilfnLSMxIwd2zIKDS/DfN4NHt0WweO0GZq0/wcB5O0nOyru3r+dO2x+KAmd3qb+f26vOdvizLHmwZAAc/qH0/ZkJcGyt2irVX/3ym3zw1h7bnKueg5AWpw7+nVintuyvSY2DIyvgSnLxNkVR/640NhtsmaqGaoeX1KtgTQmAhd2K1toH4OxuNcS7TYYRa9XwqvEAdH8XctLUEG/YS/02s3qsOpDXsIe6fr9nDfhuGOz9XO0qifpS3Tb0e7UhceJ/ap/4mW3qhydA59fUY+PkCj2mgruf2gq+lRAHCOsHngFqiId0VWe2NOimPmbLZ6HnNLWfvEoddSZJULj6rejPaDNKHQgtNKuPbzDe8xAvi7TIherqWWjTf43jh60H6OVxnGf9z1A/fTMGczYHlVBa6OPZqGvHT7YOTDN8hq2wkCWF3ThOEC7uXvgG1CGp0JvmwbWIdN2BmykRgsI5H9CZHfFZXMm3EPFQXbxcjX+utnP74Nh/4ZHx4OmvzvFd/ASE9YFub5W8b06G+pX/2tdxWyFcOqPOTqjdBpyc1e2XzsAnLSCsr/o1fNhyNZDKknsJfnoZAh9Wr/O6ZZoaPi8eAhfPkvdd1BsSd6i/PzBYDcjG/dQWdvZF+G0CPDqx9HnFG99Ruxyemg9bpqsrblYPg7/8qn6L+Pn/1PsFNFP7jo2u8Muraqu41/vqtD2jW3HgrHtDvcD4gIXQuK9ad6FF7Yd2clUH5Br3Ux83+QC8dETt/70Qox5Pd1/4oKHavfD8Rtg2A9x8oPWI4q6ii7Hqa87PKn4dj/xDnZpXYFL7uw8vg59egqHfQUgX9T47P1VnWnX6p9q3rTfcfN729bbOhN8/gDE7io9lymF13MPoBhePqt8oypq6eDPn98OGyTB4SdmzYcqJnNkpblmBtZCtx9MID62Om7MBci+RvelDLp/cRU6+hUV132Vgx+Y0dcsicdFIGhUcRq8UlvpYisEFXWEBvystmGYeTA/DPp72isXP3cDWgoZ0MhzB1QBKSFcyzh4j06M+7j3e5MrORVSrEUTNdk+rV2fa+r769d7NBx4Zp3YRnI9Sn6T7u+oZgM6eaitx6wwI7qS2KOM3QdQiuHxWvW9wZ3VgLO+SOkti7Xh4fpPa7eEZoLY+u72lBtuez6D936BBV/VvU+PU+c275kLaMXWbTq/25SYfuDrw5akO1PnUV/uNP38Mmj2ttmS7vwMb31Z/H7MdfnpF7Wet/6h6wskfB5lPbVAHYZsPgafmqS3/mJXw37+rgXtkhdpv22o4rBkHLZ6F0O5qN4aHv/qhpRYIPaeD6YI6N/qh59VW6R+fKzVOPQ7n9hRv6/omhP+f/f/QlMPqDJAqtW78BjLnqoOkeZmQelQ9ftdPE7zLp65jK1Q/YD3v75lYEuSi/JhzIfMMijkHXU4aXEkm4WwCr0dXJ8oazBDDZt42LsaADRt6omwNcTboecB2jIO6MGr6VCXg0j4SbAE00CeTo7jgoVOvtnSlSihVrpxU+3PbvqDOHrjaHbKj5Qe0Tl+D67ltJesJ6aoOphWa1dtB4eo0MEuu+vc2a/F9XavCqwmw6q/q1323apB+ElDUE0FsFrUbwb+xOnNDKVRbp4O+Ugfnjq2FF7bCz6+o3QZ6oxp02Snq/Qot8MrR4iDb+C7Kjv+gjN6Bfn4HNRCzzqqhqTNA0yfVbxsr/qJ2BTy/vuSsiOXDiwcFh/0ADR+H9W+qtYE6z3r0VnXdDydXOLBY/XAD9UOh/5wbB2hqnPrtIfsCdHzp5rMxhENIkIt7bl/CJX4/mU6bet500MdgSI0lu2F/HvvsOFm5Zj4Y2IT318WTcjkfH3cjL3VvSEfLTjyj5nLpwb+SsH8dXXJ+ZZHXC1QNH0uDAC++3XuWqJg4PCyXOKbUo4Y7zAkvwGSGRt5Qwz+ARK8WxBzYgXvqQTybPE7L5g/iZLjazXJ2D5zbrba+4zepJ091fEndpyhqy/fXf6ldAI/9G/Z9rs62yMtUB/a6vglVA4vD0FaodgNkX1BXwAztpgb4xnfVr/ptR0PvGepdbQqrv1/AgBOvcsXgjZcuD924fWrLOy2u5MHzqQ/PrlIvM/hHF2Nh3iNq3WN3qi1rRVG/XZzaoF7Fyv8P/7asZvU11G0PdVrf/f/J4p6SIBcVxtHkK1zOs/BwiC85BVYuXsknyNfD7mpKBdZCftgTz6LdycSnqSdueDgbeKJFLR5vWoNqbkb+8d1BkjLVQVaDXkd9Pw9OXnch7PrVPXixayiPN6lBuqmA81l5ZOdbOXg2E71OR/v6vhxKyuLilXyquBoZ0Ko2wX4e5FtsuBr16Mw56qBlQNNbP71aUdQTUuq2L+qXfWN1DGt3x7DW8z1OF1RjrXMvTnp3YnrPmjT2zFPPFjywWP0QafOXG09R3L9YraVOm1s/6OK+IEEuNEtRFGKTr3D8QjbdmgRQ1a14oDTDVMDeM5eo6+POygNJHE2+QvcmAXQJ88fPy4VtJ9L4z4aTnEo1YdDrKLQVv9Wd9DoUKNpWzd1Idr4Vm6JQxdXI5TwLzgY9/VvUYuqABzAa9JxOM/Fb7EX+0iGIjBwzv59Io02QDw38Pa8vm/2Jmbga9TQK8OLXmAv847uDPN8xmH/3acwvRy6w/ugFdsRn4GY08NP4jlRxNWK7WotcIlCURoJcVFqFNoU9ZzLYeiKNOtXcCKnuiauzgbAaXhRYbBw4m8kDtaviX8WVtOwCluxKICPHTK1qbpy7lMv3+84RHupHnwdq8v7/4sjMtdA2yIfT6Tmkm9S+/HbBPgxpW5fkrHya1qpCVEImn24+VaKOVoHVWDb6YYyG4hm/UQmXiFiwm1B/T1rX8+a32AvU9/Pk61Ft73ily4NnM7mUY6ZLmH+5nq2bbymUVTnvEQlyIW7T0j2JvLP2KAVWG3V93BjWth4zf4ujZlU3Phz8IDHnL/PZ1tNFoX5NRJu6PNLAl9NpOSjAs+0C8a9if/3W1QfPs3D7aeJSsnkoyIddpzPoEuaPm9FAwwAvxnVpwI5T6aw5lMzJi9k0q12VtsE+tK/vS0AVV6yFNs6k53Apx8z+s5nEJl/h3KVcDiepJ7+Eh/oxskMwBr2OfQmXeDjEl5Z1vUnKzCWkuudtt/4VReGN/8bw44HzLBv9MM1ql7KA1T2kKArf7DlL+2AfQgO8KLAW4uJ0f33ASJALcQcKrIWcvGiinq87Xq5GjiZfoWZVV7w91DnpuWYrp9NyqOvtzvZT6WTmmnmmXeCfagkrioJOp2P2xpN8uP4E3u5GMnMt1PF2IykzjyquToTVrMLR5CuYCtSZNw/Wqcr5rDzSTeaix6nn605AFVcebxKAs5Oe6b/GkWsuOT302hhp+/o+/Lt3E7w9jJxJz2HL8TQOncviqVa1iWhTt3iQ+A/yLYVsOZ7K1hNpfLf3HC5OegKquBIe6kdiRi6jOgbTMdQPJ70OS6FidwWsA2czeXlZNM+0C+Sv4fXv2reFDUcv8vzXUTQM8OTjIS2JmL+LZ9rX47WeYXfl8SsCCXIhNEJRFM5eyqWutzuLdyUwf+tpRnUMZsQjQTg76bEW2oi7kM3WE2msP3qRmlVd6dY4gOpeLoTV9MLfq2SrP9dsJfpcFgUWG60Cvfk1JoWkzDw8XZ2YvfEkOX8IeWeDnro+bsSn5VDF1YkmtaqQU1CIh4uBZrWq0qNZDd7/NY6oxEwAnmkXyIBWtYmYvxu9Xoevh3pdWqBoTKJVYDV6NK2B4Wqwz918CqtNIc9SSPcmAUzs3Zhgv5tPdbTZlFK/OSiKwq74DAx6HRNWHeFSrpmsXAsezoai17XoLw/xWCP/O/p/klNgJafAShU3Y4luJEVRKLQp6HW6ezKuIUEuhLCTcjmPqIRMsvOt1PN154E6VfFycWLz8VTWH71I3IXsooHfoylXMFttOBv0vP/0A3RtHECVq2fonko14e1uxMvVyC9HUkjMyMVcWIgOHb8cSeF0ek7Rc9b382DJ8+345XAKszacoMBqo0MDPzxdDOw+fQlTvhUngw5vd2equRvJzDGTbjIzqE0djAY9B89l0TrQGz8vZ7afTGdnfEbRY3/5XBu+3pXIluNpLIhszUfrT3A6LYdODf1oG+zDQ0E+tKhbrcxvAYqicPxiNluOp7HleCpRCZlYbQoGvY52wT40q12V7Hwrv8akkJVrQa8DHw8XujX258VuodSsWnJ5gW/3nGX7qTQ+GtzijsYTJMiFEHckK9fM2kPJNKlVhdb1bv26k4qicCVf7QrS6cDD2aloobW07AIW7TjD2sPJmK02wkOr4+fpgqXQRubV1rWXqxNGg57/Rp9Hp9PRtFYVYpPVDxVvdyMvd2+Iv5crpgIrA1vVxlRg5VSqiZaB3qRczmPh72f4LfZC0TTVRgFe5JitVHE18u8+jcnKtbDh2EX2J2bSMrAabkYDW0+kFX2zCKvhxaON/Knt7cb5zDw2xV0kMUNdz6Z7kwAaBXhhLrRx7lIuPx9JQa/TEdm+HoWKQk6BlU4Nq/Pi99EU2hSeaRfIe089cNv/DyTIhRCalpljxmDQUcXVSIG1EEUBFyf9LfexX8ox82tMCv89mEx1Lxeiz2Vx/upCb97uRloFenPgbCbWQoUODfx4LKw6nRv6U6Oq/QA1lN7dc+5SLrPWn+DH6PMYDXoMOh15lkJqV3Oja2N/vt6VyIoxD9Mm6PYuwCxBLoQQf2AqsLL2UDIN/D1pFeiNQa/DZlNQ4I6XZk69ko+nqxOX8yws2Haap1vXoVGAF9/sTqTvg7Xw87y99eglyIUQQuNkPXIhhLiPlRnkNpuNN998k4iICCIjI0lMTCyxf/ny5QwYMIDBgwezefPmcitUCCFE6cpcFHjDhg2YzWaWLVtGdHQ006dPZ968eQCkpaWxZMkSVq5cSUFBAcOGDaNDhw44OzuXe+FCCCFUZbbI9+/fT3h4OAAtWrQgJiamaN/hw4dp2bIlzs7OeHl5ERgYSFxc3I0eSgghRDkoM8hNJhOensWruxkMBqxWa9E+Ly+von0eHh6YTLdx7UMhhBC3rcwg9/T0JCen+Mwsm82Gk5NTqftycnJKBLsQQojyV2aQt2rVim3b1MtpRUdH07Bhw6J9zZs3Z//+/RQUFJCdnU18fHyJ/UIIIcpfmYOd3bt3Z8eOHQwZMgRFUZg6dSqLFi0iMDCQrl27EhkZybBhw1AUhZdffhkXl9ub7C6EEOL23PMTgqKjoyXshRDiTyooKKBFixal7rvnQS6EEOLukjM7hRBC4yTIhRBC4yTIhRBC4yTIhRBC4yTIhRBC4yTIhRBC48o8IagisNlsTJ48mePHj+Ps7MyUKVOoV6+eo8uqMJ566qmi9XDq1KlDREQE7733HgaDgY4dOzJu3DgHV+hYhw4d4oMPPmDJkiUkJiby+uuvo9PpCA0N5a233kKv1/Ppp5+yZcsWnJycmDhxIs2bN3d02ffcH4/T0aNHGT16NEFBQQAMHTqU3r17V+rjZLFYmDhxIufPn8dsNjN27FgaNGhQMd5Pigb89ttvymuvvaYoiqIcPHhQGTNmjIMrqjjy8/OV/v37l9j2xBNPKImJiYrNZlOef/55JTY21jHFVQALFixQ+vbtqwwaNEhRFEUZPXq0snv3bkVRFOWNN95Q1q1bp8TExCiRkZGKzWZTzp8/rwwYMMCRJTvE9cdp+fLlyhdffFHiPpX9OK1YsUKZMmWKoiiKkpmZqXTu3LnCvJ800bVys6V0K7u4uDjy8vIYOXIkw4cPZ9++fZjNZgIDA9HpdHTs2JGdO3c6ukyHCQwMZPbs2UW3Y2Njadu2LQCdOnVi586d7N+/n44dO6LT6ahVqxaFhYVcunTJUSU7xPXHKSYmhi1btvDMM88wceJETCZTpT9OPXv25MUXXwRAURQMBkOFeT9pIshvtpRuZefq6sqoUaP44osvePvtt5kwYQJubm5F+z08PMjOznZghY7Vo0ePotU6Qf0HeO3K69eOzfXvr8p4zK4/Ts2bN+fVV19l6dKl1K1blzlz5lT64+Th4YGnpycmk4nx48fz0ksvVZj3kyaC/GZL6VZ2wcHBPPHEE+h0OoKDg/Hy8iIrK6tof05ODlWqVHFcgRWMXl/8lr92bGQ5Znvdu3enWbNmRb8fPXpUjhOQkpLC8OHD6d+/P/369asw7ydNBPnNltKt7FasWMH06dMBuHjxInl5ebi7u3P27FkURWH79u20adPGwVVWHE2aNGHPnj0AbNu2jTZt2tCqVSu2b9+OzWYjOTkZm82Gj4+Pgyt1rFGjRnH48GEAdu3aRdOmTSv9cUpPT2fkyJH861//4umnnwYqzvtJE83a0pbSFaqnn36aCRMmMHToUHQ6HVOnTkWv1/PPf/6TwsJCOnbsyIMPPujoMiuM1157jTfeeIOPPvqI+vXr06NHDwwGA23atCEiIqLoYuOV3eTJk3n33XcxGo34+fnx7rvv4unpWamP02effcaVK1eYO3cuc+fOBeDf//43U6ZMcfj7SVY/FEIIjdNE14oQQogbkyAXQgiNkyAXQgiNkyAXQgiNkyAXQgiN08T0QyFu1Z49e3jppZdo0KBB0TZvb28++eSTO3rc119/nd69e9OpU6c7LVGIu06CXNx32rdvz6xZsxxdhhD3jAS5qBQiIyMJDg7mzJkzKIrCrFmzqF69OtOnT2f//v0A9O3blxEjRpCQkMCkSZOwWCy4uroWfSgsW7aMhQsXYjKZmDx5Mo0aNeLFF1/EZDKRl5fHyy+/TMeOHR35MkUlJUEu7ju7d+8mMjKy6Hbnzp0BdamHd955h6VLlzJ//nw6dOhAUlISy5cvx2q1MmzYMNq3b89//vMfXnjhBTp16sTGjRs5evQoAE2bNuVvf/sbq1atYtWqVTzzzDNkZWWxcOFCMjIySEhIcMTLFUKCXNx/Suta2bp1K+3btwfUQN+0aRM1atSgTZs26HQ6jEYjDz74IPHx8Zw5c4aWLVsC0LVrVwB++uknmjZtCoCfnx/5+fmEhoYSERHBK6+8gtVqLfHhIcS9JLNWRKVxbR37AwcO0KBBA0JCQoq6VSwWCwcPHqRevXqEhIRw5MgRANasWcOSJUsAipYrveb48ePk5OSwYMECpk+fzrvvvnsPX40QxaRFLu4713etAOTn5/Pjjz/y1Vdf4ebmxowZM/D29mbv3r1ERERgsVjo2bMnTZs25dVXX+XNN99k3rx5uLq6MnPmTGJjY+2eJygoiDlz5vDrr79is9kYP378vXqJQpQgi2aJSiEyMpLJkycTEhLi6FKEuOuka0UIITROWuRCCKFx0iIXQgiNkyAXQgiNkyAXQgiNkyAXQgiNkyAXQgiN+3/l0bslbCrwOQAAAABJRU5ErkJggg==",
      "text/plain": [
       "<Figure size 432x288 with 1 Axes>"
      ]
     },
     "metadata": {},
     "output_type": "display_data"
    },
    {
     "data": {
      "image/png": "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",
      "text/plain": [
       "<Figure size 432x288 with 1 Axes>"
      ]
     },
     "metadata": {},
     "output_type": "display_data"
    }
   ],
   "source": [
    "def plot_loss_curves(history):\n",
    "  \"\"\"\n",
    "  Returns separate loss curves for training and validation metrics.\n",
    "  Args:\n",
    "    history: TensorFlow model History object (see: https://www.tensorflow.org/api_docs/python/tf/keras/callbacks/History)\n",
    "  \"\"\" \n",
    "  loss = history.history['loss']\n",
    "  val_loss = history.history['val_loss']\n",
>>>>>>> Stashed changes
    "\n",
    "  accuracy = history.history['accuracy']\n",
    "  val_accuracy = history.history['val_accuracy']\n",
    "\n",
    "  epochs = range(len(history.history['loss']))\n",
    "\n",
    "  # Plot loss\n",
    "  plt.plot(epochs, loss, label='training_loss')\n",
    "  plt.plot(epochs, val_loss, label='val_loss')\n",
    "  plt.title('Loss')\n",
    "  plt.xlabel('Epochs')\n",
    "  plt.legend()\n",
    "  plt.grid()\n",
    "\n",
    "\n",
    "  # Plot accuracy\n",
    "  plt.figure()\n",
    "  plt.grid()\n",
    "  plt.plot(epochs, accuracy, label='training_accuracy')\n",
    "  plt.plot(epochs, val_accuracy, label='val_accuracy')\n",
    "  plt.title('Accuracy')\n",
    "  plt.xlabel('Epochs')\n",
    "  plt.legend()\n",
    "\n",
    "plot_loss_curves(history)"
   ]
  },
  {
   "cell_type": "code",
<<<<<<< Updated upstream
   "execution_count": null,
   "metadata": {},
   "outputs": [],
=======
   "execution_count": 30,
   "metadata": {},
   "outputs": [
    {
     "name": "stdout",
     "output_type": "stream",
     "text": [
      "Training Accuracy:  0.9699863791465759\n",
      "Testing Accuracy:  0.95652174949646\n"
     ]
    },
    {
     "data": {
      "image/png": "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",
      "text/plain": [
       "<Figure size 432x288 with 1 Axes>"
      ]
     },
     "metadata": {},
     "output_type": "display_data"
    },
    {
     "data": {
      "image/png": "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",
      "text/plain": [
       "<Figure size 432x288 with 1 Axes>"
      ]
     },
     "metadata": {},
     "output_type": "display_data"
    }
   ],
>>>>>>> Stashed changes
   "source": [
    "# Evaluating the model on the training and testing set\n",
    "score = model.evaluate(x_train, y_train, verbose=0)\n",
    "print(\"Training Accuracy: \", score[1])\n",
    "\n",
    "score = model.evaluate(x_test, y_test, verbose=0)\n",
    "print(\"Testing Accuracy: \", score[1])\n",
    "plot_loss_curves(history)\n"
   ]
  },
  {
   "cell_type": "code",
<<<<<<< Updated upstream
   "execution_count": null,
=======
   "execution_count": 31,
>>>>>>> Stashed changes
   "metadata": {},
   "outputs": [],
   "source": [
    "preds = model.predict(x_test) # label scores \n",
    "\n",
    "classpreds = np.argmax(preds, axis=1) # predicted classes \n",
    "\n",
    "y_testclass = np.argmax(y_test, axis=1) # true classes\n",
    "\n",
    "n_classes=6 # number of classes"
   ]
  },
  {
   "cell_type": "code",
<<<<<<< Updated upstream
   "execution_count": null,
   "metadata": {},
   "outputs": [],
=======
   "execution_count": 32,
   "metadata": {},
   "outputs": [
    {
     "name": "stdout",
     "output_type": "stream",
     "text": [
      "                precision    recall  f1-score   support\n",
      "\n",
      "Bronchiectasis       1.00      1.00      1.00         3\n",
      " Bronchiolitis       0.75      1.00      0.86         3\n",
      "          COPD       0.97      1.00      0.98       159\n",
      "       Healthy       0.75      0.86      0.80         7\n",
      "     Pneumonia       1.00      0.43      0.60         7\n",
      "          URTI       1.00      0.40      0.57         5\n",
      "\n",
      "      accuracy                           0.96       184\n",
      "     macro avg       0.91      0.78      0.80       184\n",
      "  weighted avg       0.96      0.96      0.95       184\n",
      "\n"
     ]
    }
   ],
>>>>>>> Stashed changes
   "source": [
    "# Classification Report\n",
    "c_names = ['Bronchiectasis', 'Bronchiolitis', 'COPD', 'Healthy', 'Pneumonia', 'URTI']\n",
    "print(classification_report(y_testclass, classpreds, target_names=c_names))"
   ]
  },
  {
   "cell_type": "code",
<<<<<<< Updated upstream
   "execution_count": null,
   "metadata": {},
   "outputs": [],
=======
   "execution_count": 33,
   "metadata": {},
   "outputs": [
    {
     "data": {
      "text/plain": [
       "<AxesSubplot:>"
      ]
     },
     "execution_count": 33,
     "metadata": {},
     "output_type": "execute_result"
    },
    {
     "data": {
      "image/png": "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",
      "text/plain": [
       "<Figure size 720x576 with 2 Axes>"
      ]
     },
     "metadata": {},
     "output_type": "display_data"
    }
   ],
>>>>>>> Stashed changes
   "source": [
    "# Confusion Matrix\n",
    "confusion = confusion_matrix(y_testclass, classpreds)\n",
    "df_com = pd.DataFrame(confusion, index=c_names, columns=c_names)\n",
    "plt.figure(figsize=(10, 8))\n",
    "sns.heatmap(df_com, annot=True, fmt='g', cmap='Blues')"
   ]
  }
 ],
 "metadata": {
  "kernelspec": {
   "display_name": "aifinity",
   "language": "python",
   "name": "python3"
  },
  "language_info": {
   "codemirror_mode": {
    "name": "ipython",
    "version": 3
   },
   "file_extension": ".py",
   "mimetype": "text/x-python",
   "name": "python",
   "nbconvert_exporter": "python",
   "pygments_lexer": "ipython3",
   "version": "3.7.16"
  },
  "orig_nbformat": 4
 },
 "nbformat": 4,
 "nbformat_minor": 2
}
