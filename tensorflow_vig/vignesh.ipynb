{
 "cells": [
  {
   "cell_type": "code",
   "execution_count": 2,
   "metadata": {
    "tags": []
   },
   "outputs": [],
   "source": [
    "\n",
    "import os\n",
    "import pandas as pd\n",
    "import seaborn as sns\n",
    "import tensorflow as tf\n",
    "import matplotlib.pyplot as plt\n",
    "import numpy as np\n",
    "\n",
    "import scipy.io.wavfile as wav\n",
    "from os.path import isfile, join\n",
    "from scipy.fftpack import dct\n",
    "from python_speech_features import mfcc\n",
    "from os import listdir, path\n",
    "from keras.utils import np_utils\n",
    "from tensorflow.keras.layers import (Embedding, LSTM, GRU, Dense, MaxPooling1D, \n",
    "                                      Dropout, Reshape, LeakyReLU, ReLU, Flatten, \n",
    "                                      concatenate, Bidirectional, TimeDistributed, \n",
    "                                      add, Conv1D, SeparableConv1D, GlobalMaxPooling2D, \n",
    "                                      GlobalAveragePooling2D\n",
    "                                     , Conv2D, Input, Activation, \n",
    "                                      BatchNormalization, MaxPooling2D, GlobalMaxPooling1D,\n",
    "                                      GlobalAveragePooling1D)\n",
    "from tensorflow.keras.models import (Sequential, load_model, Model)\n",
    "from tensorflow.keras.utils import to_categorical\n",
    "from tensorflow.keras import backend as K\n",
    "from tensorflow.keras.optimizers import Adamax\n",
    "from tensorflow.keras.callbacks import (ModelCheckpoint, EarlyStopping)\n",
    "from tensorflow.keras import regularizers\n",
    "from tensorflow.keras.applications.densenet import DenseNet201\n",
    "\n",
    "from sklearn.metrics import (confusion_matrix, classification_report, \n",
    "                             roc_curve, auc)\n",
    "from sklearn.model_selection import train_test_split\n",
    "from sklearn.preprocessing import LabelEncoder\n"
   ]
  },
  {
   "cell_type": "code",
   "execution_count": 4,
   "metadata": {
    "tags": []
   },
   "outputs": [
    {
     "name": "stdout",
     "output_type": "stream",
     "text": [
      "[]\n"
     ]
    }
   ],
   "source": [
    "print(tf.config.list_physical_devices('GPU'))"
   ]
  },
  {
   "cell_type": "markdown",
   "metadata": {},
   "source": [
    "# 1. Pre Processing the Data"
   ]
  },
  {
   "cell_type": "code",
   "execution_count": 6,
   "metadata": {
    "tags": []
   },
   "outputs": [
    {
     "data": {
      "text/html": [
       "<div>\n",
       "<style scoped>\n",
       "    .dataframe tbody tr th:only-of-type {\n",
       "        vertical-align: middle;\n",
       "    }\n",
       "\n",
       "    .dataframe tbody tr th {\n",
       "        vertical-align: top;\n",
       "    }\n",
       "\n",
       "    .dataframe thead th {\n",
       "        text-align: right;\n",
       "    }\n",
       "</style>\n",
       "<table border=\"1\" class=\"dataframe\">\n",
       "  <thead>\n",
       "    <tr style=\"text-align: right;\">\n",
       "      <th></th>\n",
       "      <th>Patient Number</th>\n",
       "      <th>Age</th>\n",
       "      <th>Sex</th>\n",
       "      <th>Adult BMI (kg/m2)</th>\n",
       "      <th>Child Weight (kg)</th>\n",
       "      <th>Child Height (cm)</th>\n",
       "    </tr>\n",
       "  </thead>\n",
       "  <tbody>\n",
       "    <tr>\n",
       "      <th>0</th>\n",
       "      <td>101</td>\n",
       "      <td>3.00</td>\n",
       "      <td>F</td>\n",
       "      <td>NaN</td>\n",
       "      <td>19.0</td>\n",
       "      <td>99.0</td>\n",
       "    </tr>\n",
       "    <tr>\n",
       "      <th>1</th>\n",
       "      <td>102</td>\n",
       "      <td>0.75</td>\n",
       "      <td>F</td>\n",
       "      <td>NaN</td>\n",
       "      <td>9.8</td>\n",
       "      <td>73.0</td>\n",
       "    </tr>\n",
       "    <tr>\n",
       "      <th>2</th>\n",
       "      <td>103</td>\n",
       "      <td>70.00</td>\n",
       "      <td>F</td>\n",
       "      <td>33.00</td>\n",
       "      <td>NaN</td>\n",
       "      <td>NaN</td>\n",
       "    </tr>\n",
       "    <tr>\n",
       "      <th>3</th>\n",
       "      <td>104</td>\n",
       "      <td>70.00</td>\n",
       "      <td>F</td>\n",
       "      <td>28.47</td>\n",
       "      <td>NaN</td>\n",
       "      <td>NaN</td>\n",
       "    </tr>\n",
       "    <tr>\n",
       "      <th>4</th>\n",
       "      <td>105</td>\n",
       "      <td>7.00</td>\n",
       "      <td>F</td>\n",
       "      <td>NaN</td>\n",
       "      <td>32.0</td>\n",
       "      <td>135.0</td>\n",
       "    </tr>\n",
       "  </tbody>\n",
       "</table>\n",
       "</div>"
      ],
      "text/plain": [
       "   Patient Number    Age Sex  Adult BMI (kg/m2)  Child Weight (kg)  \\\n",
       "0             101   3.00   F                NaN               19.0   \n",
       "1             102   0.75   F                NaN                9.8   \n",
       "2             103  70.00   F              33.00                NaN   \n",
       "3             104  70.00   F              28.47                NaN   \n",
       "4             105   7.00   F                NaN               32.0   \n",
       "\n",
       "   Child Height (cm)  \n",
       "0               99.0  \n",
       "1               73.0  \n",
       "2                NaN  \n",
       "3                NaN  \n",
       "4              135.0  "
      ]
     },
     "execution_count": 6,
     "metadata": {},
     "output_type": "execute_result"
    }
   ],
   "source": [
    "BASE_PATH = './input/final_database/'\n",
    "DATASET_PATH = './input/final_database/dataset/'\n",
    "DEMOGRAPHIC_NAMES = ['Patient Number', 'Age', 'Sex', 'Adult BMI (kg/m2)', 'Child Weight (kg)', 'Child Height (cm)']\n",
    "DIAGNOSIS_NAMES = ['Patient Number', 'Diagnosis']\n",
    "\n",
    "df_demographic = pd.read_csv(f'{BASE_PATH}/ICBHI_Challenge_demographic_information.txt', names = DEMOGRAPHIC_NAMES, sep = '\\t')\n",
    "df_diagnosis = pd.read_csv(f'{BASE_PATH}/ICBHI_Challenge_diagnosis.txt', names = DIAGNOSIS_NAMES, sep='\\t')\n",
    "df_demographic.head()"
   ]
  },
  {
   "cell_type": "code",
   "execution_count": 7,
   "metadata": {
    "tags": []
   },
   "outputs": [
    {
     "data": {
      "text/html": [
       "<div>\n",
       "<style scoped>\n",
       "    .dataframe tbody tr th:only-of-type {\n",
       "        vertical-align: middle;\n",
       "    }\n",
       "\n",
       "    .dataframe tbody tr th {\n",
       "        vertical-align: top;\n",
       "    }\n",
       "\n",
       "    .dataframe thead th {\n",
       "        text-align: right;\n",
       "    }\n",
       "</style>\n",
       "<table border=\"1\" class=\"dataframe\">\n",
       "  <thead>\n",
       "    <tr style=\"text-align: right;\">\n",
       "      <th></th>\n",
       "      <th>Patient Number</th>\n",
       "      <th>Diagnosis</th>\n",
       "    </tr>\n",
       "  </thead>\n",
       "  <tbody>\n",
       "    <tr>\n",
       "      <th>0</th>\n",
       "      <td>101</td>\n",
       "      <td>URTI</td>\n",
       "    </tr>\n",
       "    <tr>\n",
       "      <th>1</th>\n",
       "      <td>102</td>\n",
       "      <td>Healthy</td>\n",
       "    </tr>\n",
       "    <tr>\n",
       "      <th>2</th>\n",
       "      <td>103</td>\n",
       "      <td>Asthma</td>\n",
       "    </tr>\n",
       "    <tr>\n",
       "      <th>3</th>\n",
       "      <td>104</td>\n",
       "      <td>COPD</td>\n",
       "    </tr>\n",
       "    <tr>\n",
       "      <th>4</th>\n",
       "      <td>105</td>\n",
       "      <td>URTI</td>\n",
       "    </tr>\n",
       "  </tbody>\n",
       "</table>\n",
       "</div>"
      ],
      "text/plain": [
       "   Patient Number Diagnosis\n",
       "0             101      URTI\n",
       "1             102   Healthy\n",
       "2             103    Asthma\n",
       "3             104      COPD\n",
       "4             105      URTI"
      ]
     },
     "execution_count": 7,
     "metadata": {},
     "output_type": "execute_result"
    }
   ],
   "source": [
    "df_diagnosis.head()"
   ]
  },
  {
   "cell_type": "code",
   "execution_count": 8,
   "metadata": {
    "tags": []
   },
   "outputs": [
    {
     "data": {
      "text/plain": [
       "COPD              64\n",
       "Healthy           26\n",
       "URTI              14\n",
       "Bronchiectasis     7\n",
       "Pneumonia          6\n",
       "Bronchiolitis      6\n",
       "LRTI               2\n",
       "Asthma             1\n",
       "Name: Diagnosis, dtype: int64"
      ]
     },
     "execution_count": 8,
     "metadata": {},
     "output_type": "execute_result"
    }
   ],
   "source": [
    "df =  df_demographic.merge(df_diagnosis, on=DEMOGRAPHIC_NAMES[0])\n",
    "df[DIAGNOSIS_NAMES[1]].value_counts()"
   ]
  },
  {
   "cell_type": "code",
   "execution_count": 9,
   "metadata": {
    "tags": []
   },
   "outputs": [
    {
     "data": {
      "text/html": [
       "<div>\n",
       "<style scoped>\n",
       "    .dataframe tbody tr th:only-of-type {\n",
       "        vertical-align: middle;\n",
       "    }\n",
       "\n",
       "    .dataframe tbody tr th {\n",
       "        vertical-align: top;\n",
       "    }\n",
       "\n",
       "    .dataframe thead th {\n",
       "        text-align: right;\n",
       "    }\n",
       "</style>\n",
       "<table border=\"1\" class=\"dataframe\">\n",
       "  <thead>\n",
       "    <tr style=\"text-align: right;\">\n",
       "      <th></th>\n",
       "      <th>Patient Number</th>\n",
       "      <th>Age</th>\n",
       "      <th>Sex</th>\n",
       "      <th>Adult BMI (kg/m2)</th>\n",
       "      <th>Child Weight (kg)</th>\n",
       "      <th>Child Height (cm)</th>\n",
       "      <th>Diagnosis</th>\n",
       "    </tr>\n",
       "  </thead>\n",
       "  <tbody>\n",
       "    <tr>\n",
       "      <th>0</th>\n",
       "      <td>101</td>\n",
       "      <td>3.00</td>\n",
       "      <td>F</td>\n",
       "      <td>NaN</td>\n",
       "      <td>19.0</td>\n",
       "      <td>99.0</td>\n",
       "      <td>URTI</td>\n",
       "    </tr>\n",
       "    <tr>\n",
       "      <th>1</th>\n",
       "      <td>102</td>\n",
       "      <td>0.75</td>\n",
       "      <td>F</td>\n",
       "      <td>NaN</td>\n",
       "      <td>9.8</td>\n",
       "      <td>73.0</td>\n",
       "      <td>Healthy</td>\n",
       "    </tr>\n",
       "    <tr>\n",
       "      <th>2</th>\n",
       "      <td>103</td>\n",
       "      <td>70.00</td>\n",
       "      <td>F</td>\n",
       "      <td>33.00</td>\n",
       "      <td>NaN</td>\n",
       "      <td>NaN</td>\n",
       "      <td>Asthma</td>\n",
       "    </tr>\n",
       "    <tr>\n",
       "      <th>3</th>\n",
       "      <td>104</td>\n",
       "      <td>70.00</td>\n",
       "      <td>F</td>\n",
       "      <td>28.47</td>\n",
       "      <td>NaN</td>\n",
       "      <td>NaN</td>\n",
       "      <td>COPD</td>\n",
       "    </tr>\n",
       "    <tr>\n",
       "      <th>4</th>\n",
       "      <td>105</td>\n",
       "      <td>7.00</td>\n",
       "      <td>F</td>\n",
       "      <td>NaN</td>\n",
       "      <td>32.0</td>\n",
       "      <td>135.0</td>\n",
       "      <td>URTI</td>\n",
       "    </tr>\n",
       "  </tbody>\n",
       "</table>\n",
       "</div>"
      ],
      "text/plain": [
       "   Patient Number    Age Sex  Adult BMI (kg/m2)  Child Weight (kg)  \\\n",
       "0             101   3.00   F                NaN               19.0   \n",
       "1             102   0.75   F                NaN                9.8   \n",
       "2             103  70.00   F              33.00                NaN   \n",
       "3             104  70.00   F              28.47                NaN   \n",
       "4             105   7.00   F                NaN               32.0   \n",
       "\n",
       "   Child Height (cm) Diagnosis  \n",
       "0               99.0      URTI  \n",
       "1               73.0   Healthy  \n",
       "2                NaN    Asthma  \n",
       "3                NaN      COPD  \n",
       "4              135.0      URTI  "
      ]
     },
     "execution_count": 9,
     "metadata": {},
     "output_type": "execute_result"
    }
   ],
   "source": [
    "df.head()"
   ]
  },
  {
   "cell_type": "markdown",
   "metadata": {},
   "source": [
    "# 2. Reading Dataset"
   ]
  },
  {
   "cell_type": "code",
   "execution_count": 10,
   "metadata": {
    "tags": []
   },
   "outputs": [
    {
     "name": "stdout",
     "output_type": "stream",
     "text": [
      "Total number of test files: 920\n"
     ]
    }
   ],
   "source": [
    "textfiles = [f for f in listdir(DATASET_PATH) if (os.path.isfile(join(DATASET_PATH, f)) and f.endswith('.txt'))] \n",
    "print(f'Total number of test files: {len(textfiles)}')"
   ]
  },
  {
   "cell_type": "markdown",
   "metadata": {},
   "source": [
    "## Respiratory Cycle Data"
   ]
  },
  {
   "cell_type": "code",
   "execution_count": 11,
   "metadata": {
    "tags": []
   },
   "outputs": [],
   "source": [
    "def Extract_Annotation_Data(file_name, root):\n",
    "    tokens = file_name.split('_')\n",
    "    recording_info = pd.DataFrame(data=[tokens], columns=['Patient Number', 'Recording Index', 'Chest Location', 'Acquisition mode', 'Recording equipment'])\n",
    "    recording_annotations = pd.read_csv(os.path.join(root, file_name), names=['Start', 'End', 'Crackles', 'Wheezes'], delimiter='\\t')\n",
    "    recording_info['Recording equipment'] = recording_info['Recording equipment'].str.replace('.txt', '', regex=False)\n",
    "    return (recording_info, recording_annotations)"
   ]
  },
  {
   "cell_type": "code",
   "execution_count": 12,
   "metadata": {
    "tags": []
   },
   "outputs": [
    {
     "data": {
      "text/html": [
       "<div>\n",
       "<style scoped>\n",
       "    .dataframe tbody tr th:only-of-type {\n",
       "        vertical-align: middle;\n",
       "    }\n",
       "\n",
       "    .dataframe tbody tr th {\n",
       "        vertical-align: top;\n",
       "    }\n",
       "\n",
       "    .dataframe thead th {\n",
       "        text-align: right;\n",
       "    }\n",
       "</style>\n",
       "<table border=\"1\" class=\"dataframe\">\n",
       "  <thead>\n",
       "    <tr style=\"text-align: right;\">\n",
       "      <th></th>\n",
       "      <th>Patient Number</th>\n",
       "      <th>Recording Index</th>\n",
       "      <th>Chest Location</th>\n",
       "      <th>Acquisition mode</th>\n",
       "      <th>Recording equipment</th>\n",
       "    </tr>\n",
       "  </thead>\n",
       "  <tbody>\n",
       "    <tr>\n",
       "      <th>0</th>\n",
       "      <td>174</td>\n",
       "      <td>1p3</td>\n",
       "      <td>Ll</td>\n",
       "      <td>mc</td>\n",
       "      <td>AKGC417L</td>\n",
       "    </tr>\n",
       "    <tr>\n",
       "      <th>0</th>\n",
       "      <td>135</td>\n",
       "      <td>2b2</td>\n",
       "      <td>Al</td>\n",
       "      <td>mc</td>\n",
       "      <td>LittC2SE</td>\n",
       "    </tr>\n",
       "    <tr>\n",
       "      <th>0</th>\n",
       "      <td>178</td>\n",
       "      <td>1b3</td>\n",
       "      <td>Pr</td>\n",
       "      <td>mc</td>\n",
       "      <td>AKGC417L</td>\n",
       "    </tr>\n",
       "    <tr>\n",
       "      <th>0</th>\n",
       "      <td>115</td>\n",
       "      <td>1b1</td>\n",
       "      <td>Ar</td>\n",
       "      <td>sc</td>\n",
       "      <td>Meditron</td>\n",
       "    </tr>\n",
       "    <tr>\n",
       "      <th>0</th>\n",
       "      <td>177</td>\n",
       "      <td>1b4</td>\n",
       "      <td>Pr</td>\n",
       "      <td>mc</td>\n",
       "      <td>AKGC417L</td>\n",
       "    </tr>\n",
       "  </tbody>\n",
       "</table>\n",
       "</div>"
      ],
      "text/plain": [
       "  Patient Number Recording Index Chest Location Acquisition mode  \\\n",
       "0            174             1p3             Ll               mc   \n",
       "0            135             2b2             Al               mc   \n",
       "0            178             1b3             Pr               mc   \n",
       "0            115             1b1             Ar               sc   \n",
       "0            177             1b4             Pr               mc   \n",
       "\n",
       "  Recording equipment  \n",
       "0            AKGC417L  \n",
       "0            LittC2SE  \n",
       "0            AKGC417L  \n",
       "0            Meditron  \n",
       "0            AKGC417L  "
      ]
     },
     "execution_count": 12,
     "metadata": {},
     "output_type": "execute_result"
    }
   ],
   "source": [
    "i_list = []\n",
    "rec_annotations = []\n",
    "rec_annotations_dict = {}\n",
    "for s in textfiles:\n",
    "    (i,a) = Extract_Annotation_Data(s, DATASET_PATH)\n",
    "    i_list.append(i)\n",
    "    rec_annotations.append(a)\n",
    "    rec_annotations_dict[s] = a\n",
    "\n",
    "my_index = pd.Series(list(rec_annotations_dict.keys()))\n",
    "recording_info = pd.concat(i_list, axis = 0)\n",
    "recording_info.head()\n"
   ]
  },
  {
   "cell_type": "code",
   "execution_count": 14,
   "metadata": {
    "tags": []
   },
   "outputs": [],
   "source": [
    "res_rate_list = []\n",
    "for i in range (len(textfiles)):\n",
    "    cycle_df = pd.DataFrame( list(rec_annotations_dict.values())[i],columns=['Start', 'End' ,'cycle length'])\n",
    "    cycle_df['cycle length'] = cycle_df['End']-cycle_df['Start']\n",
    "    average = cycle_df[[\"Start\",\"End\",\"cycle length\"]].mean(axis=0)\n",
    "    df = pd.DataFrame(average).T\n",
    "    res_rate_list.append(df)"
   ]
  },
  {
   "cell_type": "code",
   "execution_count": 15,
   "metadata": {
    "tags": []
   },
   "outputs": [
    {
     "data": {
      "text/html": [
       "<div>\n",
       "<style scoped>\n",
       "    .dataframe tbody tr th:only-of-type {\n",
       "        vertical-align: middle;\n",
       "    }\n",
       "\n",
       "    .dataframe tbody tr th {\n",
       "        vertical-align: top;\n",
       "    }\n",
       "\n",
       "    .dataframe thead th {\n",
       "        text-align: right;\n",
       "    }\n",
       "</style>\n",
       "<table border=\"1\" class=\"dataframe\">\n",
       "  <thead>\n",
       "    <tr style=\"text-align: right;\">\n",
       "      <th></th>\n",
       "      <th>Start</th>\n",
       "      <th>End</th>\n",
       "      <th>cycle length</th>\n",
       "      <th>filename</th>\n",
       "    </tr>\n",
       "  </thead>\n",
       "  <tbody>\n",
       "    <tr>\n",
       "      <th>326</th>\n",
       "      <td>9.365636</td>\n",
       "      <td>11.174727</td>\n",
       "      <td>1.809091</td>\n",
       "      <td>101</td>\n",
       "    </tr>\n",
       "    <tr>\n",
       "      <th>621</th>\n",
       "      <td>8.639333</td>\n",
       "      <td>10.300000</td>\n",
       "      <td>1.660667</td>\n",
       "      <td>101</td>\n",
       "    </tr>\n",
       "    <tr>\n",
       "      <th>190</th>\n",
       "      <td>9.807231</td>\n",
       "      <td>11.322615</td>\n",
       "      <td>1.515385</td>\n",
       "      <td>102</td>\n",
       "    </tr>\n",
       "    <tr>\n",
       "      <th>484</th>\n",
       "      <td>8.778667</td>\n",
       "      <td>12.047833</td>\n",
       "      <td>3.269167</td>\n",
       "      <td>103</td>\n",
       "    </tr>\n",
       "    <tr>\n",
       "      <th>443</th>\n",
       "      <td>11.984171</td>\n",
       "      <td>13.811599</td>\n",
       "      <td>1.827429</td>\n",
       "      <td>104</td>\n",
       "    </tr>\n",
       "    <tr>\n",
       "      <th>...</th>\n",
       "      <td>...</td>\n",
       "      <td>...</td>\n",
       "      <td>...</td>\n",
       "      <td>...</td>\n",
       "    </tr>\n",
       "    <tr>\n",
       "      <th>614</th>\n",
       "      <td>9.380857</td>\n",
       "      <td>12.227714</td>\n",
       "      <td>2.846857</td>\n",
       "      <td>224</td>\n",
       "    </tr>\n",
       "    <tr>\n",
       "      <th>754</th>\n",
       "      <td>9.587714</td>\n",
       "      <td>11.012214</td>\n",
       "      <td>1.424500</td>\n",
       "      <td>225</td>\n",
       "    </tr>\n",
       "    <tr>\n",
       "      <th>122</th>\n",
       "      <td>9.648818</td>\n",
       "      <td>11.461818</td>\n",
       "      <td>1.813000</td>\n",
       "      <td>226</td>\n",
       "    </tr>\n",
       "    <tr>\n",
       "      <th>100</th>\n",
       "      <td>8.942800</td>\n",
       "      <td>10.927100</td>\n",
       "      <td>1.984300</td>\n",
       "      <td>226</td>\n",
       "    </tr>\n",
       "    <tr>\n",
       "      <th>689</th>\n",
       "      <td>8.444400</td>\n",
       "      <td>10.438600</td>\n",
       "      <td>1.994200</td>\n",
       "      <td>226</td>\n",
       "    </tr>\n",
       "  </tbody>\n",
       "</table>\n",
       "<p>920 rows × 4 columns</p>\n",
       "</div>"
      ],
      "text/plain": [
       "         Start        End  cycle length filename\n",
       "326   9.365636  11.174727      1.809091      101\n",
       "621   8.639333  10.300000      1.660667      101\n",
       "190   9.807231  11.322615      1.515385      102\n",
       "484   8.778667  12.047833      3.269167      103\n",
       "443  11.984171  13.811599      1.827429      104\n",
       "..         ...        ...           ...      ...\n",
       "614   9.380857  12.227714      2.846857      224\n",
       "754   9.587714  11.012214      1.424500      225\n",
       "122   9.648818  11.461818      1.813000      226\n",
       "100   8.942800  10.927100      1.984300      226\n",
       "689   8.444400  10.438600      1.994200      226\n",
       "\n",
       "[920 rows x 4 columns]"
      ]
     },
     "execution_count": 15,
     "metadata": {},
     "output_type": "execute_result"
    }
   ],
   "source": [
    "res_rate_df = pd.concat(res_rate_list,ignore_index =True)\n",
    "res_rate_df['filename']= my_index.values\n",
    "res_rate_df['filename']= res_rate_df['filename'].str[:3]\n",
    "res_rate_df.sort_values(by=['filename'])"
   ]
  },
  {
   "cell_type": "code",
   "execution_count": 16,
   "metadata": {
    "tags": []
   },
   "outputs": [
    {
     "data": {
      "text/html": [
       "<div>\n",
       "<style scoped>\n",
       "    .dataframe tbody tr th:only-of-type {\n",
       "        vertical-align: middle;\n",
       "    }\n",
       "\n",
       "    .dataframe tbody tr th {\n",
       "        vertical-align: top;\n",
       "    }\n",
       "\n",
       "    .dataframe thead th {\n",
       "        text-align: right;\n",
       "    }\n",
       "</style>\n",
       "<table border=\"1\" class=\"dataframe\">\n",
       "  <thead>\n",
       "    <tr style=\"text-align: right;\">\n",
       "      <th></th>\n",
       "      <th>Start</th>\n",
       "      <th>End</th>\n",
       "      <th>cycle length</th>\n",
       "      <th>respiratory rate</th>\n",
       "      <th>Diagnosis</th>\n",
       "    </tr>\n",
       "    <tr>\n",
       "      <th>filename</th>\n",
       "      <th></th>\n",
       "      <th></th>\n",
       "      <th></th>\n",
       "      <th></th>\n",
       "      <th></th>\n",
       "    </tr>\n",
       "  </thead>\n",
       "  <tbody>\n",
       "    <tr>\n",
       "      <th>101</th>\n",
       "      <td>9.002485</td>\n",
       "      <td>10.737364</td>\n",
       "      <td>1.734879</td>\n",
       "      <td>34.0</td>\n",
       "      <td>High</td>\n",
       "    </tr>\n",
       "    <tr>\n",
       "      <th>102</th>\n",
       "      <td>9.807231</td>\n",
       "      <td>11.322615</td>\n",
       "      <td>1.515385</td>\n",
       "      <td>39.0</td>\n",
       "      <td>High</td>\n",
       "    </tr>\n",
       "    <tr>\n",
       "      <th>103</th>\n",
       "      <td>8.778667</td>\n",
       "      <td>12.047833</td>\n",
       "      <td>3.269167</td>\n",
       "      <td>18.0</td>\n",
       "      <td>Normal</td>\n",
       "    </tr>\n",
       "    <tr>\n",
       "      <th>104</th>\n",
       "      <td>8.795221</td>\n",
       "      <td>11.078845</td>\n",
       "      <td>2.283624</td>\n",
       "      <td>26.0</td>\n",
       "      <td>High</td>\n",
       "    </tr>\n",
       "    <tr>\n",
       "      <th>105</th>\n",
       "      <td>9.198375</td>\n",
       "      <td>11.682250</td>\n",
       "      <td>2.483875</td>\n",
       "      <td>24.0</td>\n",
       "      <td>Normal</td>\n",
       "    </tr>\n",
       "  </tbody>\n",
       "</table>\n",
       "</div>"
      ],
      "text/plain": [
       "             Start        End  cycle length  respiratory rate Diagnosis\n",
       "filename                                                               \n",
       "101       9.002485  10.737364      1.734879              34.0      High\n",
       "102       9.807231  11.322615      1.515385              39.0      High\n",
       "103       8.778667  12.047833      3.269167              18.0    Normal\n",
       "104       8.795221  11.078845      2.283624              26.0      High\n",
       "105       9.198375  11.682250      2.483875              24.0    Normal"
      ]
     },
     "execution_count": 16,
     "metadata": {},
     "output_type": "execute_result"
    }
   ],
   "source": [
    "# Respiratory cycle = Cycle length // 60 seconds \n",
    "avg = res_rate_df.groupby('filename').mean()\n",
    "avg['respiratory rate'] = 60 // avg['cycle length'] \n",
    "\n",
    "# Normal Respiratory Rate (12-25) cycle/min\n",
    "avg.loc[avg['respiratory rate'] > 25, 'Diagnosis'] = \"High\" \n",
    "avg['Diagnosis'].fillna('Normal', inplace=True)\n",
    "avg.head()"
   ]
  },
  {
   "cell_type": "code",
   "execution_count": 17,
   "metadata": {
    "tags": []
   },
   "outputs": [
    {
     "data": {
      "text/plain": [
       "Text(0.5, 1.0, 'Respiratory Rate Distribution')"
      ]
     },
     "execution_count": 17,
     "metadata": {},
     "output_type": "execute_result"
    }
   ],
   "source": [
    "sns.countplot(x='Diagnosis', data=avg)\n",
    "plt.title('Respiratory Rate Distribution')"
   ]
  },
  {
   "cell_type": "code",
   "execution_count": 18,
   "metadata": {
    "tags": []
   },
   "outputs": [
    {
     "data": {
      "text/html": [
       "<div>\n",
       "<style scoped>\n",
       "    .dataframe tbody tr th:only-of-type {\n",
       "        vertical-align: middle;\n",
       "    }\n",
       "\n",
       "    .dataframe tbody tr th {\n",
       "        vertical-align: top;\n",
       "    }\n",
       "\n",
       "    .dataframe thead th {\n",
       "        text-align: right;\n",
       "    }\n",
       "</style>\n",
       "<table border=\"1\" class=\"dataframe\">\n",
       "  <thead>\n",
       "    <tr style=\"text-align: right;\">\n",
       "      <th></th>\n",
       "      <th>Patient Number</th>\n",
       "      <th>Diagnosis</th>\n",
       "    </tr>\n",
       "  </thead>\n",
       "  <tbody>\n",
       "    <tr>\n",
       "      <th>0</th>\n",
       "      <td>101</td>\n",
       "      <td>High</td>\n",
       "    </tr>\n",
       "    <tr>\n",
       "      <th>1</th>\n",
       "      <td>102</td>\n",
       "      <td>High</td>\n",
       "    </tr>\n",
       "    <tr>\n",
       "      <th>2</th>\n",
       "      <td>103</td>\n",
       "      <td>Normal</td>\n",
       "    </tr>\n",
       "    <tr>\n",
       "      <th>3</th>\n",
       "      <td>104</td>\n",
       "      <td>High</td>\n",
       "    </tr>\n",
       "    <tr>\n",
       "      <th>4</th>\n",
       "      <td>105</td>\n",
       "      <td>Normal</td>\n",
       "    </tr>\n",
       "  </tbody>\n",
       "</table>\n",
       "</div>"
      ],
      "text/plain": [
       "  Patient Number Diagnosis\n",
       "0            101      High\n",
       "1            102      High\n",
       "2            103    Normal\n",
       "3            104      High\n",
       "4            105    Normal"
      ]
     },
     "execution_count": 18,
     "metadata": {},
     "output_type": "execute_result"
    }
   ],
   "source": [
    "rr_diagnosis = avg[['Diagnosis']].rename_axis('Patient Number').reset_index()\n",
    "rr_diagnosis.head()"
   ]
  },
  {
   "cell_type": "markdown",
   "metadata": {},
   "source": [
    "## MFCC Data\n"
   ]
  },
  {
   "cell_type": "code",
   "execution_count": 19,
   "metadata": {
    "tags": []
   },
   "outputs": [],
   "source": [
    "filenames = [f for f in listdir(DATASET_PATH) if (os.path.isfile(join(DATASET_PATH, f)) and f.endswith('.wav'))] "
   ]
  },
  {
   "cell_type": "code",
   "execution_count": 20,
   "metadata": {
    "tags": []
   },
   "outputs": [],
   "source": [
    "\n",
    "max_pad_len = 862 # to make the length of all MFCC equal\n",
    "\n",
    "def extract_features(file_name):\n",
    "    \"\"\"\n",
    "    This function takes in the path for an audio file as a string, loads it, and returns the MFCC\n",
    "    of the audio\"\"\"\n",
    "   \n",
    "    try:\n",
    "        # addition_data = rr_diagnosis[rr_diagnosis['Patient Number'] == file_name.split('/')[-1].split('_')[0]][['Diagnosis']].values[0][0]\n",
    "        # Load audio file and get sample rate\n",
    "        (rate, signal) = wav.read(file_name)\n",
    "        \n",
    "        # Compute MFCCs\n",
    "        mfccs = mfcc(signal, rate, numcep=40, nfilt=40, nfft=2048)\n",
    "        \n",
    "        # Pad or truncate MFCCs to have a fixed length\n",
    "        pad_width = max_pad_len - mfccs.shape[0]\n",
    "        if pad_width < 0:\n",
    "            mfccs = mfccs[:max_pad_len, :]\n",
    "        else:\n",
    "            mfccs = np.pad(mfccs, ((0, pad_width), (0, 0)), mode='constant')\n",
    "    \n",
    "        \n",
    "        # mfccs = np.append(mfccs, addition_data)\n",
    "    except Exception as e:\n",
    "        print(f\"Error encountered while parsing file: {file_name}, {e}\")\n",
    "        return None \n",
    "     \n",
    "    return mfccs"
   ]
  },
  {
   "cell_type": "code",
   "execution_count": 21,
   "metadata": {
    "tags": []
   },
   "outputs": [],
   "source": [
    "# Needs to be re-run if you want to extract labels again :/\n",
    "\n",
    "wav_filepaths = [f'{DATASET_PATH}{f}' for f in filenames]\n",
    "\n",
    "patient_id = np.array([])\n",
    "features = []\n",
    "\n",
    "# Iterate through each sound file and extract the features\n",
    "for file_name in wav_filepaths:\n",
    "    data = extract_features(file_name)\n",
    "    if data is not None:\n",
    "        features.append(data)\n",
    "        patient_id = np.append(patient_id, file_name.split('/')[-1].split('_')[0])\n",
    "        \n",
    "patient_id = patient_id.astype(int)\n"
   ]
  },
  {
   "cell_type": "code",
   "execution_count": 22,
   "metadata": {
    "tags": []
   },
   "outputs": [
    {
     "name": "stdout",
     "output_type": "stream",
     "text": [
      "Extracted features from 920 files with 920 labels with 920 patient ids\n"
     ]
    }
   ],
   "source": [
    "df_diagnosis = pd.read_csv(f\"{BASE_PATH}/ICBHI_Challenge_diagnosis.txt\",header=None, sep=\"\\t\")\n",
    "labels = np.array([df_diagnosis[df_diagnosis[0] == x][1].values[0] for x in patient_id])\n",
    "features = np.array(features)\n",
    "print(f'Extracted features from {len(features)} files with {len(labels)} labels with {len(patient_id)} patient ids')"
   ]
  },
  {
   "cell_type": "code",
   "execution_count": 23,
   "metadata": {
    "tags": []
   },
   "outputs": [],
   "source": [
    "# delete the very rare diseases\n",
    "features1 = np.delete(features, np.where((labels == 'Asthma') | (labels == 'LRTI'))[0], axis=0) \n",
    "\n",
    "labels1 = np.delete(labels, np.where((labels == 'Asthma') | (labels == 'LRTI'))[0], axis=0)"
   ]
  },
  {
   "cell_type": "code",
   "execution_count": 24,
   "metadata": {
    "tags": []
   },
   "outputs": [
    {
     "name": "stdout",
     "output_type": "stream",
     "text": [
      "[['Bronchiectasis' '16']\n",
      " ['Bronchiolitis' '13']\n",
      " ['COPD' '793']\n",
      " ['Healthy' '35']\n",
      " ['Pneumonia' '37']\n",
      " ['URTI' '23']]\n"
     ]
    }
   ],
   "source": [
    "# print class counts\n",
    "unique, counts = np.unique(labels1, return_counts=True)\n",
    "print(np.asarray((unique, counts)).T)"
   ]
  },
  {
   "cell_type": "code",
   "execution_count": 25,
   "metadata": {
    "tags": []
   },
   "outputs": [
    {
     "data": {
      "image/png": "[encoded data removed]",
      "text/plain": [
       "<Figure size 640x480 with 1 Axes>"
      ]
     },
     "metadata": {},
     "output_type": "display_data"
    },
    {
     "data": {
      "image/png": "[encoded data removed]",
      "text/plain": [
       "<Figure size 1200x400 with 1 Axes>"
      ]
     },
     "metadata": {},
     "output_type": "display_data"
    }
   ],
   "source": [
    "y_pos = np.arange(len(unique))\n",
    "plt.figure(figsize=(12, 4))\n",
    "sns.barplot(x=unique, y=counts, palette='Blues_d')\n",
    "sns.set_style('whitegrid')\n",
    "plt.xticks(y_pos, unique)\n",
    "plt.ylabel('Count')\n",
    "plt.xlabel('Disease')\n",
    "plt.title('Count of diseases in sound files with Asthma or LRTI removed')\n",
    "plt.show()"
   ]
  },
  {
   "cell_type": "code",
   "execution_count": 26,
   "metadata": {
    "tags": []
   },
   "outputs": [],
   "source": [
    "# One-hot encode labels\n",
    "le = LabelEncoder()\n",
    "i_labels = le.fit_transform(labels1)\n",
    "oh_labels = to_categorical(i_labels) \n"
   ]
  },
  {
   "cell_type": "code",
   "execution_count": 27,
   "metadata": {
    "tags": []
   },
   "outputs": [],
   "source": [
    "# add channel dimension for CNN\n",
    "features1 = np.reshape(features1, (*features1.shape,1)) "
   ]
  },
  {
   "cell_type": "markdown",
   "metadata": {},
   "source": [
    "# 3. Tensorflow Training"
   ]
  },
  {
   "cell_type": "code",
   "execution_count": 28,
   "metadata": {
    "tags": []
   },
   "outputs": [],
   "source": [
    "# train test split\n",
    "x_train, x_test, y_train, y_test = train_test_split(features1, oh_labels, stratify=oh_labels, test_size=0.2, random_state = 42)"
   ]
  },
  {
   "cell_type": "code",
   "execution_count": 29,
   "metadata": {
    "tags": []
   },
   "outputs": [],
   "source": [
    "num_rows = 862\n",
    "num_columns = 40\n",
    "num_channels = 1\n",
    "\n",
    "num_labels = oh_labels.shape[1]\n",
    "filter_size = 2\n",
    "\n",
    "\n",
    "# Construct model \n",
    "model = Sequential()\n",
    "model.add(Conv2D(filters=16, kernel_size=filter_size,input_shape=(num_rows, num_columns, num_channels), activation='relu'))\n",
    "model.add(MaxPooling2D(pool_size=2))\n",
    "\n",
    "\n",
    "model.add(Conv2D(filters=32, kernel_size=filter_size, activation='relu'))\n",
    "model.add(MaxPooling2D(pool_size=2))\n",
    "\n",
    "\n",
    "model.add(Conv2D(filters=64, kernel_size=filter_size, activation='relu'))\n",
    "model.add(MaxPooling2D(pool_size=2))\n",
    "model.add(Dropout(0.2))\n",
    "\n",
    "model.add(Conv2D(filters=128, kernel_size=filter_size, activation='relu'))\n",
    "model.add(MaxPooling2D(pool_size=2))\n",
    "model.add(Dropout(0.2))\n",
    "\n",
    "model.add(GlobalAveragePooling2D())\n",
    "# model.add(TimeDistributed(Flatten()))\n",
    "# model.add(Dropout(0.4))\n",
    "# model.add(GRU(units=64, return_sequences=True))\n",
    "# model.add(GlobalAveragePooling1D())\n",
    "\n",
    "model.add(Dropout(0.3))\n",
    "model.add(Dense(64, activation='relu'))\n",
    "model.add(Dropout(0.3))\n",
    "model.add(Dense(32, activation='relu'))\n",
    "model.add(Dense(num_labels, activation='softmax')) "
   ]
  },
  {
   "cell_type": "code",
   "execution_count": 30,
   "metadata": {
    "tags": []
   },
   "outputs": [
    {
     "name": "stdout",
     "output_type": "stream",
     "text": [
      "[]\n"
     ]
    }
   ],
   "source": [
    "# Compile the model\n",
    "model.compile(loss='categorical_crossentropy', metrics=['accuracy'], optimizer='adam') \n",
    "print(tf.config.list_physical_devices('GPU'))"
   ]
  },
  {
   "cell_type": "code",
   "execution_count": 31,
   "metadata": {
    "tags": []
   },
   "outputs": [
    {
     "name": "stdout",
     "output_type": "stream",
     "text": [
      "Model: \"sequential\"\n",
      "_________________________________________________________________\n",
      " Layer (type)                Output Shape              Param #   \n",
      "=================================================================\n",
      " conv2d (Conv2D)             (None, 861, 39, 16)       80        \n",
      "                                                                 \n",
      " max_pooling2d (MaxPooling2D  (None, 430, 19, 16)      0         \n",
      " )                                                               \n",
      "                                                                 \n",
      " conv2d_1 (Conv2D)           (None, 429, 18, 32)       2080      \n",
      "                                                                 \n",
      " max_pooling2d_1 (MaxPooling  (None, 214, 9, 32)       0         \n",
      " 2D)                                                             \n",
      "                                                                 \n",
      " conv2d_2 (Conv2D)           (None, 213, 8, 64)        8256      \n",
      "                                                                 \n",
      " max_pooling2d_2 (MaxPooling  (None, 106, 4, 64)       0         \n",
      " 2D)                                                             \n",
      "                                                                 \n",
      " dropout (Dropout)           (None, 106, 4, 64)        0         \n",
      "                                                                 \n",
      " conv2d_3 (Conv2D)           (None, 105, 3, 128)       32896     \n",
      "                                                                 \n",
      " max_pooling2d_3 (MaxPooling  (None, 52, 1, 128)       0         \n",
      " 2D)                                                             \n",
      "                                                                 \n",
      " dropout_1 (Dropout)         (None, 52, 1, 128)        0         \n",
      "                                                                 \n",
      " global_average_pooling2d (G  (None, 128)              0         \n",
      " lobalAveragePooling2D)                                          \n",
      "                                                                 \n",
      " dropout_2 (Dropout)         (None, 128)               0         \n",
      "                                                                 \n",
      " dense (Dense)               (None, 64)                8256      \n",
      "                                                                 \n",
      " dropout_3 (Dropout)         (None, 64)                0         \n",
      "                                                                 \n",
      " dense_1 (Dense)             (None, 32)                2080      \n",
      "                                                                 \n",
      " dense_2 (Dense)             (None, 6)                 198       \n",
      "                                                                 \n",
      "=================================================================\n",
      "Total params: 53,846\n",
      "Trainable params: 53,846\n",
      "Non-trainable params: 0\n",
      "_________________________________________________________________\n",
      "6/6 [==============================] - 1s 29ms/step - loss: 2.2127 - accuracy: 0.0163\n",
      "Pre-training accuracy: 1.6304%\n",
      "You must install pydot (`pip install pydot`) and install graphviz (see instructions at https://graphviz.gitlab.io/download/) for plot_model to work.\n"
     ]
    }
   ],
   "source": [
    "# Display model architecture summary \n",
    "model.summary()\n",
    "\n",
    "# Calculate pre-training accuracy \n",
    "score = model.evaluate(x_test, y_test, verbose=1)\n",
    "accuracy = 100*score[1]\n",
    "\n",
    "print(f\"Pre-training accuracy: {accuracy:.4f}%\")\n",
    "tf.keras.utils.plot_model(model, \"model.png\", show_shapes=True)"
   ]
  },
  {
   "cell_type": "code",
   "execution_count": 32,
   "metadata": {
    "tags": []
   },
   "outputs": [
    {
     "name": "stdout",
     "output_type": "stream",
     "text": [
      "Epoch 1/300\n",
      "6/6 [==============================] - 4s 451ms/step - loss: 1.2060 - accuracy: 0.6712 - val_loss: 0.6535 - val_accuracy: 0.8641\n",
      "Epoch 2/300\n",
      "6/6 [==============================] - 3s 421ms/step - loss: 0.7375 - accuracy: 0.8608 - val_loss: 0.6641 - val_accuracy: 0.8641\n",
      "Epoch 3/300\n",
      "6/6 [==============================] - 2s 419ms/step - loss: 0.7245 - accuracy: 0.8554 - val_loss: 0.7329 - val_accuracy: 0.8641\n",
      "Epoch 4/300\n",
      "6/6 [==============================] - 2s 416ms/step - loss: 0.6722 - accuracy: 0.8581 - val_loss: 0.5878 - val_accuracy: 0.8641\n",
      "Epoch 5/300\n",
      "6/6 [==============================] - 2s 415ms/step - loss: 0.6482 - accuracy: 0.8649 - val_loss: 0.5873 - val_accuracy: 0.8641\n",
      "Epoch 6/300\n",
      "6/6 [==============================] - 2s 417ms/step - loss: 0.5711 - accuracy: 0.8649 - val_loss: 0.5918 - val_accuracy: 0.8641\n",
      "Epoch 7/300\n",
      "6/6 [==============================] - 2s 417ms/step - loss: 0.5608 - accuracy: 0.8649 - val_loss: 0.5137 - val_accuracy: 0.8641\n",
      "Epoch 8/300\n",
      "6/6 [==============================] - 3s 425ms/step - loss: 0.5375 - accuracy: 0.8649 - val_loss: 0.4938 - val_accuracy: 0.8641\n",
      "Epoch 9/300\n",
      "6/6 [==============================] - 3s 422ms/step - loss: 0.5199 - accuracy: 0.8649 - val_loss: 0.4554 - val_accuracy: 0.8641\n",
      "Epoch 10/300\n",
      "6/6 [==============================] - 3s 422ms/step - loss: 0.4918 - accuracy: 0.8649 - val_loss: 0.4295 - val_accuracy: 0.8641\n",
      "Epoch 11/300\n",
      "6/6 [==============================] - 2s 417ms/step - loss: 0.4679 - accuracy: 0.8649 - val_loss: 0.4126 - val_accuracy: 0.8641\n",
      "Epoch 12/300\n",
      "6/6 [==============================] - 2s 420ms/step - loss: 0.4611 - accuracy: 0.8649 - val_loss: 0.3929 - val_accuracy: 0.8641\n",
      "Epoch 13/300\n",
      "6/6 [==============================] - 2s 411ms/step - loss: 0.4461 - accuracy: 0.8649 - val_loss: 0.3893 - val_accuracy: 0.8641\n",
      "Epoch 14/300\n",
      "6/6 [==============================] - 2s 420ms/step - loss: 0.4304 - accuracy: 0.8649 - val_loss: 0.4025 - val_accuracy: 0.8641\n",
      "Epoch 15/300\n",
      "6/6 [==============================] - 2s 417ms/step - loss: 0.4238 - accuracy: 0.8649 - val_loss: 0.3731 - val_accuracy: 0.8641\n",
      "Epoch 16/300\n",
      "6/6 [==============================] - 3s 419ms/step - loss: 0.4090 - accuracy: 0.8690 - val_loss: 0.3684 - val_accuracy: 0.8641\n",
      "Epoch 17/300\n",
      "6/6 [==============================] - 3s 433ms/step - loss: 0.4180 - accuracy: 0.8690 - val_loss: 0.4312 - val_accuracy: 0.8804\n",
      "Epoch 18/300\n",
      "6/6 [==============================] - 3s 420ms/step - loss: 0.4249 - accuracy: 0.8663 - val_loss: 0.3468 - val_accuracy: 0.8750\n",
      "Epoch 19/300\n",
      "6/6 [==============================] - 3s 421ms/step - loss: 0.3872 - accuracy: 0.8677 - val_loss: 0.3421 - val_accuracy: 0.8804\n",
      "Epoch 20/300\n",
      "6/6 [==============================] - 3s 433ms/step - loss: 0.4023 - accuracy: 0.8677 - val_loss: 0.3406 - val_accuracy: 0.8913\n",
      "Epoch 21/300\n",
      "6/6 [==============================] - 2s 418ms/step - loss: 0.3701 - accuracy: 0.8731 - val_loss: 0.3219 - val_accuracy: 0.8750\n",
      "Epoch 22/300\n",
      "6/6 [==============================] - 2s 419ms/step - loss: 0.3807 - accuracy: 0.8718 - val_loss: 0.3215 - val_accuracy: 0.8913\n",
      "Epoch 23/300\n",
      "6/6 [==============================] - 2s 416ms/step - loss: 0.3657 - accuracy: 0.8813 - val_loss: 0.3340 - val_accuracy: 0.8913\n",
      "Epoch 24/300\n",
      "6/6 [==============================] - 2s 420ms/step - loss: 0.3559 - accuracy: 0.8813 - val_loss: 0.3183 - val_accuracy: 0.8913\n",
      "Epoch 25/300\n",
      "6/6 [==============================] - 3s 425ms/step - loss: 0.3374 - accuracy: 0.8868 - val_loss: 0.3110 - val_accuracy: 0.8913\n",
      "Epoch 26/300\n",
      "6/6 [==============================] - 2s 416ms/step - loss: 0.3666 - accuracy: 0.8881 - val_loss: 0.2981 - val_accuracy: 0.8913\n",
      "Epoch 27/300\n",
      "6/6 [==============================] - 3s 434ms/step - loss: 0.3466 - accuracy: 0.8881 - val_loss: 0.3242 - val_accuracy: 0.8967\n",
      "Epoch 28/300\n",
      "6/6 [==============================] - 3s 421ms/step - loss: 0.3293 - accuracy: 0.8963 - val_loss: 0.2863 - val_accuracy: 0.8913\n",
      "Epoch 29/300\n",
      "6/6 [==============================] - 2s 420ms/step - loss: 0.3306 - accuracy: 0.8922 - val_loss: 0.2810 - val_accuracy: 0.8913\n",
      "Epoch 30/300\n",
      "6/6 [==============================] - 2s 411ms/step - loss: 0.3060 - accuracy: 0.8977 - val_loss: 0.2853 - val_accuracy: 0.8967\n",
      "Epoch 31/300\n",
      "6/6 [==============================] - 3s 427ms/step - loss: 0.3199 - accuracy: 0.8936 - val_loss: 0.2854 - val_accuracy: 0.8913\n",
      "Epoch 32/300\n",
      "6/6 [==============================] - 2s 416ms/step - loss: 0.3194 - accuracy: 0.8909 - val_loss: 0.2813 - val_accuracy: 0.8913\n",
      "Epoch 33/300\n",
      "6/6 [==============================] - 3s 426ms/step - loss: 0.3031 - accuracy: 0.8950 - val_loss: 0.2650 - val_accuracy: 0.8913\n",
      "Epoch 34/300\n",
      "6/6 [==============================] - 3s 429ms/step - loss: 0.2806 - accuracy: 0.9018 - val_loss: 0.2530 - val_accuracy: 0.8967\n",
      "Epoch 35/300\n",
      "6/6 [==============================] - 3s 447ms/step - loss: 0.2826 - accuracy: 0.9031 - val_loss: 0.2529 - val_accuracy: 0.9022\n",
      "Epoch 36/300\n",
      "6/6 [==============================] - 2s 416ms/step - loss: 0.2903 - accuracy: 0.8963 - val_loss: 0.2804 - val_accuracy: 0.9022\n",
      "Epoch 37/300\n",
      "6/6 [==============================] - 2s 419ms/step - loss: 0.2754 - accuracy: 0.9059 - val_loss: 0.2631 - val_accuracy: 0.8967\n",
      "Epoch 38/300\n",
      "6/6 [==============================] - 2s 415ms/step - loss: 0.2810 - accuracy: 0.9031 - val_loss: 0.2432 - val_accuracy: 0.9022\n",
      "Epoch 39/300\n",
      "6/6 [==============================] - 3s 435ms/step - loss: 0.2668 - accuracy: 0.8950 - val_loss: 0.2482 - val_accuracy: 0.9076\n",
      "Epoch 40/300\n",
      "6/6 [==============================] - 3s 424ms/step - loss: 0.2627 - accuracy: 0.9031 - val_loss: 0.2381 - val_accuracy: 0.9022\n",
      "Epoch 41/300\n",
      "6/6 [==============================] - 2s 414ms/step - loss: 0.2653 - accuracy: 0.9045 - val_loss: 0.2516 - val_accuracy: 0.9022\n",
      "Epoch 42/300\n",
      "6/6 [==============================] - 2s 416ms/step - loss: 0.2439 - accuracy: 0.9059 - val_loss: 0.2254 - val_accuracy: 0.9022\n",
      "Epoch 43/300\n",
      "6/6 [==============================] - 2s 420ms/step - loss: 0.2466 - accuracy: 0.9072 - val_loss: 0.2216 - val_accuracy: 0.9076\n",
      "Epoch 44/300\n",
      "6/6 [==============================] - 3s 425ms/step - loss: 0.2508 - accuracy: 0.9018 - val_loss: 0.2198 - val_accuracy: 0.9076\n",
      "Epoch 45/300\n",
      "6/6 [==============================] - 2s 419ms/step - loss: 0.2307 - accuracy: 0.9113 - val_loss: 0.2204 - val_accuracy: 0.9022\n",
      "Epoch 46/300\n",
      "6/6 [==============================] - 3s 420ms/step - loss: 0.2280 - accuracy: 0.9141 - val_loss: 0.2195 - val_accuracy: 0.9022\n",
      "Epoch 47/300\n",
      "6/6 [==============================] - 2s 416ms/step - loss: 0.2427 - accuracy: 0.9113 - val_loss: 0.2055 - val_accuracy: 0.9022\n",
      "Epoch 48/300\n",
      "6/6 [==============================] - 2s 417ms/step - loss: 0.2266 - accuracy: 0.9072 - val_loss: 0.2397 - val_accuracy: 0.9022\n",
      "Epoch 49/300\n",
      "6/6 [==============================] - 2s 415ms/step - loss: 0.2200 - accuracy: 0.9113 - val_loss: 0.2110 - val_accuracy: 0.9022\n",
      "Epoch 50/300\n",
      "6/6 [==============================] - 3s 445ms/step - loss: 0.2182 - accuracy: 0.9031 - val_loss: 0.2070 - val_accuracy: 0.9130\n",
      "Epoch 51/300\n",
      "6/6 [==============================] - 2s 414ms/step - loss: 0.2080 - accuracy: 0.9113 - val_loss: 0.2092 - val_accuracy: 0.9130\n",
      "Epoch 52/300\n",
      "6/6 [==============================] - 2s 416ms/step - loss: 0.2017 - accuracy: 0.9168 - val_loss: 0.1970 - val_accuracy: 0.9076\n",
      "Epoch 53/300\n",
      "6/6 [==============================] - 2s 418ms/step - loss: 0.1909 - accuracy: 0.9209 - val_loss: 0.1974 - val_accuracy: 0.9076\n",
      "Epoch 54/300\n",
      "6/6 [==============================] - 2s 421ms/step - loss: 0.1984 - accuracy: 0.9141 - val_loss: 0.1998 - val_accuracy: 0.9022\n",
      "Epoch 55/300\n",
      "6/6 [==============================] - 3s 422ms/step - loss: 0.1999 - accuracy: 0.9195 - val_loss: 0.1951 - val_accuracy: 0.9130\n",
      "Epoch 56/300\n",
      "6/6 [==============================] - 3s 425ms/step - loss: 0.2031 - accuracy: 0.9236 - val_loss: 0.2254 - val_accuracy: 0.9076\n",
      "Epoch 57/300\n",
      "6/6 [==============================] - 3s 430ms/step - loss: 0.1882 - accuracy: 0.9127 - val_loss: 0.2206 - val_accuracy: 0.8859\n",
      "Epoch 58/300\n",
      "6/6 [==============================] - 3s 427ms/step - loss: 0.2037 - accuracy: 0.9127 - val_loss: 0.1934 - val_accuracy: 0.8859\n",
      "Epoch 59/300\n",
      "6/6 [==============================] - 3s 424ms/step - loss: 0.1836 - accuracy: 0.9236 - val_loss: 0.1909 - val_accuracy: 0.9022\n",
      "Epoch 60/300\n",
      "6/6 [==============================] - 3s 419ms/step - loss: 0.1888 - accuracy: 0.9209 - val_loss: 0.1836 - val_accuracy: 0.8967\n",
      "Epoch 61/300\n",
      "6/6 [==============================] - 3s 421ms/step - loss: 0.1840 - accuracy: 0.9181 - val_loss: 0.2162 - val_accuracy: 0.9022\n",
      "Epoch 62/300\n",
      "6/6 [==============================] - 3s 424ms/step - loss: 0.1844 - accuracy: 0.9236 - val_loss: 0.1832 - val_accuracy: 0.8913\n",
      "Epoch 63/300\n",
      "6/6 [==============================] - 3s 423ms/step - loss: 0.1801 - accuracy: 0.9195 - val_loss: 0.1871 - val_accuracy: 0.9022\n",
      "Epoch 64/300\n",
      "6/6 [==============================] - 3s 422ms/step - loss: 0.1781 - accuracy: 0.9250 - val_loss: 0.2007 - val_accuracy: 0.9076\n",
      "Epoch 65/300\n",
      "6/6 [==============================] - 3s 429ms/step - loss: 0.1717 - accuracy: 0.9222 - val_loss: 0.2109 - val_accuracy: 0.8967\n",
      "Epoch 66/300\n",
      "6/6 [==============================] - 2s 419ms/step - loss: 0.1646 - accuracy: 0.9277 - val_loss: 0.1928 - val_accuracy: 0.9022\n",
      "Epoch 67/300\n",
      "6/6 [==============================] - 2s 418ms/step - loss: 0.1760 - accuracy: 0.9222 - val_loss: 0.1870 - val_accuracy: 0.8913\n",
      "Epoch 68/300\n",
      "6/6 [==============================] - 2s 419ms/step - loss: 0.1762 - accuracy: 0.9359 - val_loss: 0.1749 - val_accuracy: 0.9022\n",
      "Epoch 69/300\n",
      "6/6 [==============================] - 3s 421ms/step - loss: 0.1688 - accuracy: 0.9318 - val_loss: 0.1763 - val_accuracy: 0.8913\n",
      "Epoch 70/300\n",
      "6/6 [==============================] - 3s 430ms/step - loss: 0.1638 - accuracy: 0.9277 - val_loss: 0.1911 - val_accuracy: 0.9022\n",
      "Epoch 71/300\n",
      "6/6 [==============================] - 3s 424ms/step - loss: 0.1561 - accuracy: 0.9291 - val_loss: 0.1719 - val_accuracy: 0.8967\n",
      "Epoch 72/300\n",
      "6/6 [==============================] - 3s 421ms/step - loss: 0.1431 - accuracy: 0.9441 - val_loss: 0.1695 - val_accuracy: 0.9130\n",
      "Epoch 73/300\n",
      "6/6 [==============================] - 3s 423ms/step - loss: 0.1602 - accuracy: 0.9277 - val_loss: 0.1770 - val_accuracy: 0.8967\n",
      "Epoch 74/300\n",
      "6/6 [==============================] - 3s 422ms/step - loss: 0.1442 - accuracy: 0.9413 - val_loss: 0.1734 - val_accuracy: 0.9076\n",
      "Epoch 75/300\n",
      "6/6 [==============================] - 3s 422ms/step - loss: 0.1522 - accuracy: 0.9304 - val_loss: 0.1667 - val_accuracy: 0.9076\n",
      "Epoch 76/300\n",
      "6/6 [==============================] - 2s 420ms/step - loss: 0.1478 - accuracy: 0.9400 - val_loss: 0.2021 - val_accuracy: 0.8967\n",
      "Epoch 77/300\n",
      "6/6 [==============================] - 3s 421ms/step - loss: 0.1507 - accuracy: 0.9332 - val_loss: 0.1809 - val_accuracy: 0.8967\n",
      "Epoch 78/300\n",
      "6/6 [==============================] - 3s 422ms/step - loss: 0.1428 - accuracy: 0.9413 - val_loss: 0.1836 - val_accuracy: 0.9022\n",
      "Epoch 79/300\n",
      "6/6 [==============================] - 3s 427ms/step - loss: 0.1470 - accuracy: 0.9222 - val_loss: 0.2248 - val_accuracy: 0.9076\n",
      "Epoch 80/300\n",
      "6/6 [==============================] - 2s 418ms/step - loss: 0.1496 - accuracy: 0.9386 - val_loss: 0.1799 - val_accuracy: 0.9076\n",
      "Epoch 81/300\n",
      "6/6 [==============================] - 3s 425ms/step - loss: 0.1492 - accuracy: 0.9386 - val_loss: 0.1775 - val_accuracy: 0.9022\n",
      "Epoch 82/300\n",
      "6/6 [==============================] - 3s 421ms/step - loss: 0.1446 - accuracy: 0.9427 - val_loss: 0.1976 - val_accuracy: 0.9076\n",
      "Epoch 83/300\n",
      "6/6 [==============================] - 3s 420ms/step - loss: 0.1416 - accuracy: 0.9372 - val_loss: 0.1897 - val_accuracy: 0.9076\n",
      "Epoch 84/300\n",
      "6/6 [==============================] - 2s 418ms/step - loss: 0.1392 - accuracy: 0.9400 - val_loss: 0.1922 - val_accuracy: 0.8967\n",
      "Epoch 85/300\n",
      "6/6 [==============================] - 3s 421ms/step - loss: 0.1420 - accuracy: 0.9495 - val_loss: 0.2007 - val_accuracy: 0.9076\n",
      "Epoch 86/300\n",
      "6/6 [==============================] - 3s 422ms/step - loss: 0.1420 - accuracy: 0.9427 - val_loss: 0.1791 - val_accuracy: 0.8967\n",
      "Epoch 87/300\n",
      "6/6 [==============================] - 3s 425ms/step - loss: 0.1304 - accuracy: 0.9413 - val_loss: 0.1960 - val_accuracy: 0.8913\n",
      "Epoch 88/300\n",
      "6/6 [==============================] - 3s 425ms/step - loss: 0.1322 - accuracy: 0.9482 - val_loss: 0.1862 - val_accuracy: 0.9022\n",
      "Epoch 89/300\n",
      "6/6 [==============================] - 2s 419ms/step - loss: 0.1228 - accuracy: 0.9523 - val_loss: 0.1772 - val_accuracy: 0.9130\n",
      "Epoch 90/300\n",
      "6/6 [==============================] - 3s 423ms/step - loss: 0.1224 - accuracy: 0.9386 - val_loss: 0.1778 - val_accuracy: 0.9022\n",
      "Epoch 91/300\n",
      "6/6 [==============================] - 3s 419ms/step - loss: 0.1264 - accuracy: 0.9495 - val_loss: 0.2329 - val_accuracy: 0.9130\n",
      "Epoch 92/300\n",
      "6/6 [==============================] - 3s 421ms/step - loss: 0.1283 - accuracy: 0.9523 - val_loss: 0.1698 - val_accuracy: 0.8967\n",
      "Epoch 93/300\n",
      "6/6 [==============================] - 3s 431ms/step - loss: 0.1378 - accuracy: 0.9359 - val_loss: 0.1862 - val_accuracy: 0.8967\n",
      "Epoch 94/300\n",
      "6/6 [==============================] - 3s 421ms/step - loss: 0.1169 - accuracy: 0.9441 - val_loss: 0.1990 - val_accuracy: 0.9022\n",
      "Epoch 95/300\n",
      "6/6 [==============================] - 3s 424ms/step - loss: 0.1206 - accuracy: 0.9523 - val_loss: 0.1670 - val_accuracy: 0.9076\n",
      "Epoch 96/300\n",
      "6/6 [==============================] - 3s 422ms/step - loss: 0.1351 - accuracy: 0.9454 - val_loss: 0.1954 - val_accuracy: 0.8913\n",
      "Epoch 97/300\n",
      "6/6 [==============================] - 2s 416ms/step - loss: 0.1245 - accuracy: 0.9468 - val_loss: 0.1822 - val_accuracy: 0.8967\n",
      "Epoch 98/300\n",
      "6/6 [==============================] - 3s 422ms/step - loss: 0.1187 - accuracy: 0.9495 - val_loss: 0.1768 - val_accuracy: 0.9022\n",
      "Epoch 99/300\n",
      "6/6 [==============================] - 3s 423ms/step - loss: 0.1183 - accuracy: 0.9536 - val_loss: 0.2333 - val_accuracy: 0.8967\n",
      "Epoch 100/300\n",
      "6/6 [==============================] - 3s 423ms/step - loss: 0.1299 - accuracy: 0.9468 - val_loss: 0.1891 - val_accuracy: 0.8967\n"
     ]
    }
   ],
   "source": [
    "# train model\n",
    "num_epochs = 300\n",
    "num_batch_size = 128\n",
    "\n",
    "cb = [EarlyStopping(patience=50,monitor='val_accuracy',mode='max',restore_best_weights=True),\n",
    "      ModelCheckpoint(\"./models/rr_LSTM_CNN_1.h5\",save_best_only=True,monitor='val_accuracy',mode='max')]   \n",
    "\n",
    "history = model.fit(x_train, y_train, batch_size=num_batch_size, epochs=num_epochs, validation_data=(x_test, y_test), callbacks=cb, verbose=1, shuffle=True, use_multiprocessing=True)\n",
    "\n"
   ]
  },
  {
   "cell_type": "markdown",
   "metadata": {},
   "source": [
    "# 4. Evaluvating the Model"
   ]
  },
  {
   "cell_type": "code",
   "execution_count": 39,
   "metadata": {
    "tags": []
   },
   "outputs": [],
   "source": [
    "def plot_loss_curves(history):\n",
    "  \"\"\"\n",
    "  Returns separate loss curves for training and validation metrics.\n",
    "  Args:\n",
    "    history: TensorFlow model History object (see: https://www.tensorflow.org/api_docs/python/tf/keras/callbacks/History)\n",
    "  \"\"\" \n",
    "  loss = history.history['loss']\n",
    "  val_loss = history.history['val_loss']\n",
    "\n",
    "  accuracy = history.history['accuracy']\n",
    "  val_accuracy = history.history['val_accuracy']\n",
    "\n",
    "  epochs = range(len(history.history['loss']))\n",
    "\n",
    "  # Plot loss\n",
    "  plt.plot(epochs, loss, label='training_loss')\n",
    "  plt.plot(epochs, val_loss, label='val_loss')\n",
    "  plt.title('Loss')\n",
    "  plt.xlabel('Epochs')\n",
    "  plt.legend()\n",
    "  plt.grid()\n",
    "\n",
    "\n",
    "  # Plot accuracy\n",
    "  plt.figure()\n",
    "  plt.grid()\n",
    "  plt.plot(epochs, accuracy, label='training_accuracy')\n",
    "  plt.plot(epochs, val_accuracy, label='val_accuracy')\n",
    "  plt.title('Accuracy')\n",
    "  plt.xlabel('Epochs')\n",
    "  plt.legend()\n",
    "\n",
    "plot_loss_curves(history)"
   ]
  },
  {
   "cell_type": "code",
   "execution_count": 35,
   "metadata": {
    "tags": []
   },
   "outputs": [
    {
     "name": "stdout",
     "output_type": "stream",
     "text": [
      "Training Accuracy:  0.9236016273498535\n",
      "Testing Accuracy:  0.9130434989929199\n"
     ]
    }
   ],
   "source": [
    "# Evaluating the model on the training and testing set\n",
    "score = model.evaluate(x_train, y_train, verbose=0)\n",
    "print(\"Training Accuracy: \", score[1])\n",
    "\n",
    "score = model.evaluate(x_test, y_test, verbose=0)\n",
    "print(\"Testing Accuracy: \", score[1])\n",
    "plot_loss_curves(history)\n"
   ]
  },
  {
   "cell_type": "code",
   "execution_count": 36,
   "metadata": {
    "tags": []
   },
   "outputs": [
    {
     "name": "stdout",
     "output_type": "stream",
     "text": [
      "6/6 [==============================] - 0s 31ms/step\n"
     ]
    }
   ],
   "source": [
    "preds = model.predict(x_test) # label scores \n",
    "\n",
    "classpreds = np.argmax(preds, axis=1) # predicted classes \n",
    "\n",
    "y_testclass = np.argmax(y_test, axis=1) # true classes\n",
    "\n",
    "n_classes=6 # number of classes"
   ]
  },
  {
   "cell_type": "code",
   "execution_count": 37,
   "metadata": {
    "tags": []
   },
   "outputs": [
    {
     "name": "stdout",
     "output_type": "stream",
     "text": [
      "                precision    recall  f1-score   support\n",
      "\n",
      "Bronchiectasis       1.00      1.00      1.00         3\n",
      " Bronchiolitis       0.00      0.00      0.00         3\n",
      "          COPD       0.96      0.99      0.98       159\n",
      "       Healthy       0.41      1.00      0.58         7\n",
      "     Pneumonia       0.00      0.00      0.00         7\n",
      "          URTI       0.00      0.00      0.00         5\n",
      "\n",
      "      accuracy                           0.91       184\n",
      "     macro avg       0.40      0.50      0.43       184\n",
      "  weighted avg       0.86      0.91      0.88       184\n",
      "\n"
     ]
    },
    {
     "name": "stderr",
     "output_type": "stream",
     "text": [
      "/opt/conda/lib/python3.7/site-packages/sklearn/metrics/_classification.py:1318: UndefinedMetricWarning: Precision and F-score are ill-defined and being set to 0.0 in labels with no predicted samples. Use `zero_division` parameter to control this behavior.\n",
      "  _warn_prf(average, modifier, msg_start, len(result))\n",
      "/opt/conda/lib/python3.7/site-packages/sklearn/metrics/_classification.py:1318: UndefinedMetricWarning: Precision and F-score are ill-defined and being set to 0.0 in labels with no predicted samples. Use `zero_division` parameter to control this behavior.\n",
      "  _warn_prf(average, modifier, msg_start, len(result))\n",
      "/opt/conda/lib/python3.7/site-packages/sklearn/metrics/_classification.py:1318: UndefinedMetricWarning: Precision and F-score are ill-defined and being set to 0.0 in labels with no predicted samples. Use `zero_division` parameter to control this behavior.\n",
      "  _warn_prf(average, modifier, msg_start, len(result))\n"
     ]
    }
   ],
   "source": [
    "# Classification Report\n",
    "c_names = ['Bronchiectasis', 'Bronchiolitis', 'COPD', 'Healthy', 'Pneumonia', 'URTI']\n",
    "print(classification_report(y_testclass, classpreds, target_names=c_names))"
   ]
  },
  {
   "cell_type": "code",
   "execution_count": 38,
   "metadata": {
    "tags": []
   },
   "outputs": [
    {
     "data": {
      "text/plain": [
       "<AxesSubplot:>"
      ]
     },
     "execution_count": 38,
     "metadata": {},
     "output_type": "execute_result"
    }
   ],
   "source": [
    "# Confusion Matrix\n",
    "confusion = confusion_matrix(y_testclass, classpreds)\n",
    "df_com = pd.DataFrame(confusion, index=c_names, columns=c_names)\n",
    "plt.figure(figsize=(10, 8))\n",
    "sns.heatmap(df_com, annot=True, fmt='g', cmap='Blues')"
   ]
  },
  {
   "cell_type": "code",
   "execution_count": null,
   "metadata": {},
   "outputs": [],
   "source": []
  }
 ],
 "metadata": {
  "availableInstances": [
   {
    "_defaultOrder": 0,
    "_isFastLaunch": true,
    "category": "General purpose",
    "gpuNum": 0,
    "memoryGiB": 4,
    "name": "ml.t3.medium",
    "vcpuNum": 2
   },
   {
    "_defaultOrder": 1,
    "_isFastLaunch": false,
    "category": "General purpose",
    "gpuNum": 0,
    "memoryGiB": 8,
    "name": "ml.t3.large",
    "vcpuNum": 2
   },
   {
    "_defaultOrder": 2,
    "_isFastLaunch": false,
    "category": "General purpose",
    "gpuNum": 0,
    "memoryGiB": 16,
    "name": "ml.t3.xlarge",
    "vcpuNum": 4
   },
   {
    "_defaultOrder": 3,
    "_isFastLaunch": false,
    "category": "General purpose",
    "gpuNum": 0,
    "memoryGiB": 32,
    "name": "ml.t3.2xlarge",
    "vcpuNum": 8
   },
   {
    "_defaultOrder": 4,
    "_isFastLaunch": true,
    "category": "General purpose",
    "gpuNum": 0,
    "memoryGiB": 8,
    "name": "ml.m5.large",
    "vcpuNum": 2
   },
   {
    "_defaultOrder": 5,
    "_isFastLaunch": false,
    "category": "General purpose",
    "gpuNum": 0,
    "memoryGiB": 16,
    "name": "ml.m5.xlarge",
    "vcpuNum": 4
   },
   {
    "_defaultOrder": 6,
    "_isFastLaunch": false,
    "category": "General purpose",
    "gpuNum": 0,
    "memoryGiB": 32,
    "name": "ml.m5.2xlarge",
    "vcpuNum": 8
   },
   {
    "_defaultOrder": 7,
    "_isFastLaunch": false,
    "category": "General purpose",
    "gpuNum": 0,
    "memoryGiB": 64,
    "name": "ml.m5.4xlarge",
    "vcpuNum": 16
   },
   {
    "_defaultOrder": 8,
    "_isFastLaunch": false,
    "category": "General purpose",
    "gpuNum": 0,
    "memoryGiB": 128,
    "name": "ml.m5.8xlarge",
    "vcpuNum": 32
   },
   {
    "_defaultOrder": 9,
    "_isFastLaunch": false,
    "category": "General purpose",
    "gpuNum": 0,
    "memoryGiB": 192,
    "name": "ml.m5.12xlarge",
    "vcpuNum": 48
   },
   {
    "_defaultOrder": 10,
    "_isFastLaunch": false,
    "category": "General purpose",
    "gpuNum": 0,
    "memoryGiB": 256,
    "name": "ml.m5.16xlarge",
    "vcpuNum": 64
   },
   {
    "_defaultOrder": 11,
    "_isFastLaunch": false,
    "category": "General purpose",
    "gpuNum": 0,
    "memoryGiB": 384,
    "name": "ml.m5.24xlarge",
    "vcpuNum": 96
   },
   {
    "_defaultOrder": 12,
    "_isFastLaunch": false,
    "category": "General purpose",
    "gpuNum": 0,
    "memoryGiB": 8,
    "name": "ml.m5d.large",
    "vcpuNum": 2
   },
   {
    "_defaultOrder": 13,
    "_isFastLaunch": false,
    "category": "General purpose",
    "gpuNum": 0,
    "memoryGiB": 16,
    "name": "ml.m5d.xlarge",
    "vcpuNum": 4
   },
   {
    "_defaultOrder": 14,
    "_isFastLaunch": false,
    "category": "General purpose",
    "gpuNum": 0,
    "memoryGiB": 32,
    "name": "ml.m5d.2xlarge",
    "vcpuNum": 8
   },
   {
    "_defaultOrder": 15,
    "_isFastLaunch": false,
    "category": "General purpose",
    "gpuNum": 0,
    "memoryGiB": 64,
    "name": "ml.m5d.4xlarge",
    "vcpuNum": 16
   },
   {
    "_defaultOrder": 16,
    "_isFastLaunch": false,
    "category": "General purpose",
    "gpuNum": 0,
    "memoryGiB": 128,
    "name": "ml.m5d.8xlarge",
    "vcpuNum": 32
   },
   {
    "_defaultOrder": 17,
    "_isFastLaunch": false,
    "category": "General purpose",
    "gpuNum": 0,
    "memoryGiB": 192,
    "name": "ml.m5d.12xlarge",
    "vcpuNum": 48
   },
   {
    "_defaultOrder": 18,
    "_isFastLaunch": false,
    "category": "General purpose",
    "gpuNum": 0,
    "memoryGiB": 256,
    "name": "ml.m5d.16xlarge",
    "vcpuNum": 64
   },
   {
    "_defaultOrder": 19,
    "_isFastLaunch": false,
    "category": "General purpose",
    "gpuNum": 0,
    "memoryGiB": 384,
    "name": "ml.m5d.24xlarge",
    "vcpuNum": 96
   },
   {
    "_defaultOrder": 20,
    "_isFastLaunch": true,
    "category": "Compute optimized",
    "gpuNum": 0,
    "memoryGiB": 4,
    "name": "ml.c5.large",
    "vcpuNum": 2
   },
   {
    "_defaultOrder": 21,
    "_isFastLaunch": false,
    "category": "Compute optimized",
    "gpuNum": 0,
    "memoryGiB": 8,
    "name": "ml.c5.xlarge",
    "vcpuNum": 4
   },
   {
    "_defaultOrder": 22,
    "_isFastLaunch": false,
    "category": "Compute optimized",
    "gpuNum": 0,
    "memoryGiB": 16,
    "name": "ml.c5.2xlarge",
    "vcpuNum": 8
   },
   {
    "_defaultOrder": 23,
    "_isFastLaunch": false,
    "category": "Compute optimized",
    "gpuNum": 0,
    "memoryGiB": 32,
    "name": "ml.c5.4xlarge",
    "vcpuNum": 16
   },
   {
    "_defaultOrder": 24,
    "_isFastLaunch": false,
    "category": "Compute optimized",
    "gpuNum": 0,
    "memoryGiB": 72,
    "name": "ml.c5.9xlarge",
    "vcpuNum": 36
   },
   {
    "_defaultOrder": 25,
    "_isFastLaunch": false,
    "category": "Compute optimized",
    "gpuNum": 0,
    "memoryGiB": 96,
    "name": "ml.c5.12xlarge",
    "vcpuNum": 48
   },
   {
    "_defaultOrder": 26,
    "_isFastLaunch": false,
    "category": "Compute optimized",
    "gpuNum": 0,
    "memoryGiB": 144,
    "name": "ml.c5.18xlarge",
    "vcpuNum": 72
   },
   {
    "_defaultOrder": 27,
    "_isFastLaunch": false,
    "category": "Compute optimized",
    "gpuNum": 0,
    "memoryGiB": 192,
    "name": "ml.c5.24xlarge",
    "vcpuNum": 96
   },
   {
    "_defaultOrder": 28,
    "_isFastLaunch": true,
    "category": "Accelerated computing",
    "gpuNum": 1,
    "memoryGiB": 16,
    "name": "ml.g4dn.xlarge",
    "vcpuNum": 4
   },
   {
    "_defaultOrder": 29,
    "_isFastLaunch": false,
    "category": "Accelerated computing",
    "gpuNum": 1,
    "memoryGiB": 32,
    "name": "ml.g4dn.2xlarge",
    "vcpuNum": 8
   },
   {
    "_defaultOrder": 30,
    "_isFastLaunch": false,
    "category": "Accelerated computing",
    "gpuNum": 1,
    "memoryGiB": 64,
    "name": "ml.g4dn.4xlarge",
    "vcpuNum": 16
   },
   {
    "_defaultOrder": 31,
    "_isFastLaunch": false,
    "category": "Accelerated computing",
    "gpuNum": 1,
    "memoryGiB": 128,
    "name": "ml.g4dn.8xlarge",
    "vcpuNum": 32
   },
   {
    "_defaultOrder": 32,
    "_isFastLaunch": false,
    "category": "Accelerated computing",
    "gpuNum": 4,
    "memoryGiB": 192,
    "name": "ml.g4dn.12xlarge",
    "vcpuNum": 48
   },
   {
    "_defaultOrder": 33,
    "_isFastLaunch": false,
    "category": "Accelerated computing",
    "gpuNum": 1,
    "memoryGiB": 256,
    "name": "ml.g4dn.16xlarge",
    "vcpuNum": 64
   },
   {
    "_defaultOrder": 34,
    "_isFastLaunch": false,
    "category": "Accelerated computing",
    "gpuNum": 1,
    "memoryGiB": 61,
    "name": "ml.p3.2xlarge",
    "vcpuNum": 8
   },
   {
    "_defaultOrder": 35,
    "_isFastLaunch": false,
    "category": "Accelerated computing",
    "gpuNum": 4,
    "memoryGiB": 244,
    "name": "ml.p3.8xlarge",
    "vcpuNum": 32
   },
   {
    "_defaultOrder": 36,
    "_isFastLaunch": false,
    "category": "Accelerated computing",
    "gpuNum": 8,
    "memoryGiB": 488,
    "name": "ml.p3.16xlarge",
    "vcpuNum": 64
   },
   {
    "_defaultOrder": 37,
    "_isFastLaunch": false,
    "category": "Accelerated computing",
    "gpuNum": 8,
    "memoryGiB": 768,
    "name": "ml.p3dn.24xlarge",
    "vcpuNum": 96
   },
   {
    "_defaultOrder": 38,
    "_isFastLaunch": false,
    "category": "Memory Optimized",
    "gpuNum": 0,
    "memoryGiB": 16,
    "name": "ml.r5.large",
    "vcpuNum": 2
   },
   {
    "_defaultOrder": 39,
    "_isFastLaunch": false,
    "category": "Memory Optimized",
    "gpuNum": 0,
    "memoryGiB": 32,
    "name": "ml.r5.xlarge",
    "vcpuNum": 4
   },
   {
    "_defaultOrder": 40,
    "_isFastLaunch": false,
    "category": "Memory Optimized",
    "gpuNum": 0,
    "memoryGiB": 64,
    "name": "ml.r5.2xlarge",
    "vcpuNum": 8
   },
   {
    "_defaultOrder": 41,
    "_isFastLaunch": false,
    "category": "Memory Optimized",
    "gpuNum": 0,
    "memoryGiB": 128,
    "name": "ml.r5.4xlarge",
    "vcpuNum": 16
   },
   {
    "_defaultOrder": 42,
    "_isFastLaunch": false,
    "category": "Memory Optimized",
    "gpuNum": 0,
    "memoryGiB": 256,
    "name": "ml.r5.8xlarge",
    "vcpuNum": 32
   },
   {
    "_defaultOrder": 43,
    "_isFastLaunch": false,
    "category": "Memory Optimized",
    "gpuNum": 0,
    "memoryGiB": 384,
    "name": "ml.r5.12xlarge",
    "vcpuNum": 48
   },
   {
    "_defaultOrder": 44,
    "_isFastLaunch": false,
    "category": "Memory Optimized",
    "gpuNum": 0,
    "memoryGiB": 512,
    "name": "ml.r5.16xlarge",
    "vcpuNum": 64
   },
   {
    "_defaultOrder": 45,
    "_isFastLaunch": false,
    "category": "Memory Optimized",
    "gpuNum": 0,
    "memoryGiB": 768,
    "name": "ml.r5.24xlarge",
    "vcpuNum": 96
   },
   {
    "_defaultOrder": 46,
    "_isFastLaunch": false,
    "category": "Accelerated computing",
    "gpuNum": 1,
    "memoryGiB": 16,
    "name": "ml.g5.xlarge",
    "vcpuNum": 4
   },
   {
    "_defaultOrder": 47,
    "_isFastLaunch": false,
    "category": "Accelerated computing",
    "gpuNum": 1,
    "memoryGiB": 32,
    "name": "ml.g5.2xlarge",
    "vcpuNum": 8
   },
   {
    "_defaultOrder": 48,
    "_isFastLaunch": false,
    "category": "Accelerated computing",
    "gpuNum": 1,
    "memoryGiB": 64,
    "name": "ml.g5.4xlarge",
    "vcpuNum": 16
   },
   {
    "_defaultOrder": 49,
    "_isFastLaunch": false,
    "category": "Accelerated computing",
    "gpuNum": 1,
    "memoryGiB": 128,
    "name": "ml.g5.8xlarge",
    "vcpuNum": 32
   },
   {
    "_defaultOrder": 50,
    "_isFastLaunch": false,
    "category": "Accelerated computing",
    "gpuNum": 1,
    "memoryGiB": 256,
    "name": "ml.g5.16xlarge",
    "vcpuNum": 64
   },
   {
    "_defaultOrder": 51,
    "_isFastLaunch": false,
    "category": "Accelerated computing",
    "gpuNum": 4,
    "memoryGiB": 192,
    "name": "ml.g5.12xlarge",
    "vcpuNum": 48
   },
   {
    "_defaultOrder": 52,
    "_isFastLaunch": false,
    "category": "Accelerated computing",
    "gpuNum": 4,
    "memoryGiB": 384,
    "name": "ml.g5.24xlarge",
    "vcpuNum": 96
   },
   {
    "_defaultOrder": 53,
    "_isFastLaunch": false,
    "category": "Accelerated computing",
    "gpuNum": 8,
    "memoryGiB": 768,
    "name": "ml.g5.48xlarge",
    "vcpuNum": 192
   }
  ],
  "instance_type": "ml.m5.4xlarge",
  "kernelspec": {
   "display_name": "Python 3 (Data Science)",
   "language": "python",
   "name": "python3__SAGEMAKER_INTERNAL__arn:aws:sagemaker:ap-southeast-1:492261229750:image/datascience-1.0"
  },
  "language_info": {
   "codemirror_mode": {
    "name": "ipython",
    "version": 3
   },
   "file_extension": ".py",
   "mimetype": "text/x-python",
   "name": "python",
   "nbconvert_exporter": "python",
   "pygments_lexer": "ipython3",
   "version": "3.7.10"
  }
 },
 "nbformat": 4,
 "nbformat_minor": 4
}
